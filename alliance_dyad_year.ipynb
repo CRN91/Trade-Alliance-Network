{
 "cells": [
  {
   "cell_type": "code",
   "execution_count": 1,
   "metadata": {
    "collapsed": true
   },
   "outputs": [],
   "source": [
    "import pandas as pd\n",
    "import numpy as np\n",
    "import matplotlib.pyplot as plt\n",
    "import seaborn as sns\n",
    "from sklearn.model_selection import train_test_split\n",
    "from sklearn.linear_model import LinearRegression\n",
    "from sklearn.metrics import mean_squared_error"
   ]
  },
  {
   "cell_type": "code",
   "execution_count": 2,
   "outputs": [],
   "source": [
    "#ally_direct = pd.read_csv(\"./alliances/alliance_v4.1_by_directed.csv\")\n",
    "#ally_direct_year = pd.read_csv(\"/alliances/alliance_v4.1_by_directed_yearly.csv\")\n",
    "#ally_dyad = pd.read_csv(\"./alliances/alliance_v4.1_by_dyad.csv\")\n",
    "ally_dyad_year = pd.read_csv(\"./alliances/alliance_v4.1_by_dyad_yearly.csv\")\n",
    "#ally_member = pd.read_csv(\"/alliances/alliance_v4.1_by_member.csv\")\n",
    "#ally_member_year = pd.read_csv(\"/alliances/alliance_v4.1_by_member_yearly.csv\")"
   ],
   "metadata": {
    "collapsed": false
   }
  },
  {
   "cell_type": "markdown",
   "source": [],
   "metadata": {
    "collapsed": false
   }
  },
  {
   "cell_type": "code",
   "execution_count": 3,
   "outputs": [
    {
     "name": "stdout",
     "output_type": "stream",
     "text": [
      "<class 'pandas.core.frame.DataFrame'>\n",
      "RangeIndex: 74129 entries, 0 to 74128\n",
      "Data columns (total 19 columns):\n",
      " #   Column          Non-Null Count  Dtype  \n",
      "---  ------          --------------  -----  \n",
      " 0   version4id      74129 non-null  int64  \n",
      " 1   ccode1          74129 non-null  int64  \n",
      " 2   state_name1     74129 non-null  object \n",
      " 3   ccode2          74129 non-null  int64  \n",
      " 4   state_name2     74129 non-null  object \n",
      " 5   dyad_st_day     74129 non-null  int64  \n",
      " 6   dyad_st_month   74129 non-null  int64  \n",
      " 7   dyad_st_year    74129 non-null  int64  \n",
      " 8   dyad_end_day    16354 non-null  float64\n",
      " 9   dyad_end_month  16354 non-null  float64\n",
      " 10  dyad_end_year   74129 non-null  int64  \n",
      " 11  left_censor     74129 non-null  int64  \n",
      " 12  right_censor    74129 non-null  int64  \n",
      " 13  defense         74129 non-null  int64  \n",
      " 14  neutrality      74129 non-null  int64  \n",
      " 15  nonaggression   74108 non-null  float64\n",
      " 16  entente         74117 non-null  float64\n",
      " 17  year            74129 non-null  int64  \n",
      " 18  version         74129 non-null  float64\n",
      "dtypes: float64(5), int64(12), object(2)\n",
      "memory usage: 10.7+ MB\n"
     ]
    },
    {
     "data": {
      "text/plain": "   version4id  ccode1     state_name1  ccode2 state_name2  dyad_st_day  \\\n0           1     200  United Kingdom     235    Portugal            1   \n1           1     200  United Kingdom     235    Portugal            1   \n2           1     200  United Kingdom     235    Portugal            1   \n3           1     200  United Kingdom     235    Portugal            1   \n4           1     200  United Kingdom     235    Portugal            1   \n\n   dyad_st_month  dyad_st_year  dyad_end_day  dyad_end_month  dyad_end_year  \\\n0              1          1816           NaN             NaN           2012   \n1              1          1816           NaN             NaN           2012   \n2              1          1816           NaN             NaN           2012   \n3              1          1816           NaN             NaN           2012   \n4              1          1816           NaN             NaN           2012   \n\n   left_censor  right_censor  defense  neutrality  nonaggression  entente  \\\n0            1             1        1           0            1.0      0.0   \n1            1             1        1           0            1.0      0.0   \n2            1             1        1           0            1.0      0.0   \n3            1             1        1           0            1.0      0.0   \n4            1             1        1           0            1.0      0.0   \n\n   year  version  \n0  1816      4.1  \n1  1817      4.1  \n2  1818      4.1  \n3  1819      4.1  \n4  1820      4.1  ",
      "text/html": "<div>\n<style scoped>\n    .dataframe tbody tr th:only-of-type {\n        vertical-align: middle;\n    }\n\n    .dataframe tbody tr th {\n        vertical-align: top;\n    }\n\n    .dataframe thead th {\n        text-align: right;\n    }\n</style>\n<table border=\"1\" class=\"dataframe\">\n  <thead>\n    <tr style=\"text-align: right;\">\n      <th></th>\n      <th>version4id</th>\n      <th>ccode1</th>\n      <th>state_name1</th>\n      <th>ccode2</th>\n      <th>state_name2</th>\n      <th>dyad_st_day</th>\n      <th>dyad_st_month</th>\n      <th>dyad_st_year</th>\n      <th>dyad_end_day</th>\n      <th>dyad_end_month</th>\n      <th>dyad_end_year</th>\n      <th>left_censor</th>\n      <th>right_censor</th>\n      <th>defense</th>\n      <th>neutrality</th>\n      <th>nonaggression</th>\n      <th>entente</th>\n      <th>year</th>\n      <th>version</th>\n    </tr>\n  </thead>\n  <tbody>\n    <tr>\n      <th>0</th>\n      <td>1</td>\n      <td>200</td>\n      <td>United Kingdom</td>\n      <td>235</td>\n      <td>Portugal</td>\n      <td>1</td>\n      <td>1</td>\n      <td>1816</td>\n      <td>NaN</td>\n      <td>NaN</td>\n      <td>2012</td>\n      <td>1</td>\n      <td>1</td>\n      <td>1</td>\n      <td>0</td>\n      <td>1.0</td>\n      <td>0.0</td>\n      <td>1816</td>\n      <td>4.1</td>\n    </tr>\n    <tr>\n      <th>1</th>\n      <td>1</td>\n      <td>200</td>\n      <td>United Kingdom</td>\n      <td>235</td>\n      <td>Portugal</td>\n      <td>1</td>\n      <td>1</td>\n      <td>1816</td>\n      <td>NaN</td>\n      <td>NaN</td>\n      <td>2012</td>\n      <td>1</td>\n      <td>1</td>\n      <td>1</td>\n      <td>0</td>\n      <td>1.0</td>\n      <td>0.0</td>\n      <td>1817</td>\n      <td>4.1</td>\n    </tr>\n    <tr>\n      <th>2</th>\n      <td>1</td>\n      <td>200</td>\n      <td>United Kingdom</td>\n      <td>235</td>\n      <td>Portugal</td>\n      <td>1</td>\n      <td>1</td>\n      <td>1816</td>\n      <td>NaN</td>\n      <td>NaN</td>\n      <td>2012</td>\n      <td>1</td>\n      <td>1</td>\n      <td>1</td>\n      <td>0</td>\n      <td>1.0</td>\n      <td>0.0</td>\n      <td>1818</td>\n      <td>4.1</td>\n    </tr>\n    <tr>\n      <th>3</th>\n      <td>1</td>\n      <td>200</td>\n      <td>United Kingdom</td>\n      <td>235</td>\n      <td>Portugal</td>\n      <td>1</td>\n      <td>1</td>\n      <td>1816</td>\n      <td>NaN</td>\n      <td>NaN</td>\n      <td>2012</td>\n      <td>1</td>\n      <td>1</td>\n      <td>1</td>\n      <td>0</td>\n      <td>1.0</td>\n      <td>0.0</td>\n      <td>1819</td>\n      <td>4.1</td>\n    </tr>\n    <tr>\n      <th>4</th>\n      <td>1</td>\n      <td>200</td>\n      <td>United Kingdom</td>\n      <td>235</td>\n      <td>Portugal</td>\n      <td>1</td>\n      <td>1</td>\n      <td>1816</td>\n      <td>NaN</td>\n      <td>NaN</td>\n      <td>2012</td>\n      <td>1</td>\n      <td>1</td>\n      <td>1</td>\n      <td>0</td>\n      <td>1.0</td>\n      <td>0.0</td>\n      <td>1820</td>\n      <td>4.1</td>\n    </tr>\n  </tbody>\n</table>\n</div>"
     },
     "execution_count": 3,
     "metadata": {},
     "output_type": "execute_result"
    }
   ],
   "source": [
    "ally_dyad_year.info()\n",
    "ally_dyad_year.head()"
   ],
   "metadata": {
    "collapsed": false
   }
  },
  {
   "cell_type": "code",
   "execution_count": 4,
   "outputs": [
    {
     "data": {
      "text/plain": "       version4id  ccode1               state_name1  ccode2 state_name2  \\\n74124         414       2  United States of America     666      Israel   \n74125         414       2  United States of America     666      Israel   \n74126         414       2  United States of America     666      Israel   \n74127         414       2  United States of America     666      Israel   \n74128         414       2  United States of America     666      Israel   \n\n       dyad_st_day  dyad_st_month  dyad_st_year  dyad_end_day  dyad_end_month  \\\n74124           30             11          1987          26.0            12.0   \n74125           30             11          1988          26.0            12.0   \n74126           30             11          1989          26.0            12.0   \n74127           30             11          1990          26.0            12.0   \n74128           30             11          1991          26.0            12.0   \n\n       dyad_end_year  left_censor  right_censor  defense  neutrality  \\\n74124           1991            0             0        0           0   \n74125           1991            0             0        0           0   \n74126           1991            0             0        0           0   \n74127           1991            0             0        0           0   \n74128           1991            0             0        0           0   \n\n       nonaggression  entente  year  version  \n74124            0.0      1.0     0      4.1  \n74125            0.0      1.0     0      4.1  \n74126            0.0      1.0     0      4.1  \n74127            0.0      1.0     0      4.1  \n74128            0.0      1.0     0      4.1  ",
      "text/html": "<div>\n<style scoped>\n    .dataframe tbody tr th:only-of-type {\n        vertical-align: middle;\n    }\n\n    .dataframe tbody tr th {\n        vertical-align: top;\n    }\n\n    .dataframe thead th {\n        text-align: right;\n    }\n</style>\n<table border=\"1\" class=\"dataframe\">\n  <thead>\n    <tr style=\"text-align: right;\">\n      <th></th>\n      <th>version4id</th>\n      <th>ccode1</th>\n      <th>state_name1</th>\n      <th>ccode2</th>\n      <th>state_name2</th>\n      <th>dyad_st_day</th>\n      <th>dyad_st_month</th>\n      <th>dyad_st_year</th>\n      <th>dyad_end_day</th>\n      <th>dyad_end_month</th>\n      <th>dyad_end_year</th>\n      <th>left_censor</th>\n      <th>right_censor</th>\n      <th>defense</th>\n      <th>neutrality</th>\n      <th>nonaggression</th>\n      <th>entente</th>\n      <th>year</th>\n      <th>version</th>\n    </tr>\n  </thead>\n  <tbody>\n    <tr>\n      <th>74124</th>\n      <td>414</td>\n      <td>2</td>\n      <td>United States of America</td>\n      <td>666</td>\n      <td>Israel</td>\n      <td>30</td>\n      <td>11</td>\n      <td>1987</td>\n      <td>26.0</td>\n      <td>12.0</td>\n      <td>1991</td>\n      <td>0</td>\n      <td>0</td>\n      <td>0</td>\n      <td>0</td>\n      <td>0.0</td>\n      <td>1.0</td>\n      <td>0</td>\n      <td>4.1</td>\n    </tr>\n    <tr>\n      <th>74125</th>\n      <td>414</td>\n      <td>2</td>\n      <td>United States of America</td>\n      <td>666</td>\n      <td>Israel</td>\n      <td>30</td>\n      <td>11</td>\n      <td>1988</td>\n      <td>26.0</td>\n      <td>12.0</td>\n      <td>1991</td>\n      <td>0</td>\n      <td>0</td>\n      <td>0</td>\n      <td>0</td>\n      <td>0.0</td>\n      <td>1.0</td>\n      <td>0</td>\n      <td>4.1</td>\n    </tr>\n    <tr>\n      <th>74126</th>\n      <td>414</td>\n      <td>2</td>\n      <td>United States of America</td>\n      <td>666</td>\n      <td>Israel</td>\n      <td>30</td>\n      <td>11</td>\n      <td>1989</td>\n      <td>26.0</td>\n      <td>12.0</td>\n      <td>1991</td>\n      <td>0</td>\n      <td>0</td>\n      <td>0</td>\n      <td>0</td>\n      <td>0.0</td>\n      <td>1.0</td>\n      <td>0</td>\n      <td>4.1</td>\n    </tr>\n    <tr>\n      <th>74127</th>\n      <td>414</td>\n      <td>2</td>\n      <td>United States of America</td>\n      <td>666</td>\n      <td>Israel</td>\n      <td>30</td>\n      <td>11</td>\n      <td>1990</td>\n      <td>26.0</td>\n      <td>12.0</td>\n      <td>1991</td>\n      <td>0</td>\n      <td>0</td>\n      <td>0</td>\n      <td>0</td>\n      <td>0.0</td>\n      <td>1.0</td>\n      <td>0</td>\n      <td>4.1</td>\n    </tr>\n    <tr>\n      <th>74128</th>\n      <td>414</td>\n      <td>2</td>\n      <td>United States of America</td>\n      <td>666</td>\n      <td>Israel</td>\n      <td>30</td>\n      <td>11</td>\n      <td>1991</td>\n      <td>26.0</td>\n      <td>12.0</td>\n      <td>1991</td>\n      <td>0</td>\n      <td>0</td>\n      <td>0</td>\n      <td>0</td>\n      <td>0.0</td>\n      <td>1.0</td>\n      <td>0</td>\n      <td>4.1</td>\n    </tr>\n  </tbody>\n</table>\n</div>"
     },
     "execution_count": 4,
     "metadata": {},
     "output_type": "execute_result"
    }
   ],
   "source": [
    "ally_dyad_year.tail()"
   ],
   "metadata": {
    "collapsed": false
   }
  },
  {
   "cell_type": "code",
   "execution_count": 5,
   "outputs": [
    {
     "data": {
      "text/plain": "version4id            0\nccode1                0\nstate_name1           0\nccode2                0\nstate_name2           0\ndyad_st_day           0\ndyad_st_month         0\ndyad_st_year          0\ndyad_end_day      57775\ndyad_end_month    57775\ndyad_end_year         0\nleft_censor           0\nright_censor          0\ndefense               0\nneutrality            0\nnonaggression        21\nentente              12\nyear                  0\nversion               0\ndtype: int64"
     },
     "execution_count": 5,
     "metadata": {},
     "output_type": "execute_result"
    }
   ],
   "source": [
    "ally_dyad_year.isnull().sum()"
   ],
   "metadata": {
    "collapsed": false
   }
  },
  {
   "cell_type": "code",
   "execution_count": 18,
   "outputs": [
    {
     "name": "stdout",
     "output_type": "stream",
     "text": [
      "There are 142 states in the year 2012 that have 97 alliances between themselves.\n"
     ]
    }
   ],
   "source": [
    "year = 2012\n",
    "year_specific_df = ally_dyad_year[ally_dyad_year['year']==year]\n",
    "print(\"There are\", pd.concat((year_specific_df['ccode1'],year_specific_df['ccode2'])).nunique(),\"states in the year\",year,\"that have\",year_specific_df['version4id'].nunique(),\"alliances between themselves.\")"
   ],
   "metadata": {
    "collapsed": false
   }
  },
  {
   "cell_type": "code",
   "execution_count": 6,
   "outputs": [
    {
     "name": "stdout",
     "output_type": "stream",
     "text": [
      "Number of  United Kingdom  alliances in  2012 :  26\n"
     ]
    }
   ],
   "source": [
    "# We can find all the alliances of a particular country in a particular year\n",
    "\n",
    "# For example the UK in the year 2005\n",
    "ccode = 200\n",
    "year = 2012\n",
    "country_year = ally_dyad_year[(ally_dyad_year['ccode1'] == ccode) & (ally_dyad_year['year'] == year)]\n",
    "\n",
    "# Display the filtered DataFrame\n",
    "#print(country_year)\n",
    "print('Number of ', ally_dyad_year[ally_dyad_year['ccode1'] == ccode]['state_name1'].values[0], ' alliances in ', year, ': ', len(country_year))\n"
   ],
   "metadata": {
    "collapsed": false
   }
  },
  {
   "cell_type": "code",
   "execution_count": 7,
   "outputs": [],
   "source": [
    "# Finding each country's alliance per year\n",
    "\n",
    "# Reading in COW country codes\n",
    "file_path = './alliances/COW-country-codes.csv'\n",
    "# For some reason the COW codes have duplicates\n",
    "ccodes_df = pd.read_csv(file_path).drop_duplicates()\n",
    "\n",
    "# Looping through each country and storing their number of alliances\n",
    "new_entries = []\n",
    "defense = 0\n",
    "neutrality = 0\n",
    "nonaggression = 0\n",
    "entente = 0\n",
    "\n",
    "for year in range (2000, 2013):\n",
    "    for index, row in ccodes_df.iterrows():\n",
    "        # Filtered dataframe for that country and year\n",
    "        filtered_df = ally_dyad_year[(ally_dyad_year['ccode1'] == row['CCode']) &(ally_dyad_year['year'] == year)]\n",
    "\n",
    "        defense = filtered_df['defense'].sum()\n",
    "        neutrality = filtered_df['neutrality'].sum()\n",
    "        nonaggression = filtered_df['nonaggression'].sum()\n",
    "        entente = filtered_df['entente'].sum()\n",
    "\n",
    "        new_entries.append({'ccode':row['CCode'], 'name':row['StateNme'], 'year':year, 'defense': defense, 'neutrality': neutrality, 'nonaggression': nonaggression, 'entente':entente, 'total':defense+neutrality+nonaggression+entente, 'score': (defense*4)+(neutrality*3)+(nonaggression*2)+entente})\n",
    "\n",
    "member_year = pd.DataFrame()\n",
    "member_year = pd.concat([member_year, pd.DataFrame(new_entries)], ignore_index=True)"
   ],
   "metadata": {
    "collapsed": false
   }
  },
  {
   "cell_type": "code",
   "execution_count": 8,
   "outputs": [
    {
     "name": "stdout",
     "output_type": "stream",
     "text": [
      "<class 'pandas.core.frame.DataFrame'>\n",
      "RangeIndex: 2821 entries, 0 to 2820\n",
      "Data columns (total 9 columns):\n",
      " #   Column         Non-Null Count  Dtype  \n",
      "---  ------         --------------  -----  \n",
      " 0   ccode          2821 non-null   int64  \n",
      " 1   name           2821 non-null   object \n",
      " 2   year           2821 non-null   int64  \n",
      " 3   defense        2821 non-null   int64  \n",
      " 4   neutrality     2821 non-null   int64  \n",
      " 5   nonaggression  2821 non-null   float64\n",
      " 6   entente        2821 non-null   float64\n",
      " 7   total          2821 non-null   float64\n",
      " 8   score          2821 non-null   float64\n",
      "dtypes: float64(4), int64(4), object(1)\n",
      "memory usage: 198.5+ KB\n"
     ]
    },
    {
     "data": {
      "text/plain": "    ccode                            name  year  defense  neutrality  \\\n0       2        United States of America  2000       58           0   \n1      20                          Canada  2000       49           1   \n2      31                         Bahamas  2000       31           0   \n3      40                            Cuba  2000        0           0   \n4      41                           Haiti  2000       30           0   \n5      42              Dominican Republic  2000       29           0   \n6      51                         Jamaica  2000       28           0   \n7      52             Trinidad and Tobago  2000       27           0   \n8      53                        Barbados  2000       32           0   \n9      54                        Dominica  2000       34           0   \n10     55                         Grenada  2000       28           0   \n11     56                       St. Lucia  2000       29           0   \n12     57  St. Vincent and the Grenadines  2000       26           0   \n13     58               Antigua & Barbuda  2000       23           0   \n14     60             St. Kitts and Nevis  2000       20           0   \n15     70                          Mexico  2000       19           0   \n16     80                          Belize  2000       18           0   \n17     90                       Guatemala  2000       17           0   \n18     91                        Honduras  2000       16           0   \n19     92                     El Salvador  2000       15           0   \n20     93                       Nicaragua  2000       14           0   \n21     94                      Costa Rica  2000       13           0   \n22     95                          Panama  2000       12           0   \n23    100                        Colombia  2000       11           0   \n24    101                       Venezuela  2000       10           0   \n25    110                          Guyana  2000        9           0   \n26    115                        Suriname  2000        8           0   \n27    130                         Ecuador  2000        7           1   \n\n    nonaggression  entente  total  score  \n0            52.0     54.0  164.0  390.0  \n1            50.0     49.0  149.0  348.0  \n2            31.0     31.0   93.0  217.0  \n3             0.0      0.0    0.0    0.0  \n4            30.0     30.0   90.0  210.0  \n5            29.0     29.0   87.0  203.0  \n6            28.0     28.0   84.0  196.0  \n7             0.0     27.0   54.0  135.0  \n8            26.0     26.0   84.0  206.0  \n9            25.0     25.0   84.0  211.0  \n10           24.0     24.0   76.0  184.0  \n11           23.0     23.0   75.0  185.0  \n12           22.0     22.0   70.0  170.0  \n13           21.0     21.0   65.0  155.0  \n14           20.0     20.0   60.0  140.0  \n15           19.0     19.0   57.0  133.0  \n16           18.0     18.0   54.0  126.0  \n17           17.0     17.0   51.0  119.0  \n18           16.0     16.0   48.0  112.0  \n19           15.0     15.0   45.0  105.0  \n20           14.0     14.0   42.0   98.0  \n21           13.0     13.0   39.0   91.0  \n22           12.0     12.0   36.0   84.0  \n23           12.0     11.0   34.0   79.0  \n24           10.0     10.0   30.0   70.0  \n25            9.0      9.0   27.0   63.0  \n26            8.0      8.0   24.0   56.0  \n27            1.0      7.0   16.0   40.0  ",
      "text/html": "<div>\n<style scoped>\n    .dataframe tbody tr th:only-of-type {\n        vertical-align: middle;\n    }\n\n    .dataframe tbody tr th {\n        vertical-align: top;\n    }\n\n    .dataframe thead th {\n        text-align: right;\n    }\n</style>\n<table border=\"1\" class=\"dataframe\">\n  <thead>\n    <tr style=\"text-align: right;\">\n      <th></th>\n      <th>ccode</th>\n      <th>name</th>\n      <th>year</th>\n      <th>defense</th>\n      <th>neutrality</th>\n      <th>nonaggression</th>\n      <th>entente</th>\n      <th>total</th>\n      <th>score</th>\n    </tr>\n  </thead>\n  <tbody>\n    <tr>\n      <th>0</th>\n      <td>2</td>\n      <td>United States of America</td>\n      <td>2000</td>\n      <td>58</td>\n      <td>0</td>\n      <td>52.0</td>\n      <td>54.0</td>\n      <td>164.0</td>\n      <td>390.0</td>\n    </tr>\n    <tr>\n      <th>1</th>\n      <td>20</td>\n      <td>Canada</td>\n      <td>2000</td>\n      <td>49</td>\n      <td>1</td>\n      <td>50.0</td>\n      <td>49.0</td>\n      <td>149.0</td>\n      <td>348.0</td>\n    </tr>\n    <tr>\n      <th>2</th>\n      <td>31</td>\n      <td>Bahamas</td>\n      <td>2000</td>\n      <td>31</td>\n      <td>0</td>\n      <td>31.0</td>\n      <td>31.0</td>\n      <td>93.0</td>\n      <td>217.0</td>\n    </tr>\n    <tr>\n      <th>3</th>\n      <td>40</td>\n      <td>Cuba</td>\n      <td>2000</td>\n      <td>0</td>\n      <td>0</td>\n      <td>0.0</td>\n      <td>0.0</td>\n      <td>0.0</td>\n      <td>0.0</td>\n    </tr>\n    <tr>\n      <th>4</th>\n      <td>41</td>\n      <td>Haiti</td>\n      <td>2000</td>\n      <td>30</td>\n      <td>0</td>\n      <td>30.0</td>\n      <td>30.0</td>\n      <td>90.0</td>\n      <td>210.0</td>\n    </tr>\n    <tr>\n      <th>5</th>\n      <td>42</td>\n      <td>Dominican Republic</td>\n      <td>2000</td>\n      <td>29</td>\n      <td>0</td>\n      <td>29.0</td>\n      <td>29.0</td>\n      <td>87.0</td>\n      <td>203.0</td>\n    </tr>\n    <tr>\n      <th>6</th>\n      <td>51</td>\n      <td>Jamaica</td>\n      <td>2000</td>\n      <td>28</td>\n      <td>0</td>\n      <td>28.0</td>\n      <td>28.0</td>\n      <td>84.0</td>\n      <td>196.0</td>\n    </tr>\n    <tr>\n      <th>7</th>\n      <td>52</td>\n      <td>Trinidad and Tobago</td>\n      <td>2000</td>\n      <td>27</td>\n      <td>0</td>\n      <td>0.0</td>\n      <td>27.0</td>\n      <td>54.0</td>\n      <td>135.0</td>\n    </tr>\n    <tr>\n      <th>8</th>\n      <td>53</td>\n      <td>Barbados</td>\n      <td>2000</td>\n      <td>32</td>\n      <td>0</td>\n      <td>26.0</td>\n      <td>26.0</td>\n      <td>84.0</td>\n      <td>206.0</td>\n    </tr>\n    <tr>\n      <th>9</th>\n      <td>54</td>\n      <td>Dominica</td>\n      <td>2000</td>\n      <td>34</td>\n      <td>0</td>\n      <td>25.0</td>\n      <td>25.0</td>\n      <td>84.0</td>\n      <td>211.0</td>\n    </tr>\n    <tr>\n      <th>10</th>\n      <td>55</td>\n      <td>Grenada</td>\n      <td>2000</td>\n      <td>28</td>\n      <td>0</td>\n      <td>24.0</td>\n      <td>24.0</td>\n      <td>76.0</td>\n      <td>184.0</td>\n    </tr>\n    <tr>\n      <th>11</th>\n      <td>56</td>\n      <td>St. Lucia</td>\n      <td>2000</td>\n      <td>29</td>\n      <td>0</td>\n      <td>23.0</td>\n      <td>23.0</td>\n      <td>75.0</td>\n      <td>185.0</td>\n    </tr>\n    <tr>\n      <th>12</th>\n      <td>57</td>\n      <td>St. Vincent and the Grenadines</td>\n      <td>2000</td>\n      <td>26</td>\n      <td>0</td>\n      <td>22.0</td>\n      <td>22.0</td>\n      <td>70.0</td>\n      <td>170.0</td>\n    </tr>\n    <tr>\n      <th>13</th>\n      <td>58</td>\n      <td>Antigua &amp; Barbuda</td>\n      <td>2000</td>\n      <td>23</td>\n      <td>0</td>\n      <td>21.0</td>\n      <td>21.0</td>\n      <td>65.0</td>\n      <td>155.0</td>\n    </tr>\n    <tr>\n      <th>14</th>\n      <td>60</td>\n      <td>St. Kitts and Nevis</td>\n      <td>2000</td>\n      <td>20</td>\n      <td>0</td>\n      <td>20.0</td>\n      <td>20.0</td>\n      <td>60.0</td>\n      <td>140.0</td>\n    </tr>\n    <tr>\n      <th>15</th>\n      <td>70</td>\n      <td>Mexico</td>\n      <td>2000</td>\n      <td>19</td>\n      <td>0</td>\n      <td>19.0</td>\n      <td>19.0</td>\n      <td>57.0</td>\n      <td>133.0</td>\n    </tr>\n    <tr>\n      <th>16</th>\n      <td>80</td>\n      <td>Belize</td>\n      <td>2000</td>\n      <td>18</td>\n      <td>0</td>\n      <td>18.0</td>\n      <td>18.0</td>\n      <td>54.0</td>\n      <td>126.0</td>\n    </tr>\n    <tr>\n      <th>17</th>\n      <td>90</td>\n      <td>Guatemala</td>\n      <td>2000</td>\n      <td>17</td>\n      <td>0</td>\n      <td>17.0</td>\n      <td>17.0</td>\n      <td>51.0</td>\n      <td>119.0</td>\n    </tr>\n    <tr>\n      <th>18</th>\n      <td>91</td>\n      <td>Honduras</td>\n      <td>2000</td>\n      <td>16</td>\n      <td>0</td>\n      <td>16.0</td>\n      <td>16.0</td>\n      <td>48.0</td>\n      <td>112.0</td>\n    </tr>\n    <tr>\n      <th>19</th>\n      <td>92</td>\n      <td>El Salvador</td>\n      <td>2000</td>\n      <td>15</td>\n      <td>0</td>\n      <td>15.0</td>\n      <td>15.0</td>\n      <td>45.0</td>\n      <td>105.0</td>\n    </tr>\n    <tr>\n      <th>20</th>\n      <td>93</td>\n      <td>Nicaragua</td>\n      <td>2000</td>\n      <td>14</td>\n      <td>0</td>\n      <td>14.0</td>\n      <td>14.0</td>\n      <td>42.0</td>\n      <td>98.0</td>\n    </tr>\n    <tr>\n      <th>21</th>\n      <td>94</td>\n      <td>Costa Rica</td>\n      <td>2000</td>\n      <td>13</td>\n      <td>0</td>\n      <td>13.0</td>\n      <td>13.0</td>\n      <td>39.0</td>\n      <td>91.0</td>\n    </tr>\n    <tr>\n      <th>22</th>\n      <td>95</td>\n      <td>Panama</td>\n      <td>2000</td>\n      <td>12</td>\n      <td>0</td>\n      <td>12.0</td>\n      <td>12.0</td>\n      <td>36.0</td>\n      <td>84.0</td>\n    </tr>\n    <tr>\n      <th>23</th>\n      <td>100</td>\n      <td>Colombia</td>\n      <td>2000</td>\n      <td>11</td>\n      <td>0</td>\n      <td>12.0</td>\n      <td>11.0</td>\n      <td>34.0</td>\n      <td>79.0</td>\n    </tr>\n    <tr>\n      <th>24</th>\n      <td>101</td>\n      <td>Venezuela</td>\n      <td>2000</td>\n      <td>10</td>\n      <td>0</td>\n      <td>10.0</td>\n      <td>10.0</td>\n      <td>30.0</td>\n      <td>70.0</td>\n    </tr>\n    <tr>\n      <th>25</th>\n      <td>110</td>\n      <td>Guyana</td>\n      <td>2000</td>\n      <td>9</td>\n      <td>0</td>\n      <td>9.0</td>\n      <td>9.0</td>\n      <td>27.0</td>\n      <td>63.0</td>\n    </tr>\n    <tr>\n      <th>26</th>\n      <td>115</td>\n      <td>Suriname</td>\n      <td>2000</td>\n      <td>8</td>\n      <td>0</td>\n      <td>8.0</td>\n      <td>8.0</td>\n      <td>24.0</td>\n      <td>56.0</td>\n    </tr>\n    <tr>\n      <th>27</th>\n      <td>130</td>\n      <td>Ecuador</td>\n      <td>2000</td>\n      <td>7</td>\n      <td>1</td>\n      <td>1.0</td>\n      <td>7.0</td>\n      <td>16.0</td>\n      <td>40.0</td>\n    </tr>\n  </tbody>\n</table>\n</div>"
     },
     "execution_count": 8,
     "metadata": {},
     "output_type": "execute_result"
    }
   ],
   "source": [
    "member_year.info()\n",
    "member_year.head(28)"
   ],
   "metadata": {
    "collapsed": false
   }
  },
  {
   "cell_type": "code",
   "execution_count": 9,
   "outputs": [
    {
     "data": {
      "text/plain": "      ccode                      name  year  defense  neutrality  \\\n2604      2  United States of America  2012       58           0   \n2605     20                    Canada  2012       49           1   \n2606     31                   Bahamas  2012       31           0   \n2607     40                      Cuba  2012        0           0   \n2608     41                     Haiti  2012       30           0   \n\n      nonaggression  entente  total  score  \n2604           52.0     54.0  164.0  390.0  \n2605           50.0     49.0  149.0  348.0  \n2606           31.0     31.0   93.0  217.0  \n2607            0.0      0.0    0.0    0.0  \n2608           30.0     30.0   90.0  210.0  ",
      "text/html": "<div>\n<style scoped>\n    .dataframe tbody tr th:only-of-type {\n        vertical-align: middle;\n    }\n\n    .dataframe tbody tr th {\n        vertical-align: top;\n    }\n\n    .dataframe thead th {\n        text-align: right;\n    }\n</style>\n<table border=\"1\" class=\"dataframe\">\n  <thead>\n    <tr style=\"text-align: right;\">\n      <th></th>\n      <th>ccode</th>\n      <th>name</th>\n      <th>year</th>\n      <th>defense</th>\n      <th>neutrality</th>\n      <th>nonaggression</th>\n      <th>entente</th>\n      <th>total</th>\n      <th>score</th>\n    </tr>\n  </thead>\n  <tbody>\n    <tr>\n      <th>2604</th>\n      <td>2</td>\n      <td>United States of America</td>\n      <td>2012</td>\n      <td>58</td>\n      <td>0</td>\n      <td>52.0</td>\n      <td>54.0</td>\n      <td>164.0</td>\n      <td>390.0</td>\n    </tr>\n    <tr>\n      <th>2605</th>\n      <td>20</td>\n      <td>Canada</td>\n      <td>2012</td>\n      <td>49</td>\n      <td>1</td>\n      <td>50.0</td>\n      <td>49.0</td>\n      <td>149.0</td>\n      <td>348.0</td>\n    </tr>\n    <tr>\n      <th>2606</th>\n      <td>31</td>\n      <td>Bahamas</td>\n      <td>2012</td>\n      <td>31</td>\n      <td>0</td>\n      <td>31.0</td>\n      <td>31.0</td>\n      <td>93.0</td>\n      <td>217.0</td>\n    </tr>\n    <tr>\n      <th>2607</th>\n      <td>40</td>\n      <td>Cuba</td>\n      <td>2012</td>\n      <td>0</td>\n      <td>0</td>\n      <td>0.0</td>\n      <td>0.0</td>\n      <td>0.0</td>\n      <td>0.0</td>\n    </tr>\n    <tr>\n      <th>2608</th>\n      <td>41</td>\n      <td>Haiti</td>\n      <td>2012</td>\n      <td>30</td>\n      <td>0</td>\n      <td>30.0</td>\n      <td>30.0</td>\n      <td>90.0</td>\n      <td>210.0</td>\n    </tr>\n  </tbody>\n</table>\n</div>"
     },
     "execution_count": 9,
     "metadata": {},
     "output_type": "execute_result"
    }
   ],
   "source": [
    "# Specific year and all countries alliances\n",
    "year_2012 = member_year[member_year['year'] == 2012]\n",
    "year_2012.head()"
   ],
   "metadata": {
    "collapsed": false
   }
  },
  {
   "cell_type": "code",
   "execution_count": 10,
   "outputs": [
    {
     "name": "stdout",
     "output_type": "stream",
     "text": [
      "United States of America has the highest score of:  390\n",
      "Cuba has the lowest score of:  0\n",
      "\n",
      "United States of America has the most alliances at:  164\n",
      "Cuba has the least alliances:  0\n"
     ]
    }
   ],
   "source": [
    "# Highest score\n",
    "index_of_max_score = year_2012['score'].idxmax()\n",
    "row_with_max_score = year_2012.loc[index_of_max_score]\n",
    "print(row_with_max_score['name'], 'has the highest score of: ', int(row_with_max_score['score']))\n",
    "\n",
    "# Lowest score\n",
    "index_of_min_score = year_2012['score'].idxmin()\n",
    "row_with_min_score = year_2012.loc[index_of_min_score]\n",
    "print(row_with_min_score['name'], 'has the lowest score of: ', int(row_with_min_score['score']))\n",
    "\n",
    "print()\n",
    "\n",
    "# Most treaties\n",
    "index_of_max_treaty= year_2012['total'].idxmax()\n",
    "row_with_max_treaty= year_2012.loc[index_of_max_treaty]\n",
    "print(row_with_max_treaty['name'], 'has the most alliances at: ', int(row_with_max_treaty['total']))\n",
    "\n",
    "# Least treaties\n",
    "index_of_min_treaty = year_2012['total'].idxmin()\n",
    "row_with_min_treaty = year_2012.loc[index_of_min_score]\n",
    "print(row_with_min_treaty['name'], 'has the least alliances: ', int(row_with_min_treaty['total']))"
   ],
   "metadata": {
    "collapsed": false
   }
  },
  {
   "cell_type": "code",
   "execution_count": 10,
   "outputs": [],
   "source": [],
   "metadata": {
    "collapsed": false
   }
  }
 ],
 "metadata": {
  "kernelspec": {
   "display_name": "Python 3",
   "language": "python",
   "name": "python3"
  },
  "language_info": {
   "codemirror_mode": {
    "name": "ipython",
    "version": 2
   },
   "file_extension": ".py",
   "mimetype": "text/x-python",
   "name": "python",
   "nbconvert_exporter": "python",
   "pygments_lexer": "ipython2",
   "version": "2.7.6"
  }
 },
 "nbformat": 4,
 "nbformat_minor": 0
}
