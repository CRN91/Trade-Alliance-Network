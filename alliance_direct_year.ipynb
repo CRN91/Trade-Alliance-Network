{
 "cells": [
  {
   "cell_type": "code",
   "execution_count": 8,
   "metadata": {
    "collapsed": true
   },
   "outputs": [],
   "source": [
    "import pandas as pd\n",
    "import numpy as np\n",
    "import matplotlib.pyplot as plt\n",
    "import seaborn as sns\n",
    "from sklearn.model_selection import train_test_split\n",
    "from sklearn.linear_model import LinearRegression\n",
    "from sklearn.metrics import mean_squared_error"
   ]
  },
  {
   "cell_type": "code",
   "execution_count": 9,
   "outputs": [],
   "source": [
    "#ally_direct = pd.read_csv(\"./alliances/alliance_v4.1_by_directed.csv\")\n",
    "ally_direct_year = pd.read_csv(\"./alliances/alliance_v4.1_by_directed_yearly.csv\")\n",
    "#ally_dyad = pd.read_csv(\"/alliances/alliance_v4.1_by_dyad.csv\")\n",
    "#ally_dyad_year = pd.read_csv(\"/alliances/alliance_v4.1_by_dyad_yearly.csv\")\n",
    "#ally_member = pd.read_csv(\"/alliances/alliance_v4.1_by_member.csv\")\n",
    "#ally_member_year = pd.read_csv(\"/alliances/alliance_v4.1_by_member_yearly.csv\")"
   ],
   "metadata": {
    "collapsed": false
   }
  },
  {
   "cell_type": "markdown",
   "source": [],
   "metadata": {
    "collapsed": false
   }
  },
  {
   "cell_type": "code",
   "execution_count": 10,
   "outputs": [
    {
     "name": "stdout",
     "output_type": "stream",
     "text": [
      "<class 'pandas.core.frame.DataFrame'>\n",
      "RangeIndex: 148258 entries, 0 to 148257\n",
      "Data columns (total 19 columns):\n",
      " #   Column          Non-Null Count   Dtype  \n",
      "---  ------          --------------   -----  \n",
      " 0   version4id      148258 non-null  int64  \n",
      " 1   ccode1          148258 non-null  int64  \n",
      " 2   state_name1     148258 non-null  object \n",
      " 3   ccode2          148258 non-null  int64  \n",
      " 4   state_name2     148258 non-null  object \n",
      " 5   dyad_st_day     148258 non-null  int64  \n",
      " 6   dyad_st_month   148258 non-null  int64  \n",
      " 7   dyad_st_year    148258 non-null  int64  \n",
      " 8   dyad_end_day    32708 non-null   float64\n",
      " 9   dyad_end_month  32708 non-null   float64\n",
      " 10  dyad_end_year   148190 non-null  float64\n",
      " 11  left_censor     148258 non-null  int64  \n",
      " 12  right_censor    148258 non-null  int64  \n",
      " 13  defense         148258 non-null  int64  \n",
      " 14  neutrality      148258 non-null  int64  \n",
      " 15  nonaggression   148237 non-null  float64\n",
      " 16  entente         148234 non-null  float64\n",
      " 17  year            148258 non-null  int64  \n",
      " 18  version         148258 non-null  float64\n",
      "dtypes: float64(6), int64(11), object(2)\n",
      "memory usage: 21.5+ MB\n"
     ]
    },
    {
     "data": {
      "text/plain": "   version4id  ccode1     state_name1  ccode2 state_name2  dyad_st_day  \\\n0           1     200  United Kingdom     235    Portugal            1   \n1           1     200  United Kingdom     235    Portugal            1   \n2           1     200  United Kingdom     235    Portugal            1   \n3           1     200  United Kingdom     235    Portugal            1   \n4           1     200  United Kingdom     235    Portugal            1   \n\n   dyad_st_month  dyad_st_year  dyad_end_day  dyad_end_month  dyad_end_year  \\\n0              1          1816           NaN             NaN         2012.0   \n1              1          1816           NaN             NaN         2012.0   \n2              1          1816           NaN             NaN         2012.0   \n3              1          1816           NaN             NaN         2012.0   \n4              1          1816           NaN             NaN         2012.0   \n\n   left_censor  right_censor  defense  neutrality  nonaggression  entente  \\\n0            1             1        1           0            1.0      0.0   \n1            1             1        1           0            1.0      0.0   \n2            1             1        1           0            1.0      0.0   \n3            1             1        1           0            1.0      0.0   \n4            1             1        1           0            1.0      0.0   \n\n   year  version  \n0  1816      4.1  \n1  1817      4.1  \n2  1818      4.1  \n3  1819      4.1  \n4  1820      4.1  ",
      "text/html": "<div>\n<style scoped>\n    .dataframe tbody tr th:only-of-type {\n        vertical-align: middle;\n    }\n\n    .dataframe tbody tr th {\n        vertical-align: top;\n    }\n\n    .dataframe thead th {\n        text-align: right;\n    }\n</style>\n<table border=\"1\" class=\"dataframe\">\n  <thead>\n    <tr style=\"text-align: right;\">\n      <th></th>\n      <th>version4id</th>\n      <th>ccode1</th>\n      <th>state_name1</th>\n      <th>ccode2</th>\n      <th>state_name2</th>\n      <th>dyad_st_day</th>\n      <th>dyad_st_month</th>\n      <th>dyad_st_year</th>\n      <th>dyad_end_day</th>\n      <th>dyad_end_month</th>\n      <th>dyad_end_year</th>\n      <th>left_censor</th>\n      <th>right_censor</th>\n      <th>defense</th>\n      <th>neutrality</th>\n      <th>nonaggression</th>\n      <th>entente</th>\n      <th>year</th>\n      <th>version</th>\n    </tr>\n  </thead>\n  <tbody>\n    <tr>\n      <th>0</th>\n      <td>1</td>\n      <td>200</td>\n      <td>United Kingdom</td>\n      <td>235</td>\n      <td>Portugal</td>\n      <td>1</td>\n      <td>1</td>\n      <td>1816</td>\n      <td>NaN</td>\n      <td>NaN</td>\n      <td>2012.0</td>\n      <td>1</td>\n      <td>1</td>\n      <td>1</td>\n      <td>0</td>\n      <td>1.0</td>\n      <td>0.0</td>\n      <td>1816</td>\n      <td>4.1</td>\n    </tr>\n    <tr>\n      <th>1</th>\n      <td>1</td>\n      <td>200</td>\n      <td>United Kingdom</td>\n      <td>235</td>\n      <td>Portugal</td>\n      <td>1</td>\n      <td>1</td>\n      <td>1816</td>\n      <td>NaN</td>\n      <td>NaN</td>\n      <td>2012.0</td>\n      <td>1</td>\n      <td>1</td>\n      <td>1</td>\n      <td>0</td>\n      <td>1.0</td>\n      <td>0.0</td>\n      <td>1817</td>\n      <td>4.1</td>\n    </tr>\n    <tr>\n      <th>2</th>\n      <td>1</td>\n      <td>200</td>\n      <td>United Kingdom</td>\n      <td>235</td>\n      <td>Portugal</td>\n      <td>1</td>\n      <td>1</td>\n      <td>1816</td>\n      <td>NaN</td>\n      <td>NaN</td>\n      <td>2012.0</td>\n      <td>1</td>\n      <td>1</td>\n      <td>1</td>\n      <td>0</td>\n      <td>1.0</td>\n      <td>0.0</td>\n      <td>1818</td>\n      <td>4.1</td>\n    </tr>\n    <tr>\n      <th>3</th>\n      <td>1</td>\n      <td>200</td>\n      <td>United Kingdom</td>\n      <td>235</td>\n      <td>Portugal</td>\n      <td>1</td>\n      <td>1</td>\n      <td>1816</td>\n      <td>NaN</td>\n      <td>NaN</td>\n      <td>2012.0</td>\n      <td>1</td>\n      <td>1</td>\n      <td>1</td>\n      <td>0</td>\n      <td>1.0</td>\n      <td>0.0</td>\n      <td>1819</td>\n      <td>4.1</td>\n    </tr>\n    <tr>\n      <th>4</th>\n      <td>1</td>\n      <td>200</td>\n      <td>United Kingdom</td>\n      <td>235</td>\n      <td>Portugal</td>\n      <td>1</td>\n      <td>1</td>\n      <td>1816</td>\n      <td>NaN</td>\n      <td>NaN</td>\n      <td>2012.0</td>\n      <td>1</td>\n      <td>1</td>\n      <td>1</td>\n      <td>0</td>\n      <td>1.0</td>\n      <td>0.0</td>\n      <td>1820</td>\n      <td>4.1</td>\n    </tr>\n  </tbody>\n</table>\n</div>"
     },
     "execution_count": 10,
     "metadata": {},
     "output_type": "execute_result"
    }
   ],
   "source": [
    "ally_direct_year.info()\n",
    "# Double the amount of entries as they are repeated in both directions\n",
    "\n",
    "ally_direct_year.head()"
   ],
   "metadata": {
    "collapsed": false
   }
  },
  {
   "cell_type": "code",
   "execution_count": 11,
   "outputs": [
    {
     "data": {
      "text/plain": "        version4id  ccode1 state_name1  ccode2               state_name2  \\\n148253         414     666      Israel       2  United States of America   \n148254         414     666      Israel       2  United States of America   \n148255         414     666      Israel       2  United States of America   \n148256         414     666      Israel       2  United States of America   \n148257         414     666      Israel       2  United States of America   \n\n        dyad_st_day  dyad_st_month  dyad_st_year  dyad_end_day  \\\n148253           30             11          1981          26.0   \n148254           30             11          1981          26.0   \n148255           30             11          1981          26.0   \n148256           30             11          1981          26.0   \n148257           30             11          1981          26.0   \n\n        dyad_end_month  dyad_end_year  left_censor  right_censor  defense  \\\n148253            12.0         1991.0            0             0        0   \n148254            12.0         1991.0            0             0        0   \n148255            12.0         1991.0            0             0        0   \n148256            12.0         1991.0            0             0        0   \n148257            12.0         1991.0            0             0        0   \n\n        neutrality  nonaggression  entente  year  version  \n148253           0            0.0      1.0  1987      4.1  \n148254           0            0.0      1.0  1988      4.1  \n148255           0            0.0      1.0  1989      4.1  \n148256           0            0.0      1.0  1990      4.1  \n148257           0            0.0      1.0  1991      4.1  ",
      "text/html": "<div>\n<style scoped>\n    .dataframe tbody tr th:only-of-type {\n        vertical-align: middle;\n    }\n\n    .dataframe tbody tr th {\n        vertical-align: top;\n    }\n\n    .dataframe thead th {\n        text-align: right;\n    }\n</style>\n<table border=\"1\" class=\"dataframe\">\n  <thead>\n    <tr style=\"text-align: right;\">\n      <th></th>\n      <th>version4id</th>\n      <th>ccode1</th>\n      <th>state_name1</th>\n      <th>ccode2</th>\n      <th>state_name2</th>\n      <th>dyad_st_day</th>\n      <th>dyad_st_month</th>\n      <th>dyad_st_year</th>\n      <th>dyad_end_day</th>\n      <th>dyad_end_month</th>\n      <th>dyad_end_year</th>\n      <th>left_censor</th>\n      <th>right_censor</th>\n      <th>defense</th>\n      <th>neutrality</th>\n      <th>nonaggression</th>\n      <th>entente</th>\n      <th>year</th>\n      <th>version</th>\n    </tr>\n  </thead>\n  <tbody>\n    <tr>\n      <th>148253</th>\n      <td>414</td>\n      <td>666</td>\n      <td>Israel</td>\n      <td>2</td>\n      <td>United States of America</td>\n      <td>30</td>\n      <td>11</td>\n      <td>1981</td>\n      <td>26.0</td>\n      <td>12.0</td>\n      <td>1991.0</td>\n      <td>0</td>\n      <td>0</td>\n      <td>0</td>\n      <td>0</td>\n      <td>0.0</td>\n      <td>1.0</td>\n      <td>1987</td>\n      <td>4.1</td>\n    </tr>\n    <tr>\n      <th>148254</th>\n      <td>414</td>\n      <td>666</td>\n      <td>Israel</td>\n      <td>2</td>\n      <td>United States of America</td>\n      <td>30</td>\n      <td>11</td>\n      <td>1981</td>\n      <td>26.0</td>\n      <td>12.0</td>\n      <td>1991.0</td>\n      <td>0</td>\n      <td>0</td>\n      <td>0</td>\n      <td>0</td>\n      <td>0.0</td>\n      <td>1.0</td>\n      <td>1988</td>\n      <td>4.1</td>\n    </tr>\n    <tr>\n      <th>148255</th>\n      <td>414</td>\n      <td>666</td>\n      <td>Israel</td>\n      <td>2</td>\n      <td>United States of America</td>\n      <td>30</td>\n      <td>11</td>\n      <td>1981</td>\n      <td>26.0</td>\n      <td>12.0</td>\n      <td>1991.0</td>\n      <td>0</td>\n      <td>0</td>\n      <td>0</td>\n      <td>0</td>\n      <td>0.0</td>\n      <td>1.0</td>\n      <td>1989</td>\n      <td>4.1</td>\n    </tr>\n    <tr>\n      <th>148256</th>\n      <td>414</td>\n      <td>666</td>\n      <td>Israel</td>\n      <td>2</td>\n      <td>United States of America</td>\n      <td>30</td>\n      <td>11</td>\n      <td>1981</td>\n      <td>26.0</td>\n      <td>12.0</td>\n      <td>1991.0</td>\n      <td>0</td>\n      <td>0</td>\n      <td>0</td>\n      <td>0</td>\n      <td>0.0</td>\n      <td>1.0</td>\n      <td>1990</td>\n      <td>4.1</td>\n    </tr>\n    <tr>\n      <th>148257</th>\n      <td>414</td>\n      <td>666</td>\n      <td>Israel</td>\n      <td>2</td>\n      <td>United States of America</td>\n      <td>30</td>\n      <td>11</td>\n      <td>1981</td>\n      <td>26.0</td>\n      <td>12.0</td>\n      <td>1991.0</td>\n      <td>0</td>\n      <td>0</td>\n      <td>0</td>\n      <td>0</td>\n      <td>0.0</td>\n      <td>1.0</td>\n      <td>1991</td>\n      <td>4.1</td>\n    </tr>\n  </tbody>\n</table>\n</div>"
     },
     "execution_count": 11,
     "metadata": {},
     "output_type": "execute_result"
    }
   ],
   "source": [
    "ally_direct_year.tail()"
   ],
   "metadata": {
    "collapsed": false
   }
  },
  {
   "cell_type": "code",
   "execution_count": 12,
   "outputs": [
    {
     "data": {
      "text/plain": "version4id             0\nccode1                 0\nstate_name1            0\nccode2                 0\nstate_name2            0\ndyad_st_day            0\ndyad_st_month          0\ndyad_st_year           0\ndyad_end_day      115550\ndyad_end_month    115550\ndyad_end_year         68\nleft_censor            0\nright_censor           0\ndefense                0\nneutrality             0\nnonaggression         21\nentente               24\nyear                   0\nversion                0\ndtype: int64"
     },
     "execution_count": 12,
     "metadata": {},
     "output_type": "execute_result"
    }
   ],
   "source": [
    "ally_direct_year.isnull().sum()"
   ],
   "metadata": {
    "collapsed": false
   }
  },
  {
   "cell_type": "code",
   "execution_count": 24,
   "outputs": [
    {
     "name": "stdout",
     "output_type": "stream",
     "text": [
      "There are  169  asymmetric alliances\n",
      "\n",
      "Trinidad and Tobago  :  29\n",
      "Ecuador  :  29\n",
      "Peru  :  29\n",
      "Paraguay  :  29\n",
      "Uruguay  :  29\n",
      "Turkey  :  19\n",
      "United States of America  :  10\n",
      "Canada  :  6\n",
      "Bahamas  :  5\n",
      "Haiti  :  5\n",
      "Dominican Republic  :  5\n",
      "Jamaica  :  5\n",
      "Barbados  :  5\n",
      "Dominica  :  5\n",
      "Grenada  :  5\n",
      "St. Lucia  :  5\n",
      "St. Vincent and the Grenadines  :  5\n",
      "Antigua & Barbuda  :  5\n",
      "St. Kitts and Nevis  :  5\n",
      "Mexico  :  5\n",
      "Belize  :  5\n",
      "Guatemala  :  5\n",
      "Honduras  :  5\n",
      "El Salvador  :  5\n",
      "Nicaragua  :  5\n",
      "Costa Rica  :  5\n",
      "Panama  :  5\n",
      "Colombia  :  5\n",
      "Venezuela  :  5\n",
      "Guyana  :  5\n",
      "Suriname  :  5\n",
      "Brazil  :  5\n",
      "Bolivia  :  5\n",
      "Chile  :  5\n",
      "Argentina  :  5\n",
      "Denmark  :  2\n",
      "Iceland  :  2\n",
      "United Kingdom  :  1\n",
      "Netherlands  :  1\n",
      "Belgium  :  1\n",
      "Luxembourg  :  1\n",
      "France  :  1\n",
      "Spain  :  1\n",
      "Portugal  :  1\n",
      "Germany  :  1\n",
      "Poland  :  1\n",
      "Hungary  :  1\n",
      "Czech Republic  :  1\n",
      "Italy  :  1\n",
      "Greece  :  1\n",
      "Norway  :  1\n",
      "Japan  :  1\n",
      "South Korea  :  1\n",
      "Pakistan  :  1\n",
      "Russia  :  1\n",
      "Armenia  :  1\n"
     ]
    }
   ],
   "source": [
    "# Finding asymmetrical alliances\n",
    "ally_dyad = pd.read_csv(\"./alliances/alliance_v4.1_by_dyad.csv\")\n",
    "asymmetrical = ally_dyad[ally_dyad['asymmetric'].astype(bool)]\n",
    "\n",
    "# Search my directed data for these asymmetric alliance pairs in a particular year\n",
    "\n",
    "selected_year = 2012 # Change this for different years\n",
    "select_year_df = ally_direct_year[ally_direct_year['year'] == selected_year]\n",
    "\n",
    "pairs = []\n",
    "for index, row in asymmetrical.iterrows():\n",
    "    search_values = [row['ccode1'], row['ccode2'], row['dyad_st_year']]\n",
    "    mask = (select_year_df[['ccode1','ccode2','dyad_st_year']] == search_values).all(axis=1)\n",
    "    mask_reverse = (select_year_df[['ccode2','ccode1','dyad_st_year']] == search_values).all(axis=1)\n",
    "\n",
    "    # Searched for dataframe pair\n",
    "    results_df = pd.concat([select_year_df[mask], select_year_df[mask_reverse]], ignore_index=True)\n",
    "\n",
    "    # Remove the empty pairs\n",
    "    if len(results_df) != 0:\n",
    "        pairs.append(results_df)\n",
    "\n",
    "\n",
    "# All the pairs of asymmetrical alliances\n",
    "#pairs[0].head()\n",
    "print(\"There are \",len(pairs),\" asymmetric alliances\\n\")\n",
    "\n",
    "asymmetric_countries= {}\n",
    "\n",
    "for pair in pairs:\n",
    "    # Counter for country 1\n",
    "    asymmetric_countries[pair['state_name1'].values[0]] = asymmetric_countries.get(pair['state_name1'].values[0], 0) + 1\n",
    "\n",
    "    # Counter for country 2\n",
    "    asymmetric_countries[pair['state_name2'].values[0]] = asymmetric_countries.get(pair['state_name2'].values[0], 0) + 1\n",
    "\n",
    "# Sorting and displaying in descending order countries : values\n",
    "countries_by_asymmetric = sorted(asymmetric_countries, key = asymmetric_countries.get, reverse = True)\n",
    "\n",
    "values_by_asymmetric = sorted(asymmetric_countries.values(), reverse = True)\n",
    "for i in range(len(countries_by_asymmetric)):\n",
    "    print(countries_by_asymmetric[i],' : ',values_by_asymmetric[i])\n",
    "#max_key = max(asymmetric_countries, key=asymmetric_countries.get)\n",
    "\n",
    "# Find the maximum value\n",
    "#max_value = asymmetric_countries[max_key]\n",
    "\n",
    "# Display the result\n",
    "#print(\"Key with the maximum value:\", max_key)\n",
    "#print(\"Maximum value:\", max_value)"
   ],
   "metadata": {
    "collapsed": false
   }
  },
  {
   "cell_type": "code",
   "execution_count": null,
   "outputs": [],
   "source": [],
   "metadata": {
    "collapsed": false
   }
  }
 ],
 "metadata": {
  "kernelspec": {
   "display_name": "Python 3",
   "language": "python",
   "name": "python3"
  },
  "language_info": {
   "codemirror_mode": {
    "name": "ipython",
    "version": 2
   },
   "file_extension": ".py",
   "mimetype": "text/x-python",
   "name": "python",
   "nbconvert_exporter": "python",
   "pygments_lexer": "ipython2",
   "version": "2.7.6"
  }
 },
 "nbformat": 4,
 "nbformat_minor": 0
}
