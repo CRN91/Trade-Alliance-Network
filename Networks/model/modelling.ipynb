{
 "cells": [
  {
   "cell_type": "code",
   "metadata": {
    "collapsed": true,
    "ExecuteTime": {
     "end_time": "2024-09-30T14:39:43.029818Z",
     "start_time": "2024-09-30T14:39:37.118875Z"
    }
   },
   "source": [
    "import networkx as nx\n",
    "import pandas as pd\n",
    "import matplotlib.pyplot as plt"
   ],
   "outputs": [],
   "execution_count": 2
  },
  {
   "cell_type": "code",
   "source": [
    "\"\"\" Import data \"\"\"\n",
    "trade_df = pd.read_csv('data/trade_data.csv')\n",
    "alliance_df = pd.read_csv('data/alliance_data.csv')\n",
    "common_iso_codes = pd.read_csv('data/common_iso_codes.csv')\n",
    "trade_df['alliance'] = pd.Series()"
   ],
   "metadata": {
    "collapsed": false,
    "ExecuteTime": {
     "end_time": "2024-09-30T14:39:44.199793Z",
     "start_time": "2024-09-30T14:39:43.077351Z"
    }
   },
   "outputs": [],
   "execution_count": 3
  },
  {
   "cell_type": "code",
   "source": [
    "\"\"\" Convert CCode into iso code \"\"\"\n",
    "alliance_df['iso3A'] = alliance_df['stateA'].map(dict(zip(common_iso_codes['CCode'], common_iso_codes['iso3'])))\n",
    "alliance_df['iso3B'] = alliance_df['stateB'].map(dict(zip(common_iso_codes['CCode'], common_iso_codes['iso3'])))"
   ],
   "metadata": {
    "collapsed": false,
    "ExecuteTime": {
     "end_time": "2024-09-30T14:39:44.303604Z",
     "start_time": "2024-09-30T14:39:44.274419Z"
    }
   },
   "outputs": [],
   "execution_count": 4
  },
  {
   "cell_type": "code",
   "source": [
    "trade_df.head()"
   ],
   "metadata": {
    "collapsed": false,
    "ExecuteTime": {
     "end_time": "2024-09-30T14:39:44.437752Z",
     "start_time": "2024-09-30T14:39:44.414427Z"
    }
   },
   "outputs": [
    {
     "data": {
      "text/plain": [
       "  reporter partner  year    export    import alliance\n",
       "0      AFG     AUS  2008    10.692   129.485      NaN\n",
       "1      AFG     AUS  2009     8.462  1214.034      NaN\n",
       "2      AFG     AUS  2010   648.457  1329.447      NaN\n",
       "3      AFG     AUS  2011   111.502  1301.370      NaN\n",
       "4      AFG     AUS  2015  1296.260  1259.046      NaN"
      ],
      "text/html": [
       "<div>\n",
       "<style scoped>\n",
       "    .dataframe tbody tr th:only-of-type {\n",
       "        vertical-align: middle;\n",
       "    }\n",
       "\n",
       "    .dataframe tbody tr th {\n",
       "        vertical-align: top;\n",
       "    }\n",
       "\n",
       "    .dataframe thead th {\n",
       "        text-align: right;\n",
       "    }\n",
       "</style>\n",
       "<table border=\"1\" class=\"dataframe\">\n",
       "  <thead>\n",
       "    <tr style=\"text-align: right;\">\n",
       "      <th></th>\n",
       "      <th>reporter</th>\n",
       "      <th>partner</th>\n",
       "      <th>year</th>\n",
       "      <th>export</th>\n",
       "      <th>import</th>\n",
       "      <th>alliance</th>\n",
       "    </tr>\n",
       "  </thead>\n",
       "  <tbody>\n",
       "    <tr>\n",
       "      <th>0</th>\n",
       "      <td>AFG</td>\n",
       "      <td>AUS</td>\n",
       "      <td>2008</td>\n",
       "      <td>10.692</td>\n",
       "      <td>129.485</td>\n",
       "      <td>NaN</td>\n",
       "    </tr>\n",
       "    <tr>\n",
       "      <th>1</th>\n",
       "      <td>AFG</td>\n",
       "      <td>AUS</td>\n",
       "      <td>2009</td>\n",
       "      <td>8.462</td>\n",
       "      <td>1214.034</td>\n",
       "      <td>NaN</td>\n",
       "    </tr>\n",
       "    <tr>\n",
       "      <th>2</th>\n",
       "      <td>AFG</td>\n",
       "      <td>AUS</td>\n",
       "      <td>2010</td>\n",
       "      <td>648.457</td>\n",
       "      <td>1329.447</td>\n",
       "      <td>NaN</td>\n",
       "    </tr>\n",
       "    <tr>\n",
       "      <th>3</th>\n",
       "      <td>AFG</td>\n",
       "      <td>AUS</td>\n",
       "      <td>2011</td>\n",
       "      <td>111.502</td>\n",
       "      <td>1301.370</td>\n",
       "      <td>NaN</td>\n",
       "    </tr>\n",
       "    <tr>\n",
       "      <th>4</th>\n",
       "      <td>AFG</td>\n",
       "      <td>AUS</td>\n",
       "      <td>2015</td>\n",
       "      <td>1296.260</td>\n",
       "      <td>1259.046</td>\n",
       "      <td>NaN</td>\n",
       "    </tr>\n",
       "  </tbody>\n",
       "</table>\n",
       "</div>"
      ]
     },
     "execution_count": 5,
     "metadata": {},
     "output_type": "execute_result"
    }
   ],
   "execution_count": 5
  },
  {
   "cell_type": "code",
   "source": [
    "alliance_df.head()"
   ],
   "metadata": {
    "collapsed": false,
    "ExecuteTime": {
     "end_time": "2024-09-30T14:39:44.585354Z",
     "start_time": "2024-09-30T14:39:44.561734Z"
    }
   },
   "outputs": [
    {
     "data": {
      "text/plain": [
       "                state_nameA state_nameB  year  atopally  defense  offense  \\\n",
       "0  United States of America      Canada  1942         1        1        1   \n",
       "1  United States of America      Canada  1943         1        1        1   \n",
       "2  United States of America      Canada  1944         1        1        1   \n",
       "3  United States of America      Canada  1945         1        1        1   \n",
       "4  United States of America      Canada  1949         1        1        0   \n",
       "\n",
       "   neutral  nonagg  consul  shareob  ...  bilatno  multino  number  asymm  \\\n",
       "0        0       0       0      NaN  ...        0        1       1      0   \n",
       "1        0       0       0      NaN  ...        0        1       1      0   \n",
       "2        0       0       0      NaN  ...        0        1       1      0   \n",
       "3        0       0       0      NaN  ...        0        1       1      0   \n",
       "4        0       1       1      NaN  ...        0        1       1      0   \n",
       "\n",
       "   stateA  stateB  version   atopids iso3A iso3B  \n",
       "0       2      20      5.1  [2550.0]   USA   CAN  \n",
       "1       2      20      5.1  [2550.0]   USA   CAN  \n",
       "2       2      20      5.1  [2550.0]   USA   CAN  \n",
       "3       2      20      5.1  [2550.0]   USA   CAN  \n",
       "4       2      20      5.1  [3180.0]   USA   CAN  \n",
       "\n",
       "[5 rows x 21 columns]"
      ],
      "text/html": [
       "<div>\n",
       "<style scoped>\n",
       "    .dataframe tbody tr th:only-of-type {\n",
       "        vertical-align: middle;\n",
       "    }\n",
       "\n",
       "    .dataframe tbody tr th {\n",
       "        vertical-align: top;\n",
       "    }\n",
       "\n",
       "    .dataframe thead th {\n",
       "        text-align: right;\n",
       "    }\n",
       "</style>\n",
       "<table border=\"1\" class=\"dataframe\">\n",
       "  <thead>\n",
       "    <tr style=\"text-align: right;\">\n",
       "      <th></th>\n",
       "      <th>state_nameA</th>\n",
       "      <th>state_nameB</th>\n",
       "      <th>year</th>\n",
       "      <th>atopally</th>\n",
       "      <th>defense</th>\n",
       "      <th>offense</th>\n",
       "      <th>neutral</th>\n",
       "      <th>nonagg</th>\n",
       "      <th>consul</th>\n",
       "      <th>shareob</th>\n",
       "      <th>...</th>\n",
       "      <th>bilatno</th>\n",
       "      <th>multino</th>\n",
       "      <th>number</th>\n",
       "      <th>asymm</th>\n",
       "      <th>stateA</th>\n",
       "      <th>stateB</th>\n",
       "      <th>version</th>\n",
       "      <th>atopids</th>\n",
       "      <th>iso3A</th>\n",
       "      <th>iso3B</th>\n",
       "    </tr>\n",
       "  </thead>\n",
       "  <tbody>\n",
       "    <tr>\n",
       "      <th>0</th>\n",
       "      <td>United States of America</td>\n",
       "      <td>Canada</td>\n",
       "      <td>1942</td>\n",
       "      <td>1</td>\n",
       "      <td>1</td>\n",
       "      <td>1</td>\n",
       "      <td>0</td>\n",
       "      <td>0</td>\n",
       "      <td>0</td>\n",
       "      <td>NaN</td>\n",
       "      <td>...</td>\n",
       "      <td>0</td>\n",
       "      <td>1</td>\n",
       "      <td>1</td>\n",
       "      <td>0</td>\n",
       "      <td>2</td>\n",
       "      <td>20</td>\n",
       "      <td>5.1</td>\n",
       "      <td>[2550.0]</td>\n",
       "      <td>USA</td>\n",
       "      <td>CAN</td>\n",
       "    </tr>\n",
       "    <tr>\n",
       "      <th>1</th>\n",
       "      <td>United States of America</td>\n",
       "      <td>Canada</td>\n",
       "      <td>1943</td>\n",
       "      <td>1</td>\n",
       "      <td>1</td>\n",
       "      <td>1</td>\n",
       "      <td>0</td>\n",
       "      <td>0</td>\n",
       "      <td>0</td>\n",
       "      <td>NaN</td>\n",
       "      <td>...</td>\n",
       "      <td>0</td>\n",
       "      <td>1</td>\n",
       "      <td>1</td>\n",
       "      <td>0</td>\n",
       "      <td>2</td>\n",
       "      <td>20</td>\n",
       "      <td>5.1</td>\n",
       "      <td>[2550.0]</td>\n",
       "      <td>USA</td>\n",
       "      <td>CAN</td>\n",
       "    </tr>\n",
       "    <tr>\n",
       "      <th>2</th>\n",
       "      <td>United States of America</td>\n",
       "      <td>Canada</td>\n",
       "      <td>1944</td>\n",
       "      <td>1</td>\n",
       "      <td>1</td>\n",
       "      <td>1</td>\n",
       "      <td>0</td>\n",
       "      <td>0</td>\n",
       "      <td>0</td>\n",
       "      <td>NaN</td>\n",
       "      <td>...</td>\n",
       "      <td>0</td>\n",
       "      <td>1</td>\n",
       "      <td>1</td>\n",
       "      <td>0</td>\n",
       "      <td>2</td>\n",
       "      <td>20</td>\n",
       "      <td>5.1</td>\n",
       "      <td>[2550.0]</td>\n",
       "      <td>USA</td>\n",
       "      <td>CAN</td>\n",
       "    </tr>\n",
       "    <tr>\n",
       "      <th>3</th>\n",
       "      <td>United States of America</td>\n",
       "      <td>Canada</td>\n",
       "      <td>1945</td>\n",
       "      <td>1</td>\n",
       "      <td>1</td>\n",
       "      <td>1</td>\n",
       "      <td>0</td>\n",
       "      <td>0</td>\n",
       "      <td>0</td>\n",
       "      <td>NaN</td>\n",
       "      <td>...</td>\n",
       "      <td>0</td>\n",
       "      <td>1</td>\n",
       "      <td>1</td>\n",
       "      <td>0</td>\n",
       "      <td>2</td>\n",
       "      <td>20</td>\n",
       "      <td>5.1</td>\n",
       "      <td>[2550.0]</td>\n",
       "      <td>USA</td>\n",
       "      <td>CAN</td>\n",
       "    </tr>\n",
       "    <tr>\n",
       "      <th>4</th>\n",
       "      <td>United States of America</td>\n",
       "      <td>Canada</td>\n",
       "      <td>1949</td>\n",
       "      <td>1</td>\n",
       "      <td>1</td>\n",
       "      <td>0</td>\n",
       "      <td>0</td>\n",
       "      <td>1</td>\n",
       "      <td>1</td>\n",
       "      <td>NaN</td>\n",
       "      <td>...</td>\n",
       "      <td>0</td>\n",
       "      <td>1</td>\n",
       "      <td>1</td>\n",
       "      <td>0</td>\n",
       "      <td>2</td>\n",
       "      <td>20</td>\n",
       "      <td>5.1</td>\n",
       "      <td>[3180.0]</td>\n",
       "      <td>USA</td>\n",
       "      <td>CAN</td>\n",
       "    </tr>\n",
       "  </tbody>\n",
       "</table>\n",
       "<p>5 rows × 21 columns</p>\n",
       "</div>"
      ]
     },
     "execution_count": 6,
     "metadata": {},
     "output_type": "execute_result"
    }
   ],
   "execution_count": 6
  },
  {
   "cell_type": "code",
   "source": [
    "\"\"\" Generating trade and alliance networks \"\"\"\n",
    "\n",
    "trade_networks = {}\n",
    "for i in trade_df.groupby('year'):\n",
    "    year = i[0]\n",
    "    df = i[1]\n",
    "    G = nx.from_pandas_edgelist(df, 'reporter', 'partner', 'export', create_using=nx.DiGraph())\n",
    "    trade_networks[year] = G\n",
    "\n",
    "alliance_networks = {}\n",
    "for j in alliance_df.groupby('year'):\n",
    "    year = j[0]\n",
    "    df = j[1]\n",
    "    G = nx.from_pandas_edgelist(df, 'state_nameA', 'state_nameB', 'defense', create_using=nx.DiGraph())\n",
    "    alliance_networks[year] = G"
   ],
   "metadata": {
    "collapsed": false,
    "ExecuteTime": {
     "end_time": "2024-09-30T14:39:47.636010Z",
     "start_time": "2024-09-30T14:39:44.636353Z"
    }
   },
   "outputs": [],
   "execution_count": 7
  },
  {
   "cell_type": "code",
   "source": "nx.draw(trade_networks[0][-1], with_labels=True, pos=nx.spring_layout(trade_networks[0][-1]))",
   "metadata": {
    "collapsed": false,
    "ExecuteTime": {
     "end_time": "2024-09-30T14:39:47.948484Z",
     "start_time": "2024-09-30T14:39:47.677134Z"
    }
   },
   "outputs": [
    {
     "ename": "KeyError",
     "evalue": "0",
     "output_type": "error",
     "traceback": [
      "\u001B[1;31m---------------------------------------------------------------------------\u001B[0m",
      "\u001B[1;31mKeyError\u001B[0m                                  Traceback (most recent call last)",
      "Cell \u001B[1;32mIn[8], line 1\u001B[0m\n\u001B[1;32m----> 1\u001B[0m nx\u001B[38;5;241m.\u001B[39mdraw(\u001B[43mtrade_networks\u001B[49m\u001B[43m[\u001B[49m\u001B[38;5;241;43m0\u001B[39;49m\u001B[43m]\u001B[49m[\u001B[38;5;241m-\u001B[39m\u001B[38;5;241m1\u001B[39m], with_labels\u001B[38;5;241m=\u001B[39m\u001B[38;5;28;01mTrue\u001B[39;00m, pos\u001B[38;5;241m=\u001B[39mnx\u001B[38;5;241m.\u001B[39mspring_layout(trade_networks[\u001B[38;5;241m0\u001B[39m][\u001B[38;5;241m-\u001B[39m\u001B[38;5;241m1\u001B[39m]))\n",
      "\u001B[1;31mKeyError\u001B[0m: 0"
     ]
    }
   ],
   "execution_count": 8
  },
  {
   "cell_type": "code",
   "execution_count": 73,
   "outputs": [],
   "source": [
    "alliance_communities = {}\n",
    "for year, graph in alliance_networks.items():\n",
    "    alliance_communities[year] = nx.algorithms.community.louvain_communities(graph)\n",
    "\n",
    "trade_communities = {}\n",
    "for year, graph in trade_networks.items():\n",
    "    trade_communities[year] = nx.algorithms.community.louvain_communities(graph)"
   ],
   "metadata": {
    "collapsed": false
   }
  },
  {
   "cell_type": "code",
   "execution_count": 74,
   "outputs": [
    {
     "name": "stdout",
     "output_type": "stream",
     "text": [
      "[{'Belize', 'Barbados', 'Mexico', 'St. Lucia', 'Venezuela', 'Costa Rica', 'Bolivia', 'Haiti', 'Guyana', 'Colombia', 'St. Kitts and Nevis', 'Uruguay', 'Brazil', 'Guatemala', 'Ecuador', 'Dominican Republic', 'Panama', 'United States of America', 'Tuvalu', 'Jamaica', 'Chile', 'Trinidad and Tobago', 'Grenada', 'Dominica', 'El Salvador', 'Suriname', 'Paraguay', 'Argentina', 'Antigua & Barbuda', 'Nicaragua', 'St. Vincent and the Grenadines', 'Honduras', 'Peru', 'Afghanistan', 'Kiribati', 'Bahamas'}, {'Estonia', 'Croatia', 'Monaco', 'Turkey', 'Belgium', 'Lithuania', 'Bulgaria', 'Italy', 'Uzbekistan', 'Poland', 'Portugal', 'Kyrgyzstan', 'Turkmenistan', 'Denmark', 'Yugoslavia', 'Slovakia', 'San Marino', 'Kazakhstan', 'Armenia', 'Liechtenstein', 'Romania', 'Czech Republic', 'Finland', 'Greece', 'Norway', 'Austria', 'Latvia', 'Spain', 'Belarus', 'Bosnia and Herzegovina', 'Switzerland', 'Mongolia', 'Sweden', 'Cyprus', 'Moldova', 'Canada', 'Tajikistan', 'Netherlands', 'Hungary', 'Azerbaijan', 'Montenegro', 'Malta', 'Germany', 'Iceland', 'Georgia', 'Russia', 'Albania', 'Iran', 'Luxembourg', 'Macedonia', 'Ireland', 'Slovenia', 'United Kingdom', 'Ukraine', 'France', 'Andorra'}, {'Brunei', 'Laos', 'Vietnam', 'South Korea', 'Morocco', 'Samoa', 'India', 'Singapore', 'Australia', 'Malaysia', 'Pakistan', 'Bangladesh', 'North Korea', 'China', 'Philippines', 'East Timor', 'Thailand', 'Tonga', 'Myanmar', 'Japan', 'Maldives', 'Nepal', 'Papua New Guinea', 'Sri Lanka', 'Cambodia', 'New Zealand', 'Indonesia', 'Fiji'}, {'Senegal', 'Zambia', 'Cameroon', 'Yemen', 'Cuba', 'Tanzania', 'Sierra Leone', 'Lebanon', 'Tunisia', 'South Africa', 'Cape Verde', 'Kenya', 'Libya', 'Ivory Coast', 'Sudan', 'Niger', 'Algeria', 'Central African Republic', 'Djibouti', 'Israel', 'South Sudan', 'Burundi', 'Rwanda', 'Mali', 'Democratic Republic of the Congo', 'Eritrea', 'Mauritius', 'Jordan', 'Burkina Faso', 'Guinea-Bissau', 'Ghana', 'Oman', 'Somalia', 'Ethiopia', 'Mauritania', 'Liberia', 'Congo', 'Botswana', 'Syria', 'Nigeria', 'Comoros', 'Uganda', 'Kuwait', 'Saudi Arabia', 'Seychelles', 'Malawi', 'Angola', 'Lesotho', 'Mozambique', 'Chad', 'Bahrain', 'Madagascar', 'Sao Tome and Principe', 'Gabon', 'Swaziland', 'Iraq', 'Guinea', 'Benin', 'Togo', 'Egypt', 'Namibia', 'Gambia', 'Equatorial Guinea', 'Qatar', 'United Arab Emirates', 'Zimbabwe'}]\n",
      "\n",
      "[{'LUX', 'SER', 'BGR', 'EST', 'SMR', 'MKD', 'LAO', 'ROM', 'BHR', 'LVA', 'KHM', 'GEO', 'BLR', 'MNG', 'LKA', 'NPL', 'AZE', 'RUS', 'KGZ', 'IRN', 'AFG', 'MDA', 'MAC', 'TJK', 'ISL', 'KAZ', 'UZB', 'NOR', 'ARM', 'BIH', 'BRN', 'MMR', 'LTU', 'ALB', 'JOR', 'HUN', 'TKM', 'MNT', 'IRQ', 'VNM', 'SYR'}, {'OMN', 'BFA', 'CAF', 'MWI', 'SYC', 'ANT', 'SAU', 'PRK', 'GNB', 'EGY', 'LBN', 'SUD', 'MDG', 'HRV', 'BDI', 'RWA', 'ARG', 'TZA', 'SEN', 'CHL', 'ZWE', 'BGD', 'MRT', 'BWA', 'GAB', 'ZMB', 'DZA', 'GMB', 'SLE', 'CPV', 'MAR', 'TGO', 'KEN', 'GIN', 'LSO', 'MOZ', 'UGA', 'COM', 'SWZ', 'SOM', 'HKG', 'GHA', 'COG', 'GNQ', 'NER', 'MLT', 'MUS', 'LBR', 'CMR', 'AGO', 'ZAR', 'MLI', 'BEN', 'CYP', 'KWT', 'DJI', 'NGA', 'ETH', 'NAM', 'PAK', 'LBY', 'TCD', 'QAT', 'TUN', 'PRT', 'UKR', 'CIV'}, {'HND', 'BRB', 'GRC', 'SUR', 'CUW', 'JAM', 'GRD', 'BHS', 'PHL', 'COL', 'GUY', 'BMU', 'ISR', 'AND', 'ECU', 'VCT', 'PAN', 'CUB', 'ATG', 'FIN', 'CYM', 'FRE', 'JPN', 'CHN', 'LCA', 'MEX', 'URY', 'PER', 'UNS', 'BOL', 'VEN', 'VGB', 'SLV', 'CRI', 'TTO', 'AUT', 'DMA', 'PRY', 'BAT', 'HTI', 'BLZ', 'MSR', 'NIC', 'KNA', 'GTM', 'DOM', 'TCA', 'ABW'}, {'UMI', 'BRA', 'DNK', 'GBR', 'TMP', 'NZL', 'PSE', 'BLM', 'SGP', 'TON', 'PLW', 'THA', 'NIU', 'ZAF', 'FLK', 'SWE', 'BUN', 'CZE', 'TKL', 'AIA', 'SLB', 'FRO', 'IOT', 'SGS', 'SVN', 'ASM', 'STP', 'DEU', 'ATA', 'CXR', 'BVT', 'FRA', 'IRL', 'MDV', 'FSM', 'GUM', 'BTN', 'GRL', 'KOR', 'PYF', 'ESH', 'WSM', 'BES', 'NRU', 'VUT', 'PCN', 'ERI', 'AUS', 'TUV', 'ESP', 'ATF', 'PNG', 'NFK', 'BEL', 'IDN', 'GIB', 'ARE', 'SSD', 'MYS', 'TUR', 'OAS', 'POL', 'SPM', 'IND', 'NCL', 'SPE', 'CAN', 'VAT', 'MNP', 'FJI', 'WLF', 'NLD', 'HMD', 'SXM', 'CCK', 'YEM', 'SVK', 'CHE', 'KIR', 'COK', 'MHL', 'SHN', 'ITA', 'USA'}]\n"
     ]
    }
   ],
   "source": [
    "# Alliance communities for a given year\n",
    "print(alliance_communities[2018])\n",
    "\n",
    "print()\n",
    "\n",
    "# Trade communities for a given year\n",
    "print(trade_communities[2018])"
   ],
   "metadata": {
    "collapsed": false
   }
  },
  {
   "cell_type": "code",
   "execution_count": 75,
   "outputs": [
    {
     "name": "stdout",
     "output_type": "stream",
     "text": [
      "Year: 1988\n",
      "Number of trade communities: 3\n",
      "Number of alliance communities: 5\n",
      "\n",
      "Year: 1989\n",
      "Number of trade communities: 3\n",
      "Number of alliance communities: 5\n",
      "\n",
      "Year: 1990\n",
      "Number of trade communities: 2\n",
      "Number of alliance communities: 6\n",
      "\n",
      "Year: 1991\n",
      "Number of trade communities: 3\n",
      "Number of alliance communities: 6\n",
      "\n",
      "Year: 1992\n",
      "Number of trade communities: 4\n",
      "Number of alliance communities: 7\n",
      "\n",
      "Year: 1993\n",
      "Number of trade communities: 3\n",
      "Number of alliance communities: 6\n",
      "\n",
      "Year: 1994\n",
      "Number of trade communities: 4\n",
      "Number of alliance communities: 5\n",
      "\n",
      "Year: 1995\n",
      "Number of trade communities: 4\n",
      "Number of alliance communities: 5\n",
      "\n",
      "Year: 1996\n",
      "Number of trade communities: 4\n",
      "Number of alliance communities: 6\n",
      "\n",
      "Year: 1997\n",
      "Number of trade communities: 4\n",
      "Number of alliance communities: 5\n",
      "\n",
      "Year: 1998\n",
      "Number of trade communities: 4\n",
      "Number of alliance communities: 6\n",
      "\n",
      "Year: 1999\n",
      "Number of trade communities: 4\n",
      "Number of alliance communities: 6\n",
      "\n",
      "Year: 2000\n",
      "Number of trade communities: 4\n",
      "Number of alliance communities: 4\n",
      "\n",
      "Year: 2001\n",
      "Number of trade communities: 4\n",
      "Number of alliance communities: 4\n",
      "\n",
      "Year: 2002\n",
      "Number of trade communities: 4\n",
      "Number of alliance communities: 4\n",
      "\n",
      "Year: 2003\n",
      "Number of trade communities: 4\n",
      "Number of alliance communities: 4\n",
      "\n",
      "Year: 2004\n",
      "Number of trade communities: 4\n",
      "Number of alliance communities: 4\n",
      "\n",
      "Year: 2005\n",
      "Number of trade communities: 4\n",
      "Number of alliance communities: 4\n",
      "\n",
      "Year: 2006\n",
      "Number of trade communities: 4\n",
      "Number of alliance communities: 4\n",
      "\n",
      "Year: 2007\n",
      "Number of trade communities: 3\n",
      "Number of alliance communities: 4\n",
      "\n",
      "Year: 2008\n",
      "Number of trade communities: 4\n",
      "Number of alliance communities: 4\n",
      "\n",
      "Year: 2009\n",
      "Number of trade communities: 4\n",
      "Number of alliance communities: 4\n",
      "\n",
      "Year: 2010\n",
      "Number of trade communities: 3\n",
      "Number of alliance communities: 4\n",
      "\n",
      "Year: 2011\n",
      "Number of trade communities: 3\n",
      "Number of alliance communities: 4\n",
      "\n",
      "Year: 2012\n",
      "Number of trade communities: 4\n",
      "Number of alliance communities: 4\n",
      "\n",
      "Year: 2013\n",
      "Number of trade communities: 3\n",
      "Number of alliance communities: 4\n",
      "\n",
      "Year: 2014\n",
      "Number of trade communities: 3\n",
      "Number of alliance communities: 4\n",
      "\n",
      "Year: 2015\n",
      "Number of trade communities: 3\n",
      "Number of alliance communities: 4\n",
      "\n",
      "Year: 2016\n",
      "Number of trade communities: 4\n",
      "Number of alliance communities: 4\n",
      "\n",
      "Year: 2017\n",
      "Number of trade communities: 4\n",
      "Number of alliance communities: 4\n",
      "\n",
      "Year: 2018\n",
      "Number of trade communities: 4\n",
      "Number of alliance communities: 4\n",
      "\n"
     ]
    }
   ],
   "source": [
    "\"\"\" Compare trade and alliance communities \"\"\"\n",
    "for year in range(1988,2019):\n",
    "    trade_comm = trade_communities[year]\n",
    "    alliance_comm = alliance_communities[year]\n",
    "    print(f'Year: {year}')\n",
    "    print(f'Number of trade communities: {len(trade_comm)}')\n",
    "    print(f'Number of alliance communities: {len(alliance_comm)}\\n')"
   ],
   "metadata": {
    "collapsed": false
   }
  },
  {
   "cell_type": "code",
   "execution_count": 76,
   "outputs": [
    {
     "name": "stderr",
     "output_type": "stream",
     "text": [
      "C:\\Users\\AKaiz\\AppData\\Local\\Temp\\ipykernel_1040\\1257793532.py:10: SettingWithCopyWarning: \n",
      "A value is trying to be set on a copy of a slice from a DataFrame.\n",
      "Try using .loc[row_indexer,col_indexer] = value instead\n",
      "\n",
      "See the caveats in the documentation: https://pandas.pydata.org/pandas-docs/stable/user_guide/indexing.html#returning-a-view-versus-a-copy\n",
      "  trade_year.loc[(trade_year['reporter'] == dyad[0]) & (trade_year['partner'] == dyad[1])\n"
     ]
    }
   ],
   "source": [
    "\"\"\" Find common alliances \"\"\"\n",
    "\n",
    "for year in range(2018,2019):\n",
    "    trade_year = trade_df[trade_df['year'] == year]\n",
    "    alliance_year = alliance_df[alliance_df['year'] == year]\n",
    "\n",
    "    for dyad in trade_year[['reporter', 'partner']].values:\n",
    "        dyad_has_alliance = alliance_year.loc[(alliance_year['iso3A'] == dyad[0]) & (alliance_year['iso3B'] == dyad[1])]\n",
    "        if not dyad_has_alliance.empty:\n",
    "            trade_year.loc[(trade_year['reporter'] == dyad[0]) & (trade_year['partner'] == dyad[1])\n",
    "            ]['alliance'] = 1\n",
    "\n",
    "    trade_df.loc[trade_df['year'] == year] = trade_year"
   ],
   "metadata": {
    "collapsed": false
   }
  },
  {
   "cell_type": "code",
   "execution_count": 79,
   "outputs": [
    {
     "data": {
      "text/plain": "       reporter partner  year        export         import alliance\n0           AFG     AUS  2008     10.692000     129.485000      NaN\n1           AFG     AUS  2009      8.462000    1214.034000      NaN\n2           AFG     AUS  2010    648.457000    1329.447000      NaN\n3           AFG     AUS  2011    111.502000    1301.370000      NaN\n4           AFG     AUS  2015   1296.260000    1259.046000      NaN\n...         ...     ...   ...           ...            ...      ...\n729896      ZWE     ZMB  2017  58352.517720  125750.699130      NaN\n729897      ZWE     ZMB  2018  66580.106170  176819.220710      NaN\n729898      ZWE     ZMB  2019  59552.557370   96423.163390      NaN\n729899      ZWE     ZMB  2020  52563.443335  111427.350996      NaN\n729900      ZWE     ZMB  2021  60108.683130  204505.083050      NaN\n\n[729901 rows x 6 columns]",
      "text/html": "<div>\n<style scoped>\n    .dataframe tbody tr th:only-of-type {\n        vertical-align: middle;\n    }\n\n    .dataframe tbody tr th {\n        vertical-align: top;\n    }\n\n    .dataframe thead th {\n        text-align: right;\n    }\n</style>\n<table border=\"1\" class=\"dataframe\">\n  <thead>\n    <tr style=\"text-align: right;\">\n      <th></th>\n      <th>reporter</th>\n      <th>partner</th>\n      <th>year</th>\n      <th>export</th>\n      <th>import</th>\n      <th>alliance</th>\n    </tr>\n  </thead>\n  <tbody>\n    <tr>\n      <th>0</th>\n      <td>AFG</td>\n      <td>AUS</td>\n      <td>2008</td>\n      <td>10.692000</td>\n      <td>129.485000</td>\n      <td>NaN</td>\n    </tr>\n    <tr>\n      <th>1</th>\n      <td>AFG</td>\n      <td>AUS</td>\n      <td>2009</td>\n      <td>8.462000</td>\n      <td>1214.034000</td>\n      <td>NaN</td>\n    </tr>\n    <tr>\n      <th>2</th>\n      <td>AFG</td>\n      <td>AUS</td>\n      <td>2010</td>\n      <td>648.457000</td>\n      <td>1329.447000</td>\n      <td>NaN</td>\n    </tr>\n    <tr>\n      <th>3</th>\n      <td>AFG</td>\n      <td>AUS</td>\n      <td>2011</td>\n      <td>111.502000</td>\n      <td>1301.370000</td>\n      <td>NaN</td>\n    </tr>\n    <tr>\n      <th>4</th>\n      <td>AFG</td>\n      <td>AUS</td>\n      <td>2015</td>\n      <td>1296.260000</td>\n      <td>1259.046000</td>\n      <td>NaN</td>\n    </tr>\n    <tr>\n      <th>...</th>\n      <td>...</td>\n      <td>...</td>\n      <td>...</td>\n      <td>...</td>\n      <td>...</td>\n      <td>...</td>\n    </tr>\n    <tr>\n      <th>729896</th>\n      <td>ZWE</td>\n      <td>ZMB</td>\n      <td>2017</td>\n      <td>58352.517720</td>\n      <td>125750.699130</td>\n      <td>NaN</td>\n    </tr>\n    <tr>\n      <th>729897</th>\n      <td>ZWE</td>\n      <td>ZMB</td>\n      <td>2018</td>\n      <td>66580.106170</td>\n      <td>176819.220710</td>\n      <td>NaN</td>\n    </tr>\n    <tr>\n      <th>729898</th>\n      <td>ZWE</td>\n      <td>ZMB</td>\n      <td>2019</td>\n      <td>59552.557370</td>\n      <td>96423.163390</td>\n      <td>NaN</td>\n    </tr>\n    <tr>\n      <th>729899</th>\n      <td>ZWE</td>\n      <td>ZMB</td>\n      <td>2020</td>\n      <td>52563.443335</td>\n      <td>111427.350996</td>\n      <td>NaN</td>\n    </tr>\n    <tr>\n      <th>729900</th>\n      <td>ZWE</td>\n      <td>ZMB</td>\n      <td>2021</td>\n      <td>60108.683130</td>\n      <td>204505.083050</td>\n      <td>NaN</td>\n    </tr>\n  </tbody>\n</table>\n<p>729901 rows × 6 columns</p>\n</div>"
     },
     "execution_count": 79,
     "metadata": {},
     "output_type": "execute_result"
    }
   ],
   "source": [
    "trade_df"
   ],
   "metadata": {
    "collapsed": false
   }
  }
 ],
 "metadata": {
  "kernelspec": {
   "display_name": "Python 3",
   "language": "python",
   "name": "python3"
  },
  "language_info": {
   "codemirror_mode": {
    "name": "ipython",
    "version": 2
   },
   "file_extension": ".py",
   "mimetype": "text/x-python",
   "name": "python",
   "nbconvert_exporter": "python",
   "pygments_lexer": "ipython2",
   "version": "2.7.6"
  }
 },
 "nbformat": 4,
 "nbformat_minor": 0
}
