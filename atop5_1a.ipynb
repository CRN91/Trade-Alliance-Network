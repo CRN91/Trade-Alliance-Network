{
 "cells": [
  {
   "cell_type": "code",
   "execution_count": 1,
   "metadata": {
    "collapsed": true
   },
   "outputs": [],
   "source": [
    "import pandas as pd"
   ]
  },
  {
   "cell_type": "code",
   "execution_count": 2,
   "outputs": [],
   "source": [
    "atop = pd.read_csv(\"./alliances/atop5_1a.csv\")"
   ],
   "metadata": {
    "collapsed": false
   }
  },
  {
   "cell_type": "code",
   "execution_count": 3,
   "outputs": [
    {
     "name": "stdout",
     "output_type": "stream",
     "text": [
      "<class 'pandas.core.frame.DataFrame'>\n",
      "RangeIndex: 789 entries, 0 to 788\n",
      "Columns: 134 entries, atopid to version\n",
      "dtypes: float64(107), int64(27)\n",
      "memory usage: 826.1 KB\n"
     ]
    },
    {
     "data": {
      "text/plain": "   atopid   cowid  cow4id  begyr  begmo  begday  endyr  endmo  endday  \\\n0    1005     NaN     NaN   1815      1     3.0   1815      2     8.0   \n1    1010     NaN     NaN   1815      1    14.0   1815      6     8.0   \n2    1015     NaN     NaN   1815      4    29.0   1815      6    12.0   \n3    1020  2005.0     3.0   1815      6     8.0   1866      6    15.0   \n4    1025  2006.0     4.0   1815      6    12.0   1820      7    13.0   \n\n   ineffect  ...  mem54  mem55  mem56  mem57  mem58  mem59  source  new5  \\\n0         0  ...    NaN    NaN    NaN    NaN    NaN    NaN       1     0   \n1         0  ...    NaN    NaN    NaN    NaN    NaN    NaN       1     0   \n2         0  ...    NaN    NaN    NaN    NaN    NaN    NaN       1     0   \n3         0  ...    NaN    NaN    NaN    NaN    NaN    NaN       1     0   \n4         0  ...    NaN    NaN    NaN    NaN    NaN    NaN       1     0   \n\n   rev5  version  \n0     0      5.1  \n1     0      5.1  \n2     0      5.1  \n3     0      5.1  \n4     0      5.1  \n\n[5 rows x 134 columns]",
      "text/html": "<div>\n<style scoped>\n    .dataframe tbody tr th:only-of-type {\n        vertical-align: middle;\n    }\n\n    .dataframe tbody tr th {\n        vertical-align: top;\n    }\n\n    .dataframe thead th {\n        text-align: right;\n    }\n</style>\n<table border=\"1\" class=\"dataframe\">\n  <thead>\n    <tr style=\"text-align: right;\">\n      <th></th>\n      <th>atopid</th>\n      <th>cowid</th>\n      <th>cow4id</th>\n      <th>begyr</th>\n      <th>begmo</th>\n      <th>begday</th>\n      <th>endyr</th>\n      <th>endmo</th>\n      <th>endday</th>\n      <th>ineffect</th>\n      <th>...</th>\n      <th>mem54</th>\n      <th>mem55</th>\n      <th>mem56</th>\n      <th>mem57</th>\n      <th>mem58</th>\n      <th>mem59</th>\n      <th>source</th>\n      <th>new5</th>\n      <th>rev5</th>\n      <th>version</th>\n    </tr>\n  </thead>\n  <tbody>\n    <tr>\n      <th>0</th>\n      <td>1005</td>\n      <td>NaN</td>\n      <td>NaN</td>\n      <td>1815</td>\n      <td>1</td>\n      <td>3.0</td>\n      <td>1815</td>\n      <td>2</td>\n      <td>8.0</td>\n      <td>0</td>\n      <td>...</td>\n      <td>NaN</td>\n      <td>NaN</td>\n      <td>NaN</td>\n      <td>NaN</td>\n      <td>NaN</td>\n      <td>NaN</td>\n      <td>1</td>\n      <td>0</td>\n      <td>0</td>\n      <td>5.1</td>\n    </tr>\n    <tr>\n      <th>1</th>\n      <td>1010</td>\n      <td>NaN</td>\n      <td>NaN</td>\n      <td>1815</td>\n      <td>1</td>\n      <td>14.0</td>\n      <td>1815</td>\n      <td>6</td>\n      <td>8.0</td>\n      <td>0</td>\n      <td>...</td>\n      <td>NaN</td>\n      <td>NaN</td>\n      <td>NaN</td>\n      <td>NaN</td>\n      <td>NaN</td>\n      <td>NaN</td>\n      <td>1</td>\n      <td>0</td>\n      <td>0</td>\n      <td>5.1</td>\n    </tr>\n    <tr>\n      <th>2</th>\n      <td>1015</td>\n      <td>NaN</td>\n      <td>NaN</td>\n      <td>1815</td>\n      <td>4</td>\n      <td>29.0</td>\n      <td>1815</td>\n      <td>6</td>\n      <td>12.0</td>\n      <td>0</td>\n      <td>...</td>\n      <td>NaN</td>\n      <td>NaN</td>\n      <td>NaN</td>\n      <td>NaN</td>\n      <td>NaN</td>\n      <td>NaN</td>\n      <td>1</td>\n      <td>0</td>\n      <td>0</td>\n      <td>5.1</td>\n    </tr>\n    <tr>\n      <th>3</th>\n      <td>1020</td>\n      <td>2005.0</td>\n      <td>3.0</td>\n      <td>1815</td>\n      <td>6</td>\n      <td>8.0</td>\n      <td>1866</td>\n      <td>6</td>\n      <td>15.0</td>\n      <td>0</td>\n      <td>...</td>\n      <td>NaN</td>\n      <td>NaN</td>\n      <td>NaN</td>\n      <td>NaN</td>\n      <td>NaN</td>\n      <td>NaN</td>\n      <td>1</td>\n      <td>0</td>\n      <td>0</td>\n      <td>5.1</td>\n    </tr>\n    <tr>\n      <th>4</th>\n      <td>1025</td>\n      <td>2006.0</td>\n      <td>4.0</td>\n      <td>1815</td>\n      <td>6</td>\n      <td>12.0</td>\n      <td>1820</td>\n      <td>7</td>\n      <td>13.0</td>\n      <td>0</td>\n      <td>...</td>\n      <td>NaN</td>\n      <td>NaN</td>\n      <td>NaN</td>\n      <td>NaN</td>\n      <td>NaN</td>\n      <td>NaN</td>\n      <td>1</td>\n      <td>0</td>\n      <td>0</td>\n      <td>5.1</td>\n    </tr>\n  </tbody>\n</table>\n<p>5 rows × 134 columns</p>\n</div>"
     },
     "execution_count": 3,
     "metadata": {},
     "output_type": "execute_result"
    }
   ],
   "source": [
    "atop.info()\n",
    "atop.head()"
   ],
   "metadata": {
    "collapsed": false
   }
  },
  {
   "cell_type": "code",
   "execution_count": 4,
   "outputs": [
    {
     "data": {
      "text/plain": "atopid       0\ncowid      479\ncow4id     395\nbegyr        0\nbegmo        0\n          ... \nmem59      788\nsource       0\nnew5         0\nrev5         0\nversion      0\nLength: 134, dtype: int64"
     },
     "execution_count": 4,
     "metadata": {},
     "output_type": "execute_result"
    }
   ],
   "source": [
    "atop.isnull().sum()"
   ],
   "metadata": {
    "collapsed": false
   }
  }
 ],
 "metadata": {
  "kernelspec": {
   "display_name": "Python 3",
   "language": "python",
   "name": "python3"
  },
  "language_info": {
   "codemirror_mode": {
    "name": "ipython",
    "version": 2
   },
   "file_extension": ".py",
   "mimetype": "text/x-python",
   "name": "python",
   "nbconvert_exporter": "python",
   "pygments_lexer": "ipython2",
   "version": "2.7.6"
  }
 },
 "nbformat": 4,
 "nbformat_minor": 0
}
