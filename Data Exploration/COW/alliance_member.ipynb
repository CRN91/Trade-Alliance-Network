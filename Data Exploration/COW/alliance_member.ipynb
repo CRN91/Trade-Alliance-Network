{
 "cells": [
  {
   "cell_type": "code",
   "execution_count": 1,
   "metadata": {
    "collapsed": true
   },
   "outputs": [],
   "source": [
    "import pandas as pd\n",
    "import numpy as np\n",
    "import matplotlib.pyplot as plt\n",
    "import seaborn as sns\n",
    "from sklearn.model_selection import train_test_split\n",
    "from sklearn.linear_model import LinearRegression\n",
    "from sklearn.metrics import mean_squared_error"
   ]
  },
  {
   "cell_type": "code",
   "execution_count": 2,
   "outputs": [],
   "source": [
    "# Information on each member on each alliance they're a member\n",
    "ally_member = pd.read_csv(\"./COW_data/alliance_v4.1_by_member.csv\")"
   ],
   "metadata": {
    "collapsed": false
   }
  },
  {
   "cell_type": "markdown",
   "source": [],
   "metadata": {
    "collapsed": false
   }
  },
  {
   "cell_type": "code",
   "execution_count": 3,
   "outputs": [
    {
     "name": "stdout",
     "output_type": "stream",
     "text": [
      "<class 'pandas.core.frame.DataFrame'>\n",
      "RangeIndex: 1221 entries, 0 to 1220\n",
      "Data columns (total 23 columns):\n",
      " #   Column         Non-Null Count  Dtype  \n",
      "---  ------         --------------  -----  \n",
      " 0   version4id     1221 non-null   int64  \n",
      " 1   ccode          1221 non-null   int64  \n",
      " 2   state_name     1221 non-null   object \n",
      " 3   all_st_day     1221 non-null   int64  \n",
      " 4   all_st_month   1221 non-null   int64  \n",
      " 5   all_st_year    1221 non-null   int64  \n",
      " 6   all_end_day    848 non-null    float64\n",
      " 7   all_end_month  848 non-null    float64\n",
      " 8   all_end_year   848 non-null    float64\n",
      " 9   ss_type        1221 non-null   object \n",
      " 10  mem_st_day     1221 non-null   int64  \n",
      " 11  mem_st_month   1221 non-null   int64  \n",
      " 12  mem_st_year    1221 non-null   int64  \n",
      " 13  mem_end_day    862 non-null    float64\n",
      " 14  mem_end_month  862 non-null    float64\n",
      " 15  mem_end_year   862 non-null    float64\n",
      " 16  left_censor    1219 non-null   float64\n",
      " 17  right_censor   1221 non-null   int64  \n",
      " 18  defense        1221 non-null   int64  \n",
      " 19  neutrality     1221 non-null   int64  \n",
      " 20  nonaggression  1220 non-null   float64\n",
      " 21  entente        1219 non-null   float64\n",
      " 22  version        1221 non-null   float64\n",
      "dtypes: float64(10), int64(11), object(2)\n",
      "memory usage: 219.5+ KB\n"
     ]
    },
    {
     "data": {
      "text/plain": "   version4id  ccode      state_name  all_st_day  all_st_month  all_st_year  \\\n0           1    200  United Kingdom           9             5         1386   \n1           1    235        Portugal           9             5         1386   \n2           2    200  United Kingdom           5             2         1766   \n3           2    380          Sweden           5             2         1766   \n4           3    240         Hanover           8             6         1815   \n5           3    240         Hanover           8             6         1815   \n6           3    245         Bavaria           8             6         1815   \n7           3    245         Bavaria           8             6         1815   \n8           3    255         Germany           8             6         1815   \n9           3    255         Germany           8             6         1815   \n\n   all_end_day  all_end_month  all_end_year               ss_type  ...  \\\n0          NaN            NaN           NaN  Type I: Defense Pact  ...   \n1          NaN            NaN           NaN  Type I: Defense Pact  ...   \n2         15.0            2.0        1911.0     Type III: Entente  ...   \n3         15.0            2.0        1911.0     Type III: Entente  ...   \n4         15.0            6.0        1866.0  Type I: Defense Pact  ...   \n5         15.0            6.0        1866.0  Type I: Defense Pact  ...   \n6         15.0            6.0        1866.0  Type I: Defense Pact  ...   \n7         15.0            6.0        1866.0  Type I: Defense Pact  ...   \n8         15.0            6.0        1866.0  Type I: Defense Pact  ...   \n9         15.0            6.0        1866.0  Type I: Defense Pact  ...   \n\n   mem_end_day  mem_end_month  mem_end_year  left_censor  right_censor  \\\n0          NaN            NaN           NaN          1.0             1   \n1          NaN            NaN           NaN          1.0             1   \n2         15.0            2.0        1911.0          1.0             0   \n3         15.0            2.0        1911.0          1.0             0   \n4         15.0            3.0        1848.0          0.0             0   \n5         15.0            6.0        1866.0          0.0             0   \n6         15.0            3.0        1848.0          1.0             0   \n7         15.0            6.0        1866.0          0.0             0   \n8         15.0            3.0        1848.0          1.0             0   \n9         15.0            6.0        1866.0          0.0             0   \n\n   defense  neutrality  nonaggression  entente  version  \n0        1           0            1.0      0.0      4.1  \n1        1           0            1.0      0.0      4.1  \n2        0           0            0.0      1.0      4.1  \n3        0           0            0.0      1.0      4.1  \n4        1           0            1.0      1.0      4.1  \n5        1           0            1.0      1.0      4.1  \n6        1           0            1.0      1.0      4.1  \n7        1           0            1.0      1.0      4.1  \n8        1           0            1.0      1.0      4.1  \n9        1           0            1.0      1.0      4.1  \n\n[10 rows x 23 columns]",
      "text/html": "<div>\n<style scoped>\n    .dataframe tbody tr th:only-of-type {\n        vertical-align: middle;\n    }\n\n    .dataframe tbody tr th {\n        vertical-align: top;\n    }\n\n    .dataframe thead th {\n        text-align: right;\n    }\n</style>\n<table border=\"1\" class=\"dataframe\">\n  <thead>\n    <tr style=\"text-align: right;\">\n      <th></th>\n      <th>version4id</th>\n      <th>ccode</th>\n      <th>state_name</th>\n      <th>all_st_day</th>\n      <th>all_st_month</th>\n      <th>all_st_year</th>\n      <th>all_end_day</th>\n      <th>all_end_month</th>\n      <th>all_end_year</th>\n      <th>ss_type</th>\n      <th>...</th>\n      <th>mem_end_day</th>\n      <th>mem_end_month</th>\n      <th>mem_end_year</th>\n      <th>left_censor</th>\n      <th>right_censor</th>\n      <th>defense</th>\n      <th>neutrality</th>\n      <th>nonaggression</th>\n      <th>entente</th>\n      <th>version</th>\n    </tr>\n  </thead>\n  <tbody>\n    <tr>\n      <th>0</th>\n      <td>1</td>\n      <td>200</td>\n      <td>United Kingdom</td>\n      <td>9</td>\n      <td>5</td>\n      <td>1386</td>\n      <td>NaN</td>\n      <td>NaN</td>\n      <td>NaN</td>\n      <td>Type I: Defense Pact</td>\n      <td>...</td>\n      <td>NaN</td>\n      <td>NaN</td>\n      <td>NaN</td>\n      <td>1.0</td>\n      <td>1</td>\n      <td>1</td>\n      <td>0</td>\n      <td>1.0</td>\n      <td>0.0</td>\n      <td>4.1</td>\n    </tr>\n    <tr>\n      <th>1</th>\n      <td>1</td>\n      <td>235</td>\n      <td>Portugal</td>\n      <td>9</td>\n      <td>5</td>\n      <td>1386</td>\n      <td>NaN</td>\n      <td>NaN</td>\n      <td>NaN</td>\n      <td>Type I: Defense Pact</td>\n      <td>...</td>\n      <td>NaN</td>\n      <td>NaN</td>\n      <td>NaN</td>\n      <td>1.0</td>\n      <td>1</td>\n      <td>1</td>\n      <td>0</td>\n      <td>1.0</td>\n      <td>0.0</td>\n      <td>4.1</td>\n    </tr>\n    <tr>\n      <th>2</th>\n      <td>2</td>\n      <td>200</td>\n      <td>United Kingdom</td>\n      <td>5</td>\n      <td>2</td>\n      <td>1766</td>\n      <td>15.0</td>\n      <td>2.0</td>\n      <td>1911.0</td>\n      <td>Type III: Entente</td>\n      <td>...</td>\n      <td>15.0</td>\n      <td>2.0</td>\n      <td>1911.0</td>\n      <td>1.0</td>\n      <td>0</td>\n      <td>0</td>\n      <td>0</td>\n      <td>0.0</td>\n      <td>1.0</td>\n      <td>4.1</td>\n    </tr>\n    <tr>\n      <th>3</th>\n      <td>2</td>\n      <td>380</td>\n      <td>Sweden</td>\n      <td>5</td>\n      <td>2</td>\n      <td>1766</td>\n      <td>15.0</td>\n      <td>2.0</td>\n      <td>1911.0</td>\n      <td>Type III: Entente</td>\n      <td>...</td>\n      <td>15.0</td>\n      <td>2.0</td>\n      <td>1911.0</td>\n      <td>1.0</td>\n      <td>0</td>\n      <td>0</td>\n      <td>0</td>\n      <td>0.0</td>\n      <td>1.0</td>\n      <td>4.1</td>\n    </tr>\n    <tr>\n      <th>4</th>\n      <td>3</td>\n      <td>240</td>\n      <td>Hanover</td>\n      <td>8</td>\n      <td>6</td>\n      <td>1815</td>\n      <td>15.0</td>\n      <td>6.0</td>\n      <td>1866.0</td>\n      <td>Type I: Defense Pact</td>\n      <td>...</td>\n      <td>15.0</td>\n      <td>3.0</td>\n      <td>1848.0</td>\n      <td>0.0</td>\n      <td>0</td>\n      <td>1</td>\n      <td>0</td>\n      <td>1.0</td>\n      <td>1.0</td>\n      <td>4.1</td>\n    </tr>\n    <tr>\n      <th>5</th>\n      <td>3</td>\n      <td>240</td>\n      <td>Hanover</td>\n      <td>8</td>\n      <td>6</td>\n      <td>1815</td>\n      <td>15.0</td>\n      <td>6.0</td>\n      <td>1866.0</td>\n      <td>Type I: Defense Pact</td>\n      <td>...</td>\n      <td>15.0</td>\n      <td>6.0</td>\n      <td>1866.0</td>\n      <td>0.0</td>\n      <td>0</td>\n      <td>1</td>\n      <td>0</td>\n      <td>1.0</td>\n      <td>1.0</td>\n      <td>4.1</td>\n    </tr>\n    <tr>\n      <th>6</th>\n      <td>3</td>\n      <td>245</td>\n      <td>Bavaria</td>\n      <td>8</td>\n      <td>6</td>\n      <td>1815</td>\n      <td>15.0</td>\n      <td>6.0</td>\n      <td>1866.0</td>\n      <td>Type I: Defense Pact</td>\n      <td>...</td>\n      <td>15.0</td>\n      <td>3.0</td>\n      <td>1848.0</td>\n      <td>1.0</td>\n      <td>0</td>\n      <td>1</td>\n      <td>0</td>\n      <td>1.0</td>\n      <td>1.0</td>\n      <td>4.1</td>\n    </tr>\n    <tr>\n      <th>7</th>\n      <td>3</td>\n      <td>245</td>\n      <td>Bavaria</td>\n      <td>8</td>\n      <td>6</td>\n      <td>1815</td>\n      <td>15.0</td>\n      <td>6.0</td>\n      <td>1866.0</td>\n      <td>Type I: Defense Pact</td>\n      <td>...</td>\n      <td>15.0</td>\n      <td>6.0</td>\n      <td>1866.0</td>\n      <td>0.0</td>\n      <td>0</td>\n      <td>1</td>\n      <td>0</td>\n      <td>1.0</td>\n      <td>1.0</td>\n      <td>4.1</td>\n    </tr>\n    <tr>\n      <th>8</th>\n      <td>3</td>\n      <td>255</td>\n      <td>Germany</td>\n      <td>8</td>\n      <td>6</td>\n      <td>1815</td>\n      <td>15.0</td>\n      <td>6.0</td>\n      <td>1866.0</td>\n      <td>Type I: Defense Pact</td>\n      <td>...</td>\n      <td>15.0</td>\n      <td>3.0</td>\n      <td>1848.0</td>\n      <td>1.0</td>\n      <td>0</td>\n      <td>1</td>\n      <td>0</td>\n      <td>1.0</td>\n      <td>1.0</td>\n      <td>4.1</td>\n    </tr>\n    <tr>\n      <th>9</th>\n      <td>3</td>\n      <td>255</td>\n      <td>Germany</td>\n      <td>8</td>\n      <td>6</td>\n      <td>1815</td>\n      <td>15.0</td>\n      <td>6.0</td>\n      <td>1866.0</td>\n      <td>Type I: Defense Pact</td>\n      <td>...</td>\n      <td>15.0</td>\n      <td>6.0</td>\n      <td>1866.0</td>\n      <td>0.0</td>\n      <td>0</td>\n      <td>1</td>\n      <td>0</td>\n      <td>1.0</td>\n      <td>1.0</td>\n      <td>4.1</td>\n    </tr>\n  </tbody>\n</table>\n<p>10 rows × 23 columns</p>\n</div>"
     },
     "execution_count": 3,
     "metadata": {},
     "output_type": "execute_result"
    }
   ],
   "source": [
    "ally_member.info()\n",
    "\n",
    "ally_member.head(10)"
   ],
   "metadata": {
    "collapsed": false
   }
  },
  {
   "cell_type": "code",
   "execution_count": 4,
   "outputs": [
    {
     "data": {
      "text/plain": "      version4id  ccode                state_name  all_st_day  all_st_month  \\\n1216         412    626               South Sudan          10             2   \n1217         413    651                     Egypt          26             3   \n1218         413    666                    Israel          26             3   \n1219         414      2  United States of America          30            11   \n1220         414    666                    Israel          30            11   \n\n      all_st_year  all_end_day  all_end_month  all_end_year  \\\n1216         2012         27.0            3.0        2012.0   \n1217         1979          NaN            NaN           NaN   \n1218         1979          NaN            NaN           NaN   \n1219         1981         26.0           12.0        1991.0   \n1220         1981         26.0           12.0        1991.0   \n\n                            ss_type  ...  mem_end_day  mem_end_month  \\\n1216  Type IIb: Non-Aggression Pact  ...         27.0            3.0   \n1217  Type IIb: Non-Aggression Pact  ...          NaN            NaN   \n1218  Type IIb: Non-Aggression Pact  ...          NaN            NaN   \n1219              Type III: Entente  ...         26.0           12.0   \n1220              Type III: Entente  ...         26.0           12.0   \n\n      mem_end_year  left_censor  right_censor  defense  neutrality  \\\n1216        2012.0          0.0             0        0           0   \n1217           NaN          0.0             1        0           0   \n1218           NaN          0.0             1        0           0   \n1219        1991.0          0.0             0        0           0   \n1220        1991.0          0.0             0        0           0   \n\n      nonaggression  entente  version  \n1216            1.0      0.0      4.1  \n1217            1.0      0.0      4.1  \n1218            1.0      0.0      4.1  \n1219            0.0      1.0      4.1  \n1220            0.0      1.0      4.1  \n\n[5 rows x 23 columns]",
      "text/html": "<div>\n<style scoped>\n    .dataframe tbody tr th:only-of-type {\n        vertical-align: middle;\n    }\n\n    .dataframe tbody tr th {\n        vertical-align: top;\n    }\n\n    .dataframe thead th {\n        text-align: right;\n    }\n</style>\n<table border=\"1\" class=\"dataframe\">\n  <thead>\n    <tr style=\"text-align: right;\">\n      <th></th>\n      <th>version4id</th>\n      <th>ccode</th>\n      <th>state_name</th>\n      <th>all_st_day</th>\n      <th>all_st_month</th>\n      <th>all_st_year</th>\n      <th>all_end_day</th>\n      <th>all_end_month</th>\n      <th>all_end_year</th>\n      <th>ss_type</th>\n      <th>...</th>\n      <th>mem_end_day</th>\n      <th>mem_end_month</th>\n      <th>mem_end_year</th>\n      <th>left_censor</th>\n      <th>right_censor</th>\n      <th>defense</th>\n      <th>neutrality</th>\n      <th>nonaggression</th>\n      <th>entente</th>\n      <th>version</th>\n    </tr>\n  </thead>\n  <tbody>\n    <tr>\n      <th>1216</th>\n      <td>412</td>\n      <td>626</td>\n      <td>South Sudan</td>\n      <td>10</td>\n      <td>2</td>\n      <td>2012</td>\n      <td>27.0</td>\n      <td>3.0</td>\n      <td>2012.0</td>\n      <td>Type IIb: Non-Aggression Pact</td>\n      <td>...</td>\n      <td>27.0</td>\n      <td>3.0</td>\n      <td>2012.0</td>\n      <td>0.0</td>\n      <td>0</td>\n      <td>0</td>\n      <td>0</td>\n      <td>1.0</td>\n      <td>0.0</td>\n      <td>4.1</td>\n    </tr>\n    <tr>\n      <th>1217</th>\n      <td>413</td>\n      <td>651</td>\n      <td>Egypt</td>\n      <td>26</td>\n      <td>3</td>\n      <td>1979</td>\n      <td>NaN</td>\n      <td>NaN</td>\n      <td>NaN</td>\n      <td>Type IIb: Non-Aggression Pact</td>\n      <td>...</td>\n      <td>NaN</td>\n      <td>NaN</td>\n      <td>NaN</td>\n      <td>0.0</td>\n      <td>1</td>\n      <td>0</td>\n      <td>0</td>\n      <td>1.0</td>\n      <td>0.0</td>\n      <td>4.1</td>\n    </tr>\n    <tr>\n      <th>1218</th>\n      <td>413</td>\n      <td>666</td>\n      <td>Israel</td>\n      <td>26</td>\n      <td>3</td>\n      <td>1979</td>\n      <td>NaN</td>\n      <td>NaN</td>\n      <td>NaN</td>\n      <td>Type IIb: Non-Aggression Pact</td>\n      <td>...</td>\n      <td>NaN</td>\n      <td>NaN</td>\n      <td>NaN</td>\n      <td>0.0</td>\n      <td>1</td>\n      <td>0</td>\n      <td>0</td>\n      <td>1.0</td>\n      <td>0.0</td>\n      <td>4.1</td>\n    </tr>\n    <tr>\n      <th>1219</th>\n      <td>414</td>\n      <td>2</td>\n      <td>United States of America</td>\n      <td>30</td>\n      <td>11</td>\n      <td>1981</td>\n      <td>26.0</td>\n      <td>12.0</td>\n      <td>1991.0</td>\n      <td>Type III: Entente</td>\n      <td>...</td>\n      <td>26.0</td>\n      <td>12.0</td>\n      <td>1991.0</td>\n      <td>0.0</td>\n      <td>0</td>\n      <td>0</td>\n      <td>0</td>\n      <td>0.0</td>\n      <td>1.0</td>\n      <td>4.1</td>\n    </tr>\n    <tr>\n      <th>1220</th>\n      <td>414</td>\n      <td>666</td>\n      <td>Israel</td>\n      <td>30</td>\n      <td>11</td>\n      <td>1981</td>\n      <td>26.0</td>\n      <td>12.0</td>\n      <td>1991.0</td>\n      <td>Type III: Entente</td>\n      <td>...</td>\n      <td>26.0</td>\n      <td>12.0</td>\n      <td>1991.0</td>\n      <td>0.0</td>\n      <td>0</td>\n      <td>0</td>\n      <td>0</td>\n      <td>0.0</td>\n      <td>1.0</td>\n      <td>4.1</td>\n    </tr>\n  </tbody>\n</table>\n<p>5 rows × 23 columns</p>\n</div>"
     },
     "execution_count": 4,
     "metadata": {},
     "output_type": "execute_result"
    }
   ],
   "source": [
    "ally_member.tail()"
   ],
   "metadata": {
    "collapsed": false
   }
  },
  {
   "cell_type": "code",
   "execution_count": 5,
   "outputs": [
    {
     "data": {
      "text/plain": "version4id         0\nccode              0\nstate_name         0\nall_st_day         0\nall_st_month       0\nall_st_year        0\nall_end_day      373\nall_end_month    373\nall_end_year     373\nss_type            0\nmem_st_day         0\nmem_st_month       0\nmem_st_year        0\nmem_end_day      359\nmem_end_month    359\nmem_end_year     359\nleft_censor        2\nright_censor       0\ndefense            0\nneutrality         0\nnonaggression      1\nentente            2\nversion            0\ndtype: int64"
     },
     "execution_count": 5,
     "metadata": {},
     "output_type": "execute_result"
    }
   ],
   "source": [
    "ally_member.isnull().sum()"
   ],
   "metadata": {
    "collapsed": false
   }
  },
  {
   "cell_type": "code",
   "execution_count": 6,
   "outputs": [
    {
     "data": {
      "text/plain": "Empty DataFrame\nColumns: [version4id, ccode, state_name, all_st_day, all_st_month, all_st_year, all_end_day, all_end_month, all_end_year, ss_type, mem_st_day, mem_st_month, mem_st_year, mem_end_day, mem_end_month, mem_end_year, left_censor, right_censor, defense, neutrality, nonaggression, entente, version]\nIndex: []\n\n[0 rows x 23 columns]",
      "text/html": "<div>\n<style scoped>\n    .dataframe tbody tr th:only-of-type {\n        vertical-align: middle;\n    }\n\n    .dataframe tbody tr th {\n        vertical-align: top;\n    }\n\n    .dataframe thead th {\n        text-align: right;\n    }\n</style>\n<table border=\"1\" class=\"dataframe\">\n  <thead>\n    <tr style=\"text-align: right;\">\n      <th></th>\n      <th>version4id</th>\n      <th>ccode</th>\n      <th>state_name</th>\n      <th>all_st_day</th>\n      <th>all_st_month</th>\n      <th>all_st_year</th>\n      <th>all_end_day</th>\n      <th>all_end_month</th>\n      <th>all_end_year</th>\n      <th>ss_type</th>\n      <th>...</th>\n      <th>mem_end_day</th>\n      <th>mem_end_month</th>\n      <th>mem_end_year</th>\n      <th>left_censor</th>\n      <th>right_censor</th>\n      <th>defense</th>\n      <th>neutrality</th>\n      <th>nonaggression</th>\n      <th>entente</th>\n      <th>version</th>\n    </tr>\n  </thead>\n  <tbody>\n  </tbody>\n</table>\n<p>0 rows × 23 columns</p>\n</div>"
     },
     "execution_count": 6,
     "metadata": {},
     "output_type": "execute_result"
    }
   ],
   "source": [
    "# Finding nan values for cow codes\n",
    "ally_member[ally_member['ccode']== 34]"
   ],
   "metadata": {
    "collapsed": false
   }
  },
  {
   "cell_type": "code",
   "execution_count": 16,
   "outputs": [
    {
     "data": {
      "text/plain": "<Figure size 640x480 with 1 Axes>",
      "image/png": "[encoded data removed]"
     },
     "metadata": {},
     "output_type": "display_data"
    }
   ],
   "source": [
    "\"\"\" Plotting number of alliances per country \"\"\"\n",
    "\n",
    "# Number of times a state is initiated into the dataset, can repeat if they leave and rejoin an alliance\n",
    "occurances = ally_member['state_name'].value_counts()\n",
    "plt.bar(occurances.index, occurances)\n",
    "plt.show()"
   ],
   "metadata": {
    "collapsed": false
   }
  },
  {
   "cell_type": "code",
   "execution_count": 6,
   "outputs": [],
   "source": [],
   "metadata": {
    "collapsed": false
   }
  }
 ],
 "metadata": {
  "kernelspec": {
   "display_name": "Python 3",
   "language": "python",
   "name": "python3"
  },
  "language_info": {
   "codemirror_mode": {
    "name": "ipython",
    "version": 2
   },
   "file_extension": ".py",
   "mimetype": "text/x-python",
   "name": "python",
   "nbconvert_exporter": "python",
   "pygments_lexer": "ipython2",
   "version": "2.7.6"
  }
 },
 "nbformat": 4,
 "nbformat_minor": 0
}
