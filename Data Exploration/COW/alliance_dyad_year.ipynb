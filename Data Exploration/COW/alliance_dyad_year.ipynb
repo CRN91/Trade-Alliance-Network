{
 "cells": [
  {
   "cell_type": "code",
   "execution_count": 2,
   "metadata": {
    "collapsed": true
   },
   "outputs": [],
   "source": [
    "import pandas as pd\n",
    "import numpy as np\n",
    "import matplotlib.pyplot as plt\n",
    "import seaborn as sns\n",
    "from sklearn.model_selection import train_test_split\n",
    "from sklearn.linear_model import LinearRegression\n",
    "from sklearn.metrics import mean_squared_error"
   ]
  },
  {
   "cell_type": "code",
   "execution_count": 3,
   "outputs": [],
   "source": [
    "# Dyad for every alliance for each year it is applicable\n",
    "ally_dyad_year = pd.read_csv(\"./COW_data/alliance_v4.1_by_dyad_yearly.csv\")"
   ],
   "metadata": {
    "collapsed": false
   }
  },
  {
   "cell_type": "markdown",
   "source": [],
   "metadata": {
    "collapsed": false
   }
  },
  {
   "cell_type": "code",
   "execution_count": 4,
   "outputs": [
    {
     "name": "stdout",
     "output_type": "stream",
     "text": [
      "<class 'pandas.core.frame.DataFrame'>\n",
      "RangeIndex: 74129 entries, 0 to 74128\n",
      "Data columns (total 19 columns):\n",
      " #   Column          Non-Null Count  Dtype  \n",
      "---  ------          --------------  -----  \n",
      " 0   version4id      74129 non-null  int64  \n",
      " 1   ccode1          74129 non-null  int64  \n",
      " 2   state_name1     74129 non-null  object \n",
      " 3   ccode2          74129 non-null  int64  \n",
      " 4   state_name2     74129 non-null  object \n",
      " 5   dyad_st_day     74129 non-null  int64  \n",
      " 6   dyad_st_month   74129 non-null  int64  \n",
      " 7   dyad_st_year    74129 non-null  int64  \n",
      " 8   dyad_end_day    16354 non-null  float64\n",
      " 9   dyad_end_month  16354 non-null  float64\n",
      " 10  dyad_end_year   74129 non-null  int64  \n",
      " 11  left_censor     74129 non-null  int64  \n",
      " 12  right_censor    74129 non-null  int64  \n",
      " 13  defense         74129 non-null  int64  \n",
      " 14  neutrality      74129 non-null  int64  \n",
      " 15  nonaggression   74108 non-null  float64\n",
      " 16  entente         74117 non-null  float64\n",
      " 17  year            74129 non-null  int64  \n",
      " 18  version         74129 non-null  float64\n",
      "dtypes: float64(5), int64(12), object(2)\n",
      "memory usage: 10.7+ MB\n"
     ]
    },
    {
     "data": {
      "text/plain": "   version4id  ccode1     state_name1  ccode2 state_name2  dyad_st_day  \\\n0           1     200  United Kingdom     235    Portugal            1   \n1           1     200  United Kingdom     235    Portugal            1   \n2           1     200  United Kingdom     235    Portugal            1   \n3           1     200  United Kingdom     235    Portugal            1   \n4           1     200  United Kingdom     235    Portugal            1   \n\n   dyad_st_month  dyad_st_year  dyad_end_day  dyad_end_month  dyad_end_year  \\\n0              1          1816           NaN             NaN           2012   \n1              1          1816           NaN             NaN           2012   \n2              1          1816           NaN             NaN           2012   \n3              1          1816           NaN             NaN           2012   \n4              1          1816           NaN             NaN           2012   \n\n   left_censor  right_censor  defense  neutrality  nonaggression  entente  \\\n0            1             1        1           0            1.0      0.0   \n1            1             1        1           0            1.0      0.0   \n2            1             1        1           0            1.0      0.0   \n3            1             1        1           0            1.0      0.0   \n4            1             1        1           0            1.0      0.0   \n\n   year  version  \n0  1816      4.1  \n1  1817      4.1  \n2  1818      4.1  \n3  1819      4.1  \n4  1820      4.1  ",
      "text/html": "<div>\n<style scoped>\n    .dataframe tbody tr th:only-of-type {\n        vertical-align: middle;\n    }\n\n    .dataframe tbody tr th {\n        vertical-align: top;\n    }\n\n    .dataframe thead th {\n        text-align: right;\n    }\n</style>\n<table border=\"1\" class=\"dataframe\">\n  <thead>\n    <tr style=\"text-align: right;\">\n      <th></th>\n      <th>version4id</th>\n      <th>ccode1</th>\n      <th>state_name1</th>\n      <th>ccode2</th>\n      <th>state_name2</th>\n      <th>dyad_st_day</th>\n      <th>dyad_st_month</th>\n      <th>dyad_st_year</th>\n      <th>dyad_end_day</th>\n      <th>dyad_end_month</th>\n      <th>dyad_end_year</th>\n      <th>left_censor</th>\n      <th>right_censor</th>\n      <th>defense</th>\n      <th>neutrality</th>\n      <th>nonaggression</th>\n      <th>entente</th>\n      <th>year</th>\n      <th>version</th>\n    </tr>\n  </thead>\n  <tbody>\n    <tr>\n      <th>0</th>\n      <td>1</td>\n      <td>200</td>\n      <td>United Kingdom</td>\n      <td>235</td>\n      <td>Portugal</td>\n      <td>1</td>\n      <td>1</td>\n      <td>1816</td>\n      <td>NaN</td>\n      <td>NaN</td>\n      <td>2012</td>\n      <td>1</td>\n      <td>1</td>\n      <td>1</td>\n      <td>0</td>\n      <td>1.0</td>\n      <td>0.0</td>\n      <td>1816</td>\n      <td>4.1</td>\n    </tr>\n    <tr>\n      <th>1</th>\n      <td>1</td>\n      <td>200</td>\n      <td>United Kingdom</td>\n      <td>235</td>\n      <td>Portugal</td>\n      <td>1</td>\n      <td>1</td>\n      <td>1816</td>\n      <td>NaN</td>\n      <td>NaN</td>\n      <td>2012</td>\n      <td>1</td>\n      <td>1</td>\n      <td>1</td>\n      <td>0</td>\n      <td>1.0</td>\n      <td>0.0</td>\n      <td>1817</td>\n      <td>4.1</td>\n    </tr>\n    <tr>\n      <th>2</th>\n      <td>1</td>\n      <td>200</td>\n      <td>United Kingdom</td>\n      <td>235</td>\n      <td>Portugal</td>\n      <td>1</td>\n      <td>1</td>\n      <td>1816</td>\n      <td>NaN</td>\n      <td>NaN</td>\n      <td>2012</td>\n      <td>1</td>\n      <td>1</td>\n      <td>1</td>\n      <td>0</td>\n      <td>1.0</td>\n      <td>0.0</td>\n      <td>1818</td>\n      <td>4.1</td>\n    </tr>\n    <tr>\n      <th>3</th>\n      <td>1</td>\n      <td>200</td>\n      <td>United Kingdom</td>\n      <td>235</td>\n      <td>Portugal</td>\n      <td>1</td>\n      <td>1</td>\n      <td>1816</td>\n      <td>NaN</td>\n      <td>NaN</td>\n      <td>2012</td>\n      <td>1</td>\n      <td>1</td>\n      <td>1</td>\n      <td>0</td>\n      <td>1.0</td>\n      <td>0.0</td>\n      <td>1819</td>\n      <td>4.1</td>\n    </tr>\n    <tr>\n      <th>4</th>\n      <td>1</td>\n      <td>200</td>\n      <td>United Kingdom</td>\n      <td>235</td>\n      <td>Portugal</td>\n      <td>1</td>\n      <td>1</td>\n      <td>1816</td>\n      <td>NaN</td>\n      <td>NaN</td>\n      <td>2012</td>\n      <td>1</td>\n      <td>1</td>\n      <td>1</td>\n      <td>0</td>\n      <td>1.0</td>\n      <td>0.0</td>\n      <td>1820</td>\n      <td>4.1</td>\n    </tr>\n  </tbody>\n</table>\n</div>"
     },
     "execution_count": 4,
     "metadata": {},
     "output_type": "execute_result"
    }
   ],
   "source": [
    "ally_dyad_year.info()\n",
    "ally_dyad_year.head()"
   ],
   "metadata": {
    "collapsed": false
   }
  },
  {
   "cell_type": "code",
   "execution_count": 5,
   "outputs": [
    {
     "data": {
      "text/plain": "       version4id  ccode1               state_name1  ccode2 state_name2  \\\n74124         414       2  United States of America     666      Israel   \n74125         414       2  United States of America     666      Israel   \n74126         414       2  United States of America     666      Israel   \n74127         414       2  United States of America     666      Israel   \n74128         414       2  United States of America     666      Israel   \n\n       dyad_st_day  dyad_st_month  dyad_st_year  dyad_end_day  dyad_end_month  \\\n74124           30             11          1987          26.0            12.0   \n74125           30             11          1988          26.0            12.0   \n74126           30             11          1989          26.0            12.0   \n74127           30             11          1990          26.0            12.0   \n74128           30             11          1991          26.0            12.0   \n\n       dyad_end_year  left_censor  right_censor  defense  neutrality  \\\n74124           1991            0             0        0           0   \n74125           1991            0             0        0           0   \n74126           1991            0             0        0           0   \n74127           1991            0             0        0           0   \n74128           1991            0             0        0           0   \n\n       nonaggression  entente  year  version  \n74124            0.0      1.0     0      4.1  \n74125            0.0      1.0     0      4.1  \n74126            0.0      1.0     0      4.1  \n74127            0.0      1.0     0      4.1  \n74128            0.0      1.0     0      4.1  ",
      "text/html": "<div>\n<style scoped>\n    .dataframe tbody tr th:only-of-type {\n        vertical-align: middle;\n    }\n\n    .dataframe tbody tr th {\n        vertical-align: top;\n    }\n\n    .dataframe thead th {\n        text-align: right;\n    }\n</style>\n<table border=\"1\" class=\"dataframe\">\n  <thead>\n    <tr style=\"text-align: right;\">\n      <th></th>\n      <th>version4id</th>\n      <th>ccode1</th>\n      <th>state_name1</th>\n      <th>ccode2</th>\n      <th>state_name2</th>\n      <th>dyad_st_day</th>\n      <th>dyad_st_month</th>\n      <th>dyad_st_year</th>\n      <th>dyad_end_day</th>\n      <th>dyad_end_month</th>\n      <th>dyad_end_year</th>\n      <th>left_censor</th>\n      <th>right_censor</th>\n      <th>defense</th>\n      <th>neutrality</th>\n      <th>nonaggression</th>\n      <th>entente</th>\n      <th>year</th>\n      <th>version</th>\n    </tr>\n  </thead>\n  <tbody>\n    <tr>\n      <th>74124</th>\n      <td>414</td>\n      <td>2</td>\n      <td>United States of America</td>\n      <td>666</td>\n      <td>Israel</td>\n      <td>30</td>\n      <td>11</td>\n      <td>1987</td>\n      <td>26.0</td>\n      <td>12.0</td>\n      <td>1991</td>\n      <td>0</td>\n      <td>0</td>\n      <td>0</td>\n      <td>0</td>\n      <td>0.0</td>\n      <td>1.0</td>\n      <td>0</td>\n      <td>4.1</td>\n    </tr>\n    <tr>\n      <th>74125</th>\n      <td>414</td>\n      <td>2</td>\n      <td>United States of America</td>\n      <td>666</td>\n      <td>Israel</td>\n      <td>30</td>\n      <td>11</td>\n      <td>1988</td>\n      <td>26.0</td>\n      <td>12.0</td>\n      <td>1991</td>\n      <td>0</td>\n      <td>0</td>\n      <td>0</td>\n      <td>0</td>\n      <td>0.0</td>\n      <td>1.0</td>\n      <td>0</td>\n      <td>4.1</td>\n    </tr>\n    <tr>\n      <th>74126</th>\n      <td>414</td>\n      <td>2</td>\n      <td>United States of America</td>\n      <td>666</td>\n      <td>Israel</td>\n      <td>30</td>\n      <td>11</td>\n      <td>1989</td>\n      <td>26.0</td>\n      <td>12.0</td>\n      <td>1991</td>\n      <td>0</td>\n      <td>0</td>\n      <td>0</td>\n      <td>0</td>\n      <td>0.0</td>\n      <td>1.0</td>\n      <td>0</td>\n      <td>4.1</td>\n    </tr>\n    <tr>\n      <th>74127</th>\n      <td>414</td>\n      <td>2</td>\n      <td>United States of America</td>\n      <td>666</td>\n      <td>Israel</td>\n      <td>30</td>\n      <td>11</td>\n      <td>1990</td>\n      <td>26.0</td>\n      <td>12.0</td>\n      <td>1991</td>\n      <td>0</td>\n      <td>0</td>\n      <td>0</td>\n      <td>0</td>\n      <td>0.0</td>\n      <td>1.0</td>\n      <td>0</td>\n      <td>4.1</td>\n    </tr>\n    <tr>\n      <th>74128</th>\n      <td>414</td>\n      <td>2</td>\n      <td>United States of America</td>\n      <td>666</td>\n      <td>Israel</td>\n      <td>30</td>\n      <td>11</td>\n      <td>1991</td>\n      <td>26.0</td>\n      <td>12.0</td>\n      <td>1991</td>\n      <td>0</td>\n      <td>0</td>\n      <td>0</td>\n      <td>0</td>\n      <td>0.0</td>\n      <td>1.0</td>\n      <td>0</td>\n      <td>4.1</td>\n    </tr>\n  </tbody>\n</table>\n</div>"
     },
     "execution_count": 5,
     "metadata": {},
     "output_type": "execute_result"
    }
   ],
   "source": [
    "ally_dyad_year.tail()"
   ],
   "metadata": {
    "collapsed": false
   }
  },
  {
   "cell_type": "code",
   "execution_count": 6,
   "outputs": [
    {
     "data": {
      "text/plain": "version4id            0\nccode1                0\nstate_name1           0\nccode2                0\nstate_name2           0\ndyad_st_day           0\ndyad_st_month         0\ndyad_st_year          0\ndyad_end_day      57775\ndyad_end_month    57775\ndyad_end_year         0\nleft_censor           0\nright_censor          0\ndefense               0\nneutrality            0\nnonaggression        21\nentente              12\nyear                  0\nversion               0\ndtype: int64"
     },
     "execution_count": 6,
     "metadata": {},
     "output_type": "execute_result"
    }
   ],
   "source": [
    "ally_dyad_year.isnull().sum()"
   ],
   "metadata": {
    "collapsed": false
   }
  },
  {
   "cell_type": "code",
   "execution_count": 7,
   "outputs": [
    {
     "name": "stdout",
     "output_type": "stream",
     "text": [
      "There are 142 states in the year 2012 that have 97 alliances between themselves.\n"
     ]
    }
   ],
   "source": [
    "year = 2012\n",
    "year_specific_df = ally_dyad_year[ally_dyad_year['year']==year]\n",
    "print(\"There are\", pd.concat((year_specific_df['ccode1'],year_specific_df['ccode2'])).nunique(),\"states in the year\",year,\"that have\",year_specific_df['version4id'].nunique(),\"alliances between themselves.\")"
   ],
   "metadata": {
    "collapsed": false
   }
  },
  {
   "cell_type": "code",
   "execution_count": 8,
   "outputs": [
    {
     "name": "stdout",
     "output_type": "stream",
     "text": [
      "Number of  United Kingdom  alliances in  2012 :  26\n"
     ]
    }
   ],
   "source": [
    "# We can find all the alliances of a particular country in a particular year\n",
    "\n",
    "# For example the UK in the year 2005\n",
    "ccode = 200\n",
    "year = 2012\n",
    "country_year = ally_dyad_year[(ally_dyad_year['ccode1'] == ccode) & (ally_dyad_year['year'] == year)]\n",
    "\n",
    "# Display the filtered DataFrame\n",
    "#print(country_year)\n",
    "print('Number of ', ally_dyad_year[ally_dyad_year['ccode1'] == ccode]['state_name1'].values[0], ' alliances in ', year, ': ', len(country_year))\n"
   ],
   "metadata": {
    "collapsed": false
   }
  },
  {
   "cell_type": "code",
   "execution_count": 9,
   "outputs": [
    {
     "ename": "FileNotFoundError",
     "evalue": "[Errno 2] No such file or directory: './alliances/COW-country-codes.csv'",
     "output_type": "error",
     "traceback": [
      "\u001B[1;31m---------------------------------------------------------------------------\u001B[0m",
      "\u001B[1;31mFileNotFoundError\u001B[0m                         Traceback (most recent call last)",
      "Cell \u001B[1;32mIn[9], line 6\u001B[0m\n\u001B[0;32m      4\u001B[0m file_path \u001B[38;5;241m=\u001B[39m \u001B[38;5;124m'\u001B[39m\u001B[38;5;124m./alliances/COW-country-codes.csv\u001B[39m\u001B[38;5;124m'\u001B[39m\n\u001B[0;32m      5\u001B[0m \u001B[38;5;66;03m# For some reason the COW codes have duplicates\u001B[39;00m\n\u001B[1;32m----> 6\u001B[0m ccodes_df \u001B[38;5;241m=\u001B[39m \u001B[43mpd\u001B[49m\u001B[38;5;241;43m.\u001B[39;49m\u001B[43mread_csv\u001B[49m\u001B[43m(\u001B[49m\u001B[43mfile_path\u001B[49m\u001B[43m)\u001B[49m\u001B[38;5;241m.\u001B[39mdrop_duplicates()\n\u001B[0;32m      8\u001B[0m \u001B[38;5;66;03m# Looping through each country and storing their number of alliances\u001B[39;00m\n\u001B[0;32m      9\u001B[0m new_entries \u001B[38;5;241m=\u001B[39m []\n",
      "File \u001B[1;32m~\\Documents\\Year 3\\Dissertation\\Data Exploration\\venv\\lib\\site-packages\\pandas\\io\\parsers\\readers.py:948\u001B[0m, in \u001B[0;36mread_csv\u001B[1;34m(filepath_or_buffer, sep, delimiter, header, names, index_col, usecols, dtype, engine, converters, true_values, false_values, skipinitialspace, skiprows, skipfooter, nrows, na_values, keep_default_na, na_filter, verbose, skip_blank_lines, parse_dates, infer_datetime_format, keep_date_col, date_parser, date_format, dayfirst, cache_dates, iterator, chunksize, compression, thousands, decimal, lineterminator, quotechar, quoting, doublequote, escapechar, comment, encoding, encoding_errors, dialect, on_bad_lines, delim_whitespace, low_memory, memory_map, float_precision, storage_options, dtype_backend)\u001B[0m\n\u001B[0;32m    935\u001B[0m kwds_defaults \u001B[38;5;241m=\u001B[39m _refine_defaults_read(\n\u001B[0;32m    936\u001B[0m     dialect,\n\u001B[0;32m    937\u001B[0m     delimiter,\n\u001B[1;32m   (...)\u001B[0m\n\u001B[0;32m    944\u001B[0m     dtype_backend\u001B[38;5;241m=\u001B[39mdtype_backend,\n\u001B[0;32m    945\u001B[0m )\n\u001B[0;32m    946\u001B[0m kwds\u001B[38;5;241m.\u001B[39mupdate(kwds_defaults)\n\u001B[1;32m--> 948\u001B[0m \u001B[38;5;28;01mreturn\u001B[39;00m \u001B[43m_read\u001B[49m\u001B[43m(\u001B[49m\u001B[43mfilepath_or_buffer\u001B[49m\u001B[43m,\u001B[49m\u001B[43m \u001B[49m\u001B[43mkwds\u001B[49m\u001B[43m)\u001B[49m\n",
      "File \u001B[1;32m~\\Documents\\Year 3\\Dissertation\\Data Exploration\\venv\\lib\\site-packages\\pandas\\io\\parsers\\readers.py:611\u001B[0m, in \u001B[0;36m_read\u001B[1;34m(filepath_or_buffer, kwds)\u001B[0m\n\u001B[0;32m    608\u001B[0m _validate_names(kwds\u001B[38;5;241m.\u001B[39mget(\u001B[38;5;124m\"\u001B[39m\u001B[38;5;124mnames\u001B[39m\u001B[38;5;124m\"\u001B[39m, \u001B[38;5;28;01mNone\u001B[39;00m))\n\u001B[0;32m    610\u001B[0m \u001B[38;5;66;03m# Create the parser.\u001B[39;00m\n\u001B[1;32m--> 611\u001B[0m parser \u001B[38;5;241m=\u001B[39m TextFileReader(filepath_or_buffer, \u001B[38;5;241m*\u001B[39m\u001B[38;5;241m*\u001B[39mkwds)\n\u001B[0;32m    613\u001B[0m \u001B[38;5;28;01mif\u001B[39;00m chunksize \u001B[38;5;129;01mor\u001B[39;00m iterator:\n\u001B[0;32m    614\u001B[0m     \u001B[38;5;28;01mreturn\u001B[39;00m parser\n",
      "File \u001B[1;32m~\\Documents\\Year 3\\Dissertation\\Data Exploration\\venv\\lib\\site-packages\\pandas\\io\\parsers\\readers.py:1448\u001B[0m, in \u001B[0;36mTextFileReader.__init__\u001B[1;34m(self, f, engine, **kwds)\u001B[0m\n\u001B[0;32m   1445\u001B[0m     \u001B[38;5;28mself\u001B[39m\u001B[38;5;241m.\u001B[39moptions[\u001B[38;5;124m\"\u001B[39m\u001B[38;5;124mhas_index_names\u001B[39m\u001B[38;5;124m\"\u001B[39m] \u001B[38;5;241m=\u001B[39m kwds[\u001B[38;5;124m\"\u001B[39m\u001B[38;5;124mhas_index_names\u001B[39m\u001B[38;5;124m\"\u001B[39m]\n\u001B[0;32m   1447\u001B[0m \u001B[38;5;28mself\u001B[39m\u001B[38;5;241m.\u001B[39mhandles: IOHandles \u001B[38;5;241m|\u001B[39m \u001B[38;5;28;01mNone\u001B[39;00m \u001B[38;5;241m=\u001B[39m \u001B[38;5;28;01mNone\u001B[39;00m\n\u001B[1;32m-> 1448\u001B[0m \u001B[38;5;28mself\u001B[39m\u001B[38;5;241m.\u001B[39m_engine \u001B[38;5;241m=\u001B[39m \u001B[38;5;28;43mself\u001B[39;49m\u001B[38;5;241;43m.\u001B[39;49m\u001B[43m_make_engine\u001B[49m\u001B[43m(\u001B[49m\u001B[43mf\u001B[49m\u001B[43m,\u001B[49m\u001B[43m \u001B[49m\u001B[38;5;28;43mself\u001B[39;49m\u001B[38;5;241;43m.\u001B[39;49m\u001B[43mengine\u001B[49m\u001B[43m)\u001B[49m\n",
      "File \u001B[1;32m~\\Documents\\Year 3\\Dissertation\\Data Exploration\\venv\\lib\\site-packages\\pandas\\io\\parsers\\readers.py:1705\u001B[0m, in \u001B[0;36mTextFileReader._make_engine\u001B[1;34m(self, f, engine)\u001B[0m\n\u001B[0;32m   1703\u001B[0m     \u001B[38;5;28;01mif\u001B[39;00m \u001B[38;5;124m\"\u001B[39m\u001B[38;5;124mb\u001B[39m\u001B[38;5;124m\"\u001B[39m \u001B[38;5;129;01mnot\u001B[39;00m \u001B[38;5;129;01min\u001B[39;00m mode:\n\u001B[0;32m   1704\u001B[0m         mode \u001B[38;5;241m+\u001B[39m\u001B[38;5;241m=\u001B[39m \u001B[38;5;124m\"\u001B[39m\u001B[38;5;124mb\u001B[39m\u001B[38;5;124m\"\u001B[39m\n\u001B[1;32m-> 1705\u001B[0m \u001B[38;5;28mself\u001B[39m\u001B[38;5;241m.\u001B[39mhandles \u001B[38;5;241m=\u001B[39m \u001B[43mget_handle\u001B[49m\u001B[43m(\u001B[49m\n\u001B[0;32m   1706\u001B[0m \u001B[43m    \u001B[49m\u001B[43mf\u001B[49m\u001B[43m,\u001B[49m\n\u001B[0;32m   1707\u001B[0m \u001B[43m    \u001B[49m\u001B[43mmode\u001B[49m\u001B[43m,\u001B[49m\n\u001B[0;32m   1708\u001B[0m \u001B[43m    \u001B[49m\u001B[43mencoding\u001B[49m\u001B[38;5;241;43m=\u001B[39;49m\u001B[38;5;28;43mself\u001B[39;49m\u001B[38;5;241;43m.\u001B[39;49m\u001B[43moptions\u001B[49m\u001B[38;5;241;43m.\u001B[39;49m\u001B[43mget\u001B[49m\u001B[43m(\u001B[49m\u001B[38;5;124;43m\"\u001B[39;49m\u001B[38;5;124;43mencoding\u001B[39;49m\u001B[38;5;124;43m\"\u001B[39;49m\u001B[43m,\u001B[49m\u001B[43m \u001B[49m\u001B[38;5;28;43;01mNone\u001B[39;49;00m\u001B[43m)\u001B[49m\u001B[43m,\u001B[49m\n\u001B[0;32m   1709\u001B[0m \u001B[43m    \u001B[49m\u001B[43mcompression\u001B[49m\u001B[38;5;241;43m=\u001B[39;49m\u001B[38;5;28;43mself\u001B[39;49m\u001B[38;5;241;43m.\u001B[39;49m\u001B[43moptions\u001B[49m\u001B[38;5;241;43m.\u001B[39;49m\u001B[43mget\u001B[49m\u001B[43m(\u001B[49m\u001B[38;5;124;43m\"\u001B[39;49m\u001B[38;5;124;43mcompression\u001B[39;49m\u001B[38;5;124;43m\"\u001B[39;49m\u001B[43m,\u001B[49m\u001B[43m \u001B[49m\u001B[38;5;28;43;01mNone\u001B[39;49;00m\u001B[43m)\u001B[49m\u001B[43m,\u001B[49m\n\u001B[0;32m   1710\u001B[0m \u001B[43m    \u001B[49m\u001B[43mmemory_map\u001B[49m\u001B[38;5;241;43m=\u001B[39;49m\u001B[38;5;28;43mself\u001B[39;49m\u001B[38;5;241;43m.\u001B[39;49m\u001B[43moptions\u001B[49m\u001B[38;5;241;43m.\u001B[39;49m\u001B[43mget\u001B[49m\u001B[43m(\u001B[49m\u001B[38;5;124;43m\"\u001B[39;49m\u001B[38;5;124;43mmemory_map\u001B[39;49m\u001B[38;5;124;43m\"\u001B[39;49m\u001B[43m,\u001B[49m\u001B[43m \u001B[49m\u001B[38;5;28;43;01mFalse\u001B[39;49;00m\u001B[43m)\u001B[49m\u001B[43m,\u001B[49m\n\u001B[0;32m   1711\u001B[0m \u001B[43m    \u001B[49m\u001B[43mis_text\u001B[49m\u001B[38;5;241;43m=\u001B[39;49m\u001B[43mis_text\u001B[49m\u001B[43m,\u001B[49m\n\u001B[0;32m   1712\u001B[0m \u001B[43m    \u001B[49m\u001B[43merrors\u001B[49m\u001B[38;5;241;43m=\u001B[39;49m\u001B[38;5;28;43mself\u001B[39;49m\u001B[38;5;241;43m.\u001B[39;49m\u001B[43moptions\u001B[49m\u001B[38;5;241;43m.\u001B[39;49m\u001B[43mget\u001B[49m\u001B[43m(\u001B[49m\u001B[38;5;124;43m\"\u001B[39;49m\u001B[38;5;124;43mencoding_errors\u001B[39;49m\u001B[38;5;124;43m\"\u001B[39;49m\u001B[43m,\u001B[49m\u001B[43m \u001B[49m\u001B[38;5;124;43m\"\u001B[39;49m\u001B[38;5;124;43mstrict\u001B[39;49m\u001B[38;5;124;43m\"\u001B[39;49m\u001B[43m)\u001B[49m\u001B[43m,\u001B[49m\n\u001B[0;32m   1713\u001B[0m \u001B[43m    \u001B[49m\u001B[43mstorage_options\u001B[49m\u001B[38;5;241;43m=\u001B[39;49m\u001B[38;5;28;43mself\u001B[39;49m\u001B[38;5;241;43m.\u001B[39;49m\u001B[43moptions\u001B[49m\u001B[38;5;241;43m.\u001B[39;49m\u001B[43mget\u001B[49m\u001B[43m(\u001B[49m\u001B[38;5;124;43m\"\u001B[39;49m\u001B[38;5;124;43mstorage_options\u001B[39;49m\u001B[38;5;124;43m\"\u001B[39;49m\u001B[43m,\u001B[49m\u001B[43m \u001B[49m\u001B[38;5;28;43;01mNone\u001B[39;49;00m\u001B[43m)\u001B[49m\u001B[43m,\u001B[49m\n\u001B[0;32m   1714\u001B[0m \u001B[43m\u001B[49m\u001B[43m)\u001B[49m\n\u001B[0;32m   1715\u001B[0m \u001B[38;5;28;01massert\u001B[39;00m \u001B[38;5;28mself\u001B[39m\u001B[38;5;241m.\u001B[39mhandles \u001B[38;5;129;01mis\u001B[39;00m \u001B[38;5;129;01mnot\u001B[39;00m \u001B[38;5;28;01mNone\u001B[39;00m\n\u001B[0;32m   1716\u001B[0m f \u001B[38;5;241m=\u001B[39m \u001B[38;5;28mself\u001B[39m\u001B[38;5;241m.\u001B[39mhandles\u001B[38;5;241m.\u001B[39mhandle\n",
      "File \u001B[1;32m~\\Documents\\Year 3\\Dissertation\\Data Exploration\\venv\\lib\\site-packages\\pandas\\io\\common.py:863\u001B[0m, in \u001B[0;36mget_handle\u001B[1;34m(path_or_buf, mode, encoding, compression, memory_map, is_text, errors, storage_options)\u001B[0m\n\u001B[0;32m    858\u001B[0m \u001B[38;5;28;01melif\u001B[39;00m \u001B[38;5;28misinstance\u001B[39m(handle, \u001B[38;5;28mstr\u001B[39m):\n\u001B[0;32m    859\u001B[0m     \u001B[38;5;66;03m# Check whether the filename is to be opened in binary mode.\u001B[39;00m\n\u001B[0;32m    860\u001B[0m     \u001B[38;5;66;03m# Binary mode does not support 'encoding' and 'newline'.\u001B[39;00m\n\u001B[0;32m    861\u001B[0m     \u001B[38;5;28;01mif\u001B[39;00m ioargs\u001B[38;5;241m.\u001B[39mencoding \u001B[38;5;129;01mand\u001B[39;00m \u001B[38;5;124m\"\u001B[39m\u001B[38;5;124mb\u001B[39m\u001B[38;5;124m\"\u001B[39m \u001B[38;5;129;01mnot\u001B[39;00m \u001B[38;5;129;01min\u001B[39;00m ioargs\u001B[38;5;241m.\u001B[39mmode:\n\u001B[0;32m    862\u001B[0m         \u001B[38;5;66;03m# Encoding\u001B[39;00m\n\u001B[1;32m--> 863\u001B[0m         handle \u001B[38;5;241m=\u001B[39m \u001B[38;5;28;43mopen\u001B[39;49m\u001B[43m(\u001B[49m\n\u001B[0;32m    864\u001B[0m \u001B[43m            \u001B[49m\u001B[43mhandle\u001B[49m\u001B[43m,\u001B[49m\n\u001B[0;32m    865\u001B[0m \u001B[43m            \u001B[49m\u001B[43mioargs\u001B[49m\u001B[38;5;241;43m.\u001B[39;49m\u001B[43mmode\u001B[49m\u001B[43m,\u001B[49m\n\u001B[0;32m    866\u001B[0m \u001B[43m            \u001B[49m\u001B[43mencoding\u001B[49m\u001B[38;5;241;43m=\u001B[39;49m\u001B[43mioargs\u001B[49m\u001B[38;5;241;43m.\u001B[39;49m\u001B[43mencoding\u001B[49m\u001B[43m,\u001B[49m\n\u001B[0;32m    867\u001B[0m \u001B[43m            \u001B[49m\u001B[43merrors\u001B[49m\u001B[38;5;241;43m=\u001B[39;49m\u001B[43merrors\u001B[49m\u001B[43m,\u001B[49m\n\u001B[0;32m    868\u001B[0m \u001B[43m            \u001B[49m\u001B[43mnewline\u001B[49m\u001B[38;5;241;43m=\u001B[39;49m\u001B[38;5;124;43m\"\u001B[39;49m\u001B[38;5;124;43m\"\u001B[39;49m\u001B[43m,\u001B[49m\n\u001B[0;32m    869\u001B[0m \u001B[43m        \u001B[49m\u001B[43m)\u001B[49m\n\u001B[0;32m    870\u001B[0m     \u001B[38;5;28;01melse\u001B[39;00m:\n\u001B[0;32m    871\u001B[0m         \u001B[38;5;66;03m# Binary mode\u001B[39;00m\n\u001B[0;32m    872\u001B[0m         handle \u001B[38;5;241m=\u001B[39m \u001B[38;5;28mopen\u001B[39m(handle, ioargs\u001B[38;5;241m.\u001B[39mmode)\n",
      "\u001B[1;31mFileNotFoundError\u001B[0m: [Errno 2] No such file or directory: './alliances/COW-country-codes.csv'"
     ]
    }
   ],
   "source": [
    "# Finding each country's alliance per year\n",
    "\n",
    "# Reading in COW country codes\n",
    "file_path = './alliances/COW-country-codes.csv'\n",
    "# For some reason the COW codes have duplicates\n",
    "ccodes_df = pd.read_csv(file_path).drop_duplicates()\n",
    "\n",
    "# Looping through each country and storing their number of alliances\n",
    "new_entries = []\n",
    "defense = 0\n",
    "neutrality = 0\n",
    "nonaggression = 0\n",
    "entente = 0\n",
    "\n",
    "for year in range (2000, 2013):\n",
    "    for index, row in ccodes_df.iterrows():\n",
    "        # Filtered dataframe for that country and year\n",
    "        filtered_df = ally_dyad_year[(ally_dyad_year['ccode1'] == row['CCode']) &(ally_dyad_year['year'] == year)]\n",
    "\n",
    "        defense = filtered_df['defense'].sum()\n",
    "        neutrality = filtered_df['neutrality'].sum()\n",
    "        nonaggression = filtered_df['nonaggression'].sum()\n",
    "        entente = filtered_df['entente'].sum()\n",
    "\n",
    "        new_entries.append({'ccode':row['CCode'], 'name':row['StateNme'], 'year':year, 'defense': defense, 'neutrality': neutrality, 'nonaggression': nonaggression, 'entente':entente, 'total':defense+neutrality+nonaggression+entente, 'score': (defense*4)+(neutrality*3)+(nonaggression*2)+entente})\n",
    "\n",
    "member_year = pd.DataFrame()\n",
    "member_year = pd.concat([member_year, pd.DataFrame(new_entries)], ignore_index=True)"
   ],
   "metadata": {
    "collapsed": false
   }
  },
  {
   "cell_type": "code",
   "execution_count": null,
   "outputs": [],
   "source": [
    "member_year.info()\n",
    "member_year.head(28)"
   ],
   "metadata": {
    "collapsed": false
   }
  },
  {
   "cell_type": "code",
   "execution_count": null,
   "outputs": [],
   "source": [
    "# Specific year and all countries alliances\n",
    "year_2012 = member_year[member_year['year'] == 2012]\n",
    "year_2012.head()"
   ],
   "metadata": {
    "collapsed": false
   }
  },
  {
   "cell_type": "code",
   "execution_count": null,
   "outputs": [],
   "source": [
    "# Highest score\n",
    "index_of_max_score = year_2012['score'].idxmax()\n",
    "row_with_max_score = year_2012.loc[index_of_max_score]\n",
    "print(row_with_max_score['name'], 'has the highest score of: ', int(row_with_max_score['score']))\n",
    "\n",
    "# Lowest score\n",
    "index_of_min_score = year_2012['score'].idxmin()\n",
    "row_with_min_score = year_2012.loc[index_of_min_score]\n",
    "print(row_with_min_score['name'], 'has the lowest score of: ', int(row_with_min_score['score']))\n",
    "\n",
    "print()\n",
    "\n",
    "# Most treaties\n",
    "index_of_max_treaty= year_2012['total'].idxmax()\n",
    "row_with_max_treaty= year_2012.loc[index_of_max_treaty]\n",
    "print(row_with_max_treaty['name'], 'has the most alliances at: ', int(row_with_max_treaty['total']))\n",
    "\n",
    "# Least treaties\n",
    "index_of_min_treaty = year_2012['total'].idxmin()\n",
    "row_with_min_treaty = year_2012.loc[index_of_min_score]\n",
    "print(row_with_min_treaty['name'], 'has the least alliances: ', int(row_with_min_treaty['total']))"
   ],
   "metadata": {
    "collapsed": false
   }
  },
  {
   "cell_type": "code",
   "execution_count": null,
   "outputs": [],
   "source": [
    "states_year_count = {}\n",
    "for year in range(1816,2013):\n",
    "    states_year_count[year] = pd.concat([(ally_dyad_year[ally_dyad_year['year'] == year])['ccode1'],(ally_dyad_year[ally_dyad_year['year'] == year])['ccode2']]).nunique()\n",
    "\n",
    "states_year_count_df = pd.DataFrame.from_dict(states_year_count,orient='index',columns=['count'])\n",
    "\n",
    "# Plotting the states by their first occurance date\n",
    "plt.figure(figsize=(10, 5))\n",
    "plt.plot(states_year_count_df.index, states_year_count_df['count'], color='red')\n",
    "plt.xlabel('Year')\n",
    "plt.ylabel('Number of States')\n",
    "plt.title('Number of States in Dataset by Year')\n",
    "plt.xticks(range(1810,2012,10))\n",
    "plt.show()\n",
    "\n",
    "print(\"Stats for amount of states in dataset each year\\nMean: {}\\nMedian: {}\\nMode: {}\".format(states_year_count_df['count'].mean(),states_year_count_df['count'].median(),states_year_count_df['count'].mode().values[0]))"
   ],
   "metadata": {
    "collapsed": false
   }
  },
  {
   "cell_type": "code",
   "execution_count": null,
   "outputs": [],
   "source": [
    "# Alliances per year for a single state\n",
    "alliances_year_count = {}\n",
    "state_name = 'Brazil'\n",
    "for year in range(1816,2013):\n",
    "    alliance_year = ally_dyad_year[ally_dyad_year['year'] == year]\n",
    "    alliances_year_count[year] = (alliance_year[alliance_year['state_name1']==state_name])['version4id'].nunique()\n",
    "\n",
    "alliances_year_count_df = pd.DataFrame.from_dict(alliances_year_count,orient='index',columns=['count'])\n",
    "\n",
    "alliances_year_count_df = alliances_year_count_df.loc[alliances_year_count_df['count'] != 0]\n",
    "\n",
    "# Plotting the states by their first occurrence date\n",
    "plt.figure(figsize=(10, 5))\n",
    "plt.plot(alliances_year_count_df.index, alliances_year_count_df['count'], color='red')\n",
    "plt.xlabel('Year')\n",
    "plt.ylabel('Number of Alliances')\n",
    "plt.title('Number of Alliances held by {} over time'.format(state_name))\n",
    "plt.xticks(range(alliances_year_count_df.index.min(),alliances_year_count_df.index.max(),10))\n",
    "plt.show()\n",
    "\n",
    "print(\"Stats for amount of states in dataset each year\\nMean: {}\\nMedian: {}\\nMode: {}\".format(alliances_year_count_df['count'].mean(),alliances_year_count_df['count'].median(),alliances_year_count_df['count'].mode().values[0]))"
   ],
   "metadata": {
    "collapsed": false
   }
  },
  {
   "cell_type": "code",
   "execution_count": null,
   "outputs": [],
   "source": [
    "# Number of states per alliance, version4id starts at 1 not 0 so -1 for searching IDs\n",
    "no_states_alliance = pd.DataFrame(columns=['version4id','no_states'])\n",
    "year = 2012\n",
    "year_specific_df = ally_dyad_year[ally_dyad_year['year'] == year]\n",
    "for uid in year_specific_df['version4id'].unique():\n",
    "    no_states_alliance.loc[len(no_states_alliance)] = {'version4id':uid,'no_states':pd.concat([(year_specific_df[year_specific_df['version4id'] == uid])['state_name1'],(year_specific_df[year_specific_df['version4id'] == uid])['state_name2']]).nunique()}\n",
    "\n",
    "max_states = max(no_states_alliance['no_states'])\n",
    "print(\"{} has the max number of states in an alliance with {}\\nMean {}\\nMedian {}\\nMode {}\".format((no_states_alliance[no_states_alliance['no_states'] == max_states])['version4id'].values[0],  max_states,no_states_alliance['no_states'].mean(),no_states_alliance['no_states'].median(),no_states_alliance['no_states'].mode().values[0]))\n",
    "\n",
    "# State Names of the Rio Pact\n",
    "#pd.concat([(ally_dyad[ally_dyad['version4id'] == 210])['state_name1'],(ally_dyad[ally_dyad['version4id'] == 210])['state_name2']]).unique()\n",
    "\n",
    "print(\"There are {} alliances with more than 2 states\".format(len(no_states_alliance[no_states_alliance['no_states'] > 2])))\n",
    "#no_states_alliance"
   ],
   "metadata": {
    "collapsed": false
   }
  },
  {
   "cell_type": "code",
   "execution_count": null,
   "outputs": [],
   "source": [],
   "metadata": {
    "collapsed": false
   }
  }
 ],
 "metadata": {
  "kernelspec": {
   "display_name": "Python 3",
   "language": "python",
   "name": "python3"
  },
  "language_info": {
   "codemirror_mode": {
    "name": "ipython",
    "version": 2
   },
   "file_extension": ".py",
   "mimetype": "text/x-python",
   "name": "python",
   "nbconvert_exporter": "python",
   "pygments_lexer": "ipython2",
   "version": "2.7.6"
  }
 },
 "nbformat": 4,
 "nbformat_minor": 0
}
