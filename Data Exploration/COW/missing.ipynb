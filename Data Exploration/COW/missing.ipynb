{
 "cells": [
  {
   "cell_type": "code",
   "execution_count": 82,
   "metadata": {
    "collapsed": true
   },
   "outputs": [],
   "source": [
    "import pandas as pd"
   ]
  },
  {
   "cell_type": "code",
   "execution_count": 83,
   "outputs": [],
   "source": [
    "# https://www.kaggle.com/datasets/wbdill/country-codes-iso-3166?resource=download\n",
    "ally_dyad = pd.read_csv(\"./COW_data/alliance_v4.1_by_dyad.csv\")\n",
    "cow_countries = pd.read_csv(\"./COW_data/COW-country-codes.csv\")\n",
    "countries_195 = pd.read_csv(\"./COW_data/recognised_countries.csv\")"
   ],
   "metadata": {
    "collapsed": false
   }
  },
  {
   "cell_type": "code",
   "execution_count": 90,
   "outputs": [
    {
     "name": "stdout",
     "output_type": "stream",
     "text": [
      "37\n"
     ]
    },
    {
     "data": {
      "text/plain": "{'Andorra',\n 'Bhutan',\n 'Botswana',\n 'Brunei',\n 'Comoros',\n 'East Timor',\n 'Federated States of Micronesia',\n 'Fiji',\n 'Holy See',\n 'Ireland',\n 'Kiribati',\n 'Laos',\n 'Lesotho',\n 'Liechtenstein',\n 'Macedonia',\n 'Malawi',\n 'Maldives',\n 'Marshall Islands',\n 'Monaco',\n 'Montenegro',\n 'Nauru',\n 'Nepal',\n 'Palau',\n 'Papua New Guinea',\n 'Samoa',\n 'San Marino',\n 'Serbia',\n 'Seychelles',\n 'Singapore',\n 'Slovenia',\n 'Solomon Islands',\n 'Sri Lanka',\n 'State of Palestine',\n 'Switzerland',\n 'Tonga',\n 'Tuvalu',\n 'Vanuatu'}"
     },
     "execution_count": 90,
     "metadata": {},
     "output_type": "execute_result"
    }
   ],
   "source": [
    "\"\"\"Finding all the countries not included in my dataset\"\"\"\n",
    "\n",
    "# Countries not included in my dataset\n",
    "alliance_states = pd.DataFrame(pd.concat([ally_dyad['state_name1'],ally_dyad['state_name2']]).unique(),columns=['state'])\n",
    "alliance_states_set = set(alliance_states['state'])\n",
    "cow_states = cow_countries['StateNme'].unique()\n",
    "cow_states_set = set(cow_states)\n",
    "countries_195_set = set(countries_195['country'])\n",
    "\n",
    "# Countries not in COW codes\n",
    "#countries_195_set.difference(cow_states_set)\n",
    "\n",
    "# Countries not in alliance\n",
    "no_alliances = countries_195_set.difference(alliance_states_set)\n",
    "print(len(no_alliances))\n",
    "no_alliances"
   ],
   "metadata": {
    "collapsed": false
   }
  }
 ],
 "metadata": {
  "kernelspec": {
   "display_name": "Python 3",
   "language": "python",
   "name": "python3"
  },
  "language_info": {
   "codemirror_mode": {
    "name": "ipython",
    "version": 2
   },
   "file_extension": ".py",
   "mimetype": "text/x-python",
   "name": "python",
   "nbconvert_exporter": "python",
   "pygments_lexer": "ipython2",
   "version": "2.7.6"
  }
 },
 "nbformat": 4,
 "nbformat_minor": 0
}
