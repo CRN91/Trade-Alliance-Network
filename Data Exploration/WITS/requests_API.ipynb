{
 "cells": [
  {
   "cell_type": "code",
   "execution_count": 2,
   "metadata": {
    "collapsed": true
   },
   "outputs": [],
   "source": [
    "import csv\n",
    "import xml.etree.ElementTree as ET\n",
    "import requests\n",
    "import pandas as pd\n",
    "import os\n",
    "import concurrent.futures\n",
    "from pandas.errors import EmptyDataError"
   ]
  },
  {
   "cell_type": "code",
   "execution_count": 3,
   "outputs": [
    {
     "data": {
      "text/plain": "       state_name iso3\n0     Afghanistan  AFG\n1         Albania  ALB\n2         Algeria  DZA\n3  American Samoa  ASM\n4         Andorra  AND",
      "text/html": "<div>\n<style scoped>\n    .dataframe tbody tr th:only-of-type {\n        vertical-align: middle;\n    }\n\n    .dataframe tbody tr th {\n        vertical-align: top;\n    }\n\n    .dataframe thead th {\n        text-align: right;\n    }\n</style>\n<table border=\"1\" class=\"dataframe\">\n  <thead>\n    <tr style=\"text-align: right;\">\n      <th></th>\n      <th>state_name</th>\n      <th>iso3</th>\n    </tr>\n  </thead>\n  <tbody>\n    <tr>\n      <th>0</th>\n      <td>Afghanistan</td>\n      <td>AFG</td>\n    </tr>\n    <tr>\n      <th>1</th>\n      <td>Albania</td>\n      <td>ALB</td>\n    </tr>\n    <tr>\n      <th>2</th>\n      <td>Algeria</td>\n      <td>DZA</td>\n    </tr>\n    <tr>\n      <th>3</th>\n      <td>American Samoa</td>\n      <td>ASM</td>\n    </tr>\n    <tr>\n      <th>4</th>\n      <td>Andorra</td>\n      <td>AND</td>\n    </tr>\n  </tbody>\n</table>\n</div>"
     },
     "execution_count": 3,
     "metadata": {},
     "output_type": "execute_result"
    }
   ],
   "source": [
    "# Getting country names and iso codes\n",
    "\n",
    "overwrite = False # Manually change if file overwrite needed\n",
    "iso_path = \"./data/trade_country_iso.csv\"\n",
    "\n",
    "# Check if API request already done\n",
    "if not(os.path.exists(iso_path)) or overwrite:\n",
    "\n",
    "    url = \"http://wits.worldbank.org/API/V1/wits/datasource/tradestats-trade/country/all\"\n",
    "\n",
    "    response = requests.get(url)\n",
    "\n",
    "    if response.status_code == 200:\n",
    "        # Parse the XML response\n",
    "        root = ET.fromstring(response.content)\n",
    "\n",
    "        # Find the countries element\n",
    "        countries_element = root.find(\"{http://wits.worldbank.org}countries\")\n",
    "\n",
    "        if countries_element is not None:\n",
    "            # Find all country elements\n",
    "            countries = countries_element.findall(\"{http://wits.worldbank.org}country\")\n",
    "\n",
    "            # Save country names as csv\n",
    "            iso_file = open(iso_path,'w', newline='')\n",
    "            writer = csv.writer(iso_file)\n",
    "            writer.writerow(['state_name','iso3'])  # Write header\n",
    "            for country in countries:\n",
    "                writer.writerow([country.find(\"{http://wits.worldbank.org}name\").text,country.find(\"{http://wits.worldbank.org}iso3Code\").text])\n",
    "            iso_file.close()\n",
    "\n",
    "            print(f\"Country names saved to {iso_path}.\")\n",
    "\n",
    "        else:\n",
    "            print(\"No countries found in the response.\")\n",
    "    else:\n",
    "        print(\"Failed to retrieve data. Status code:\", response.status_code)\n",
    "\n",
    "iso_df = pd.read_csv(iso_path,encoding='latin1')\n",
    "iso_df.head()"
   ],
   "metadata": {
    "collapsed": false
   }
  },
  {
   "cell_type": "markdown",
   "source": [],
   "metadata": {
    "collapsed": false
   }
  },
  {
   "cell_type": "code",
   "execution_count": 4,
   "outputs": [
    {
     "data": {
      "text/plain": "                                  name        indicatorcode  \\\n0                   Country Growth (%)          CNTRY-GRWTH   \n1        HH Market concentration index  HH-MKT-CNCNTRTN-NDX   \n2   Index Of Export Market Penetration  NDX-XPRT-MKT-PNRTTN   \n3      No Of traded HS6 digit Products  NMBR-MPRT-HS6-PRDCT   \n4      No Of traded HS6 digit Products  NMBR-XPRT-HS6-PRDCT   \n5            Number of export partners      NMBR-XPRT-PRTNR   \n6            Number of import partners      NMBR-MPRT-PRTNR   \n7          Number of products exported     NMBR-PRDCT-XPRTD   \n8          Number of products imported     NMBR-PRDCT-MPRTD   \n9                    Partner Share (%)       XPRT-PRTNR-SHR   \n10                   Partner Share (%)       MPRT-PRTNR-SHR   \n11                   Product Share (%)       MPRT-PRDCT-SHR   \n12                   Product Share (%)       XPRT-PRDCT-SHR   \n13      Revealed comparative advantage                  RCA   \n14         Share in Total Products (%)   MPRT-SHR-TTL-PRDCT   \n15         Share in Total Products (%)   XPRT-SHR-TTL-PRDCT   \n16         Trade complementarity index   TRD-CMPLMNTRTY-NDX   \n17          Trade Value (US$ Thousand)          MPRT-TRD-VL   \n18          Trade Value (US$ Thousand)          XPRT-TRD-VL   \n19                    World Growth (%)           WRLD-GRWTH   \n\n                                           definition ispartnerequired  \\\n0   Annual percentage growth rate of the country’s...              yes   \n1   Hirschman Herfindahl index  is a measure of th...               no   \n2    It is calculated as the number of countries t...               no   \n3   Total number of products imported by a country...              yes   \n4   Total number of products exported by a country...              yes   \n5   Number of countries to whom a particular count...               no   \n6   Number of countries from which a particular co...               no   \n7   Total number of products exported by a country...               no   \n8   Total number of products imported by a country...               no   \n9   The share of total merchandise trade (export o...              yes   \n10  The share of total merchandise trade (export o...              yes   \n11  The share of total merchandise trade (export o...              yes   \n12  The share of total merchandise trade (export o...              yes   \n13  Measures of revealed comparative advantage (RC...              yes   \n14                        Share in Total Products (%)              yes   \n15                        Share in Total Products (%)              yes   \n16  The trade complementarity (TC) index can provi...              yes   \n17  Total Import/Export Value in thousands of US D...              yes   \n18  Total Import/Export Value in thousands of US D...              yes   \n19  Annual percentage growth rate of the world’s t...              yes   \n\n   SDMX_partnervalue isproductrequired SDMX_productvalue  \\\n0                                  yes                     \n1                999                no            999999   \n2                999                no            999999   \n3                                   no            999999   \n4                                   no            999999   \n5                999                no            999999   \n6                999                no            999999   \n7                999                no            999999   \n8                999                no            999999   \n9                                   no            999999   \n10                                  no            999999   \n11                                 yes                     \n12                                 yes                     \n13                                 yes                     \n14                                 yes                     \n15                                 yes                     \n16                                  no            999999   \n17                                 yes                     \n18                                 yes                     \n19                                 yes                     \n\n                     valuation  \\\n0   Export - FOB; Import - CIF   \n1   Export - FOB; Import - CIF   \n2   Export - FOB; Import - CIF   \n3                         None   \n4                         None   \n5                         None   \n6                         None   \n7                         None   \n8                         None   \n9                         None   \n10                        None   \n11                        None   \n12                        None   \n13  Export - FOB; Import - CIF   \n14                        None   \n15                        None   \n16  Export - FOB; Import - CIF   \n17  Export - FOB; Import - CIF   \n18  Export - FOB; Import - CIF   \n19  Export - FOB; Import - CIF   \n\n                                                notes  \n0   1) Mirror Exports is considered 2)Growth for a...  \n1   1) Mirror Exports is considered for export dat...  \n2   1) Mirror Exports is considered for export dat...  \n3   1)  All traded products at HS 6 digits are con...  \n4   1)  All traded products at HS 6 digits are con...  \n5    1) Product 'Total' is used for this computation.  \n6    1) Product 'Total' is used for this computation.  \n7   1)  All traded products at HS 6 digits are con...  \n8   1)  All traded products at HS 6 digits are con...  \n9                                                None  \n10                                               None  \n11                                               None  \n12                                               None  \n13  Mirror Exports is considered.  The RCA index o...  \n14  1)  All traded products at HS 6 digits are con...  \n15  1)  All traded products at HS 6 digits are con...  \n16  1) Mirror Exports is considered for export dat...  \n17                                               None  \n18                                               None  \n19  1) Mirror Exports is considered 2)Growth for a...  ",
      "text/html": "<div>\n<style scoped>\n    .dataframe tbody tr th:only-of-type {\n        vertical-align: middle;\n    }\n\n    .dataframe tbody tr th {\n        vertical-align: top;\n    }\n\n    .dataframe thead th {\n        text-align: right;\n    }\n</style>\n<table border=\"1\" class=\"dataframe\">\n  <thead>\n    <tr style=\"text-align: right;\">\n      <th></th>\n      <th>name</th>\n      <th>indicatorcode</th>\n      <th>definition</th>\n      <th>ispartnerequired</th>\n      <th>SDMX_partnervalue</th>\n      <th>isproductrequired</th>\n      <th>SDMX_productvalue</th>\n      <th>valuation</th>\n      <th>notes</th>\n    </tr>\n  </thead>\n  <tbody>\n    <tr>\n      <th>0</th>\n      <td>Country Growth (%)</td>\n      <td>CNTRY-GRWTH</td>\n      <td>Annual percentage growth rate of the country’s...</td>\n      <td>yes</td>\n      <td></td>\n      <td>yes</td>\n      <td></td>\n      <td>Export - FOB; Import - CIF</td>\n      <td>1) Mirror Exports is considered 2)Growth for a...</td>\n    </tr>\n    <tr>\n      <th>1</th>\n      <td>HH Market concentration index</td>\n      <td>HH-MKT-CNCNTRTN-NDX</td>\n      <td>Hirschman Herfindahl index  is a measure of th...</td>\n      <td>no</td>\n      <td>999</td>\n      <td>no</td>\n      <td>999999</td>\n      <td>Export - FOB; Import - CIF</td>\n      <td>1) Mirror Exports is considered for export dat...</td>\n    </tr>\n    <tr>\n      <th>2</th>\n      <td>Index Of Export Market Penetration</td>\n      <td>NDX-XPRT-MKT-PNRTTN</td>\n      <td>It is calculated as the number of countries t...</td>\n      <td>no</td>\n      <td>999</td>\n      <td>no</td>\n      <td>999999</td>\n      <td>Export - FOB; Import - CIF</td>\n      <td>1) Mirror Exports is considered for export dat...</td>\n    </tr>\n    <tr>\n      <th>3</th>\n      <td>No Of traded HS6 digit Products</td>\n      <td>NMBR-MPRT-HS6-PRDCT</td>\n      <td>Total number of products imported by a country...</td>\n      <td>yes</td>\n      <td></td>\n      <td>no</td>\n      <td>999999</td>\n      <td>None</td>\n      <td>1)  All traded products at HS 6 digits are con...</td>\n    </tr>\n    <tr>\n      <th>4</th>\n      <td>No Of traded HS6 digit Products</td>\n      <td>NMBR-XPRT-HS6-PRDCT</td>\n      <td>Total number of products exported by a country...</td>\n      <td>yes</td>\n      <td></td>\n      <td>no</td>\n      <td>999999</td>\n      <td>None</td>\n      <td>1)  All traded products at HS 6 digits are con...</td>\n    </tr>\n    <tr>\n      <th>5</th>\n      <td>Number of export partners</td>\n      <td>NMBR-XPRT-PRTNR</td>\n      <td>Number of countries to whom a particular count...</td>\n      <td>no</td>\n      <td>999</td>\n      <td>no</td>\n      <td>999999</td>\n      <td>None</td>\n      <td>1) Product 'Total' is used for this computation.</td>\n    </tr>\n    <tr>\n      <th>6</th>\n      <td>Number of import partners</td>\n      <td>NMBR-MPRT-PRTNR</td>\n      <td>Number of countries from which a particular co...</td>\n      <td>no</td>\n      <td>999</td>\n      <td>no</td>\n      <td>999999</td>\n      <td>None</td>\n      <td>1) Product 'Total' is used for this computation.</td>\n    </tr>\n    <tr>\n      <th>7</th>\n      <td>Number of products exported</td>\n      <td>NMBR-PRDCT-XPRTD</td>\n      <td>Total number of products exported by a country...</td>\n      <td>no</td>\n      <td>999</td>\n      <td>no</td>\n      <td>999999</td>\n      <td>None</td>\n      <td>1)  All traded products at HS 6 digits are con...</td>\n    </tr>\n    <tr>\n      <th>8</th>\n      <td>Number of products imported</td>\n      <td>NMBR-PRDCT-MPRTD</td>\n      <td>Total number of products imported by a country...</td>\n      <td>no</td>\n      <td>999</td>\n      <td>no</td>\n      <td>999999</td>\n      <td>None</td>\n      <td>1)  All traded products at HS 6 digits are con...</td>\n    </tr>\n    <tr>\n      <th>9</th>\n      <td>Partner Share (%)</td>\n      <td>XPRT-PRTNR-SHR</td>\n      <td>The share of total merchandise trade (export o...</td>\n      <td>yes</td>\n      <td></td>\n      <td>no</td>\n      <td>999999</td>\n      <td>None</td>\n      <td>None</td>\n    </tr>\n    <tr>\n      <th>10</th>\n      <td>Partner Share (%)</td>\n      <td>MPRT-PRTNR-SHR</td>\n      <td>The share of total merchandise trade (export o...</td>\n      <td>yes</td>\n      <td></td>\n      <td>no</td>\n      <td>999999</td>\n      <td>None</td>\n      <td>None</td>\n    </tr>\n    <tr>\n      <th>11</th>\n      <td>Product Share (%)</td>\n      <td>MPRT-PRDCT-SHR</td>\n      <td>The share of total merchandise trade (export o...</td>\n      <td>yes</td>\n      <td></td>\n      <td>yes</td>\n      <td></td>\n      <td>None</td>\n      <td>None</td>\n    </tr>\n    <tr>\n      <th>12</th>\n      <td>Product Share (%)</td>\n      <td>XPRT-PRDCT-SHR</td>\n      <td>The share of total merchandise trade (export o...</td>\n      <td>yes</td>\n      <td></td>\n      <td>yes</td>\n      <td></td>\n      <td>None</td>\n      <td>None</td>\n    </tr>\n    <tr>\n      <th>13</th>\n      <td>Revealed comparative advantage</td>\n      <td>RCA</td>\n      <td>Measures of revealed comparative advantage (RC...</td>\n      <td>yes</td>\n      <td></td>\n      <td>yes</td>\n      <td></td>\n      <td>Export - FOB; Import - CIF</td>\n      <td>Mirror Exports is considered.  The RCA index o...</td>\n    </tr>\n    <tr>\n      <th>14</th>\n      <td>Share in Total Products (%)</td>\n      <td>MPRT-SHR-TTL-PRDCT</td>\n      <td>Share in Total Products (%)</td>\n      <td>yes</td>\n      <td></td>\n      <td>yes</td>\n      <td></td>\n      <td>None</td>\n      <td>1)  All traded products at HS 6 digits are con...</td>\n    </tr>\n    <tr>\n      <th>15</th>\n      <td>Share in Total Products (%)</td>\n      <td>XPRT-SHR-TTL-PRDCT</td>\n      <td>Share in Total Products (%)</td>\n      <td>yes</td>\n      <td></td>\n      <td>yes</td>\n      <td></td>\n      <td>None</td>\n      <td>1)  All traded products at HS 6 digits are con...</td>\n    </tr>\n    <tr>\n      <th>16</th>\n      <td>Trade complementarity index</td>\n      <td>TRD-CMPLMNTRTY-NDX</td>\n      <td>The trade complementarity (TC) index can provi...</td>\n      <td>yes</td>\n      <td></td>\n      <td>no</td>\n      <td>999999</td>\n      <td>Export - FOB; Import - CIF</td>\n      <td>1) Mirror Exports is considered for export dat...</td>\n    </tr>\n    <tr>\n      <th>17</th>\n      <td>Trade Value (US$ Thousand)</td>\n      <td>MPRT-TRD-VL</td>\n      <td>Total Import/Export Value in thousands of US D...</td>\n      <td>yes</td>\n      <td></td>\n      <td>yes</td>\n      <td></td>\n      <td>Export - FOB; Import - CIF</td>\n      <td>None</td>\n    </tr>\n    <tr>\n      <th>18</th>\n      <td>Trade Value (US$ Thousand)</td>\n      <td>XPRT-TRD-VL</td>\n      <td>Total Import/Export Value in thousands of US D...</td>\n      <td>yes</td>\n      <td></td>\n      <td>yes</td>\n      <td></td>\n      <td>Export - FOB; Import - CIF</td>\n      <td>None</td>\n    </tr>\n    <tr>\n      <th>19</th>\n      <td>World Growth (%)</td>\n      <td>WRLD-GRWTH</td>\n      <td>Annual percentage growth rate of the world’s t...</td>\n      <td>yes</td>\n      <td></td>\n      <td>yes</td>\n      <td></td>\n      <td>Export - FOB; Import - CIF</td>\n      <td>1) Mirror Exports is considered 2)Growth for a...</td>\n    </tr>\n  </tbody>\n</table>\n</div>"
     },
     "execution_count": 4,
     "metadata": {},
     "output_type": "execute_result"
    }
   ],
   "source": [
    "# Get all indicators and descriptions\n",
    "\n",
    "overwrite = False # Manually change if file overwrite needed\n",
    "indicator_path = \"./data/indicator_data.xml\"\n",
    "# Check if API request already done\n",
    "if not(os.path.exists(indicator_path)) or overwrite:\n",
    "    url = \"http://wits.worldbank.org/API/V1/wits/datasource/tradestats-trade/indicator/ALL\"\n",
    "\n",
    "    # Make a GET request to the API endpoint\n",
    "    response = requests.get(url)\n",
    "\n",
    "\n",
    "    # Check if the request was successful (status code 200)\n",
    "    if response.status_code == 200:\n",
    "        # Parse the XML response\n",
    "        root = ET.fromstring(response.content)\n",
    "\n",
    "        # Find the countries element\n",
    "        indicators_element = root.find(\"{http://wits.worldbank.org}indicators\")\n",
    "\n",
    "        if indicators_element is not None:\n",
    "            indicator_file = open(indicator_path,'wb')\n",
    "            indicator_file.write(response.content)\n",
    "            indicator_file.close()\n",
    "            print(f\"Indicators save to {indicator_file}.\")\n",
    "        else:\n",
    "            print(\"Error: root element not found\")\n",
    "    else:\n",
    "        # Print an error message if the request was not successful\n",
    "        print(\"Error:\", response.status_code)\n",
    "\n",
    "# Loading in xml file\n",
    "tree = ET.parse(indicator_path)\n",
    "root = tree.getroot()\n",
    "\n",
    "# Initialise lists to store data\n",
    "data = []\n",
    "indicators = root.find(\"{http://wits.worldbank.org}indicators\")\n",
    "\n",
    "# Iterate over each indicator element\n",
    "for indicator in indicators:\n",
    "    # Some needed info is stored as an attribute\n",
    "    indicator_data = indicator.attrib\n",
    "    # Iterate through indicator to get additional fields\n",
    "    for child in indicator:\n",
    "        indicator_data[child.tag.removeprefix(\"{http://wits.worldbank.org}\")] = child.text\n",
    "    data.append(indicator_data)\n",
    "\n",
    "# Dataframe with some columns dropped and reorganised, so I can actually read this\n",
    "indicators_df = pd.DataFrame(data).drop([\"topic\",\"source\",\"productclassification\",\"currency\",\"periodicity\"],axis=1).reindex(columns=['name','indicatorcode','definition','ispartnerequired','SDMX_partnervalue','isproductrequired','SDMX_productvalue','valuation','notes'])\n",
    "\n",
    "\"\"\"Important indicator codes to note: 'MPRT-TRD-VL' & 'XPRT-TRD-VL' as import and export\n",
    "trade value measured in US$ Thousands and 'NMBR-MPRT-PRTNR' & 'NMBR-XPRT-PRTNR' as number of import and export partners\"\"\"\n",
    "indicators_df"
   ],
   "metadata": {
    "collapsed": false
   }
  },
  {
   "cell_type": "code",
   "execution_count": 5,
   "outputs": [],
   "source": [
    "# Finds the common iso codes between the alliances and trade data\n",
    "\n",
    "# Get all countries and their iso codes and corresponding CCodes\n",
    "alliance_codes = pd.read_csv(os.path.join(os.getcwd(),\"..\",\"COW/COW_data/COW-country-codes.csv\"),encoding='latin1').drop_duplicates()\n",
    "trade_iso_path = \"./data/trade_country_iso.csv\"\n",
    "trade_iso_codes = pd.read_csv(trade_iso_path,encoding='latin1')\n",
    "\n",
    "# Find the intersection of the two dataframes\n",
    "merged_inner_df = pd.merge(trade_iso_codes, alliance_codes, left_on='iso3', right_on='StateAbb', how='inner')\n",
    "\n",
    "# Filter the merged DataFrame to get entries where 'iso3' matches 'StateAbb'\n",
    "matched_entries = merged_inner_df[['iso3', 'StateAbb', 'state_name','CCode']]\n",
    "\n",
    "# Find the union of the two dataframes\n",
    "unmatched_alliance_entries = alliance_codes\n",
    "\n",
    "# Find all the unmatched entries\n",
    "for i in unmatched_alliance_entries.iterrows():\n",
    "    ccode = i[1]['CCode']\n",
    "    if ccode in alliance_codes['CCode'].values:\n",
    "        # Remove the entry from unmatched_entries\n",
    "        unmatched_alliance_entries = unmatched_alliance_entries[~(unmatched_alliance_entries['CCode'] == ccode)]\n",
    "\n",
    "# Create a dataframe to store the unmatched iso codes\n",
    "unmatched_iso_codes = pd.DataFrame(columns=['iso3','state_name','CCode'])\n",
    "unmatched_iso_codes['state_name'] = unmatched_alliance_entries['StateNme']\n",
    "unmatched_iso_codes['CCode'] = unmatched_alliance_entries['CCode']\n",
    "\n",
    "# Find all the common iso codes for unmatched entries\n",
    "for i in trade_iso_codes.iterrows():\n",
    "    state_name = i[1]['state_name']\n",
    "    if state_name in unmatched_iso_codes['state_name'].values:\n",
    "        # Find index of row with state_name\n",
    "        row_index = unmatched_iso_codes.loc[unmatched_iso_codes['state_name'] == state_name].index[0]\n",
    "        # Replace NaN with iso3 code\n",
    "        unmatched_iso_codes.loc[row_index,'iso3'] = i[1]['iso3']\n",
    "\n",
    "# The 44 states with no iso codes, added where applicable manually\n",
    "overwrite = False # Manually change if file overwrite needed\n",
    "incomplete_manual_path = './data/manual_incomplete.csv'\n",
    "# Check if file already written\n",
    "if not(os.path.exists(incomplete_manual_path)) or overwrite:\n",
    "    manual_iso_codes = unmatched_iso_codes[unmatched_iso_codes['iso3'].isna()]\n",
    "    manual_iso_codes.to_csv(incomplete_manual_path, index=False)\n",
    "\n",
    "# I manually added iso codes\n",
    "complete_manual_path = './data/manual_complete.csv'\n",
    "manual_iso_codes = pd.read_csv(complete_manual_path)\n",
    "\n",
    "# Remove the duplicate iso codes from the new dataframe\n",
    "for i in manual_iso_codes.iterrows():\n",
    "    iso_code = i[1]['iso3']\n",
    "    if iso_code in matched_entries['iso3'].values:\n",
    "        # Remove the entry from unmatched_entries\n",
    "        manual_iso_codes = manual_iso_codes[~(manual_iso_codes['iso3'] == iso_code)]\n",
    "\n",
    "# Merge the dataframes and write to csv if not already written\n",
    "overwrite = False # Manually change if file overwrite needed\n",
    "common_iso_path = './data/common_iso_codes.csv'\n",
    "# Check if file already written\n",
    "if not(os.path.exists(common_iso_path)) or overwrite:\n",
    "    final_iso_codes = pd.merge(matched_entries.drop(['StateAbb'],axis=1), manual_iso_codes, on=['iso3','state_name','CCode'], how='outer')\n",
    "    final_iso_codes.to_csv(common_iso_path, index=False)"
   ],
   "metadata": {
    "collapsed": false
   }
  },
  {
   "cell_type": "code",
   "execution_count": 6,
   "outputs": [],
   "source": [
    "def find_trade_value(reporter,partner,years_list,session):\n",
    "    \"\"\"\n",
    "    Sends API request to WITS for export and import data of reporter to partner for the given years.\n",
    "\n",
    "    :param reporter: ISO code of reporter country\n",
    "    :param partner: ISO code of partner country\n",
    "    :param years_list: year(s) for the data as a list of integers or 'ALL' for all years\n",
    "    :param session: requests session object for connection pooling\n",
    "    :return: list of dictionaries representing trade value\n",
    "    \"\"\"\n",
    "\n",
    "    if years_list == 'ALL':\n",
    "        years_str = 'ALL'\n",
    "    else:\n",
    "        years_str = ';'.join(years_list)\n",
    "\n",
    "    for data_type_index in range(2):\n",
    "        if data_type_index == 0:\n",
    "            # Export on first run\n",
    "            api_indicator = 'XPRT-TRD-VL'\n",
    "        else:\n",
    "            # Import on second run\n",
    "            api_indicator = 'MPRT-TRD-VL'\n",
    "\n",
    "        url = f\"http://wits.worldbank.org/API/V1/SDMX/V21/datasource/tradestats-trade/reporter/{reporter}/year/{years_str}/partner/{partner}/product/total/indicator/{api_indicator}\"\n",
    "\n",
    "        response = session.get(url)\n",
    "\n",
    "        if response.status_code == 200:\n",
    "            # Parse the XML response\n",
    "            root = ET.fromstring(response.content)\n",
    "\n",
    "            # Initialize lists to store data\n",
    "            if data_type_index == 0:\n",
    "                data_dict = {}\n",
    "\n",
    "            series = root.find(\".//Series\")\n",
    "\n",
    "            if series is not None:\n",
    "                # Extract series key values\n",
    "                reporter = series.get(\"REPORTER\")\n",
    "                partner = series.get(\"PARTNER\")\n",
    "                indicator = series.get(\"INDICATOR\")\n",
    "\n",
    "                for obs in series.findall(\".//Obs\"):\n",
    "                    time_period = obs.get(\"TIME_PERIOD\")\n",
    "                    obs_value = obs.get(\"OBS_VALUE\")\n",
    "                    if indicator == 'XPRT-TRD-VL':\n",
    "                        data_dict[time_period] = {'reporter':reporter, 'partner':partner, 'year':time_period, 'export':obs_value,'import':None}\n",
    "                    else:\n",
    "                        if time_period in data_dict:\n",
    "                            data_dict[time_period]['import'] = obs_value\n",
    "                        else:\n",
    "                            data_dict[time_period] = {'reporter':reporter, 'partner':partner, 'year':time_period, 'export':None,'import':obs_value}\n",
    "                if data_type_index == 1:\n",
    "                    # Convert dictionary to list of dictionaries\n",
    "                    return [inner_dict for inner_dict in data_dict.values()]\n",
    "            else:\n",
    "                print(f\"No series found in the response for {api_indicator}.\")\n",
    "                if data_type_index == 1:\n",
    "                    return None\n",
    "        else:\n",
    "            print(f\"Failed to retrieve data for {reporter} {partner} {years_list} {api_indicator}. Status code:\", response.status_code)\n",
    "            return None\n",
    "\n",
    "#session = requests.Session()\n",
    "#pd.DataFrame(find_trade_value('DZA','AFG','ALL',session))\n",
    "#float(entry_s['ObsValue'])*1000"
   ],
   "metadata": {
    "collapsed": false
   }
  },
  {
   "cell_type": "markdown",
   "source": [],
   "metadata": {
    "collapsed": false
   }
  },
  {
   "cell_type": "code",
   "execution_count": 7,
   "outputs": [],
   "source": [
    "# Function to find all trade data for a specific country\n",
    "def trade_country_to_csv(iso_reporter,trade_iso_df,session):\n",
    "    \"\"\"\n",
    "    Finds all trade data for a specific country and writes it to a csv file.\n",
    "    :param iso_reporter: iso code for the specific country.\n",
    "    :param trade_iso_df: DataFrame containing iso codes for all countries.\n",
    "    :param session: requests session object for connection pooling.\n",
    "    \"\"\"\n",
    "    trade_data_list = []\n",
    "    for iso_partner in trade_iso_df['iso3']:\n",
    "        #if iso_reporter != iso_partner: This comparison probably not efficient\n",
    "\n",
    "        # API request for trade data\n",
    "        trade_data = find_trade_value(iso_reporter,iso_partner,'ALL',session)\n",
    "        if trade_data is not None:\n",
    "            trade_data_list.extend(trade_data)\n",
    "\n",
    "    trade_data_df = pd.DataFrame(trade_data_list)\n",
    "    trade_data_df.to_csv(f'./trade_cache/trade_data_{iso_reporter}.csv', index=False)"
   ],
   "metadata": {
    "collapsed": false
   }
  },
  {
   "cell_type": "code",
   "execution_count": 8,
   "outputs": [
    {
     "name": "stdout",
     "output_type": "stream",
     "text": [
      "All trade data saved.\n"
     ]
    }
   ],
   "source": [
    "# Get trade data for all countries\n",
    "overwrite = False # Manually change if file overwrite needed\n",
    "if overwrite:\n",
    "    # Initialise list and dataframe to store data\n",
    "    trade_iso_path = \"./data/trade_country_iso.csv\"\n",
    "    trade_iso_df = pd.read_csv(trade_iso_path,encoding='latin1')\n",
    "    no_of_countries = trade_iso_df.shape[0]\n",
    "\n",
    "    # Create a session to take advantage of connection pooling for efficiency\n",
    "    session = requests.Session()\n",
    "\n",
    "    # Iterate through all combinations of countries with its own thread\n",
    "    with concurrent.futures.ThreadPoolExecutor(max_workers=no_of_countries) as executor:\n",
    "            # Submit tasks for each country combination\n",
    "            future_to_thread_number = {\n",
    "                executor.submit(trade_country_to_csv, trade_iso_df['iso3'][thread_number], trade_iso_df, session): thread_number\n",
    "                for thread_number in range(no_of_countries)\n",
    "            }\n",
    "print(\"All trade data saved.\")"
   ],
   "metadata": {
    "collapsed": false
   }
  },
  {
   "cell_type": "code",
   "execution_count": 9,
   "outputs": [],
   "source": [
    "overwrite = False # Manually change if file overwrite needed\n",
    "trade_path = \"./data/trade_data.csv\"\n",
    "\n",
    "# Check if data concatenating already done\n",
    "if not(os.path.exists(trade_path)) or overwrite:\n",
    "    # Combining all trade data into one dataframe and writing to a csv file\n",
    "    trade_iso_path = \"./data/trade_country_iso.csv\"\n",
    "    trade_iso_df = pd.read_csv(trade_iso_path,encoding='latin1')\n",
    "    trade_data = pd.DataFrame(columns=['reporter','partner','year','export','import'])\n",
    "    empty_isos = []\n",
    "    dataframes = []\n",
    "\n",
    "    for iso_code in trade_iso_df['iso3']:\n",
    "        try:\n",
    "            country_df = pd.read_csv(f'./trade_cache/trade_data_{iso_code}.csv')\n",
    "            dataframes.append(country_df)\n",
    "        except EmptyDataError:\n",
    "            empty_isos.append(iso_code)\n",
    "\n",
    "    trade_data = pd.concat(dataframes)\n",
    "    trade_data.to_csv(trade_path, index=False)\n",
    "\n",
    "    empty_list = []\n",
    "    for iso in empty_isos:\n",
    "        state_name = trade_iso_df[trade_iso_df['iso3'] == iso]['state_name'].values[0]\n",
    "        empty_list.append({'iso3':iso,'state_name':state_name})\n",
    "\n",
    "    empty_df = pd.DataFrame(empty_list)\n",
    "\n",
    "    empty_path = './data/empty_countries.csv'\n",
    "    empty_df.to_csv(empty_path,index=False)"
   ],
   "metadata": {
    "collapsed": false
   }
  },
  {
   "cell_type": "code",
   "execution_count": 5,
   "outputs": [
    {
     "ename": "ParseError",
     "evalue": "syntax error: line 3, column 10 (<string>)",
     "output_type": "error",
     "traceback": [
      "Traceback \u001B[1;36m(most recent call last)\u001B[0m:\n",
      "\u001B[0m  File \u001B[0;32m~\\Documents\\Year 3\\Dissertation\\Data Exploration\\venv\\lib\\site-packages\\IPython\\core\\interactiveshell.py:3550\u001B[0m in \u001B[0;35mrun_code\u001B[0m\n    exec(code_obj, self.user_global_ns, self.user_ns)\u001B[0m\n",
      "\u001B[0m  Cell \u001B[0;32mIn[5], line 10\u001B[0m\n    root = ET.fromstring(response.content)\u001B[0m\n",
      "\u001B[1;36m  File \u001B[1;32m~\\AppData\\Local\\Programs\\Python\\Python310\\lib\\xml\\etree\\ElementTree.py:1347\u001B[1;36m in \u001B[1;35mXML\u001B[1;36m\n\u001B[1;33m    parser.feed(text)\u001B[1;36m\n",
      "\u001B[1;36m  File \u001B[1;32m<string>\u001B[1;36m\u001B[0m\n\u001B[1;31mParseError\u001B[0m\u001B[1;31m:\u001B[0m syntax error: line 3, column 10\n"
     ]
    }
   ],
   "source": [
    "\"\"\"Meant to be getting country meta data which it does but it's not very useful and doesn't\n",
    "say which countries belong to which group\"\"\"\n",
    "run = False\n",
    "if run:\n",
    "    url = 'http://wits.worldbank.org/API/V1/wits/datasource/tradestats-trade/country/ALL'\n",
    "    response = requests.get(url)\n",
    "\n",
    "    if response.status_code == 200:\n",
    "        root = ET.fromstring(response.content)\n",
    "        print(root.keys())"
   ],
   "metadata": {
    "collapsed": false
   }
  },
  {
   "cell_type": "markdown",
   "source": [],
   "metadata": {
    "collapsed": false
   }
  }
 ],
 "metadata": {
  "kernelspec": {
   "display_name": "Python 3",
   "language": "python",
   "name": "python3"
  },
  "language_info": {
   "codemirror_mode": {
    "name": "ipython",
    "version": 2
   },
   "file_extension": ".py",
   "mimetype": "text/x-python",
   "name": "python",
   "nbconvert_exporter": "python",
   "pygments_lexer": "ipython2",
   "version": "2.7.6"
  }
 },
 "nbformat": 4,
 "nbformat_minor": 0
}
