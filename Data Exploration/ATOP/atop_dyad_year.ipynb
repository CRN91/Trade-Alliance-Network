{
 "cells": [
  {
   "cell_type": "code",
   "execution_count": 2,
   "metadata": {
    "collapsed": true
   },
   "outputs": [],
   "source": [
    "import pandas as pd"
   ]
  },
  {
   "cell_type": "code",
   "execution_count": 3,
   "outputs": [],
   "source": [
    "# Includes information about the commitments shared by a pair of states in a given year\n",
    "atop_dyad_year = pd.read_csv(\"./ATOP_data/atop5_1dy.csv\")"
   ],
   "metadata": {
    "collapsed": false
   }
  },
  {
   "cell_type": "code",
   "execution_count": 6,
   "outputs": [
    {
     "name": "stdout",
     "output_type": "stream",
     "text": [
      "<class 'pandas.core.frame.DataFrame'>\n",
      "RangeIndex: 136648 entries, 0 to 136647\n",
      "Data columns (total 26 columns):\n",
      " #   Column    Non-Null Count   Dtype  \n",
      "---  ------    --------------   -----  \n",
      " 0   dyad      136648 non-null  int64  \n",
      " 1   year      136648 non-null  int64  \n",
      " 2   atopally  136648 non-null  int64  \n",
      " 3   defense   136648 non-null  int64  \n",
      " 4   offense   136648 non-null  int64  \n",
      " 5   neutral   136648 non-null  int64  \n",
      " 6   nonagg    136648 non-null  int64  \n",
      " 7   consul    136648 non-null  int64  \n",
      " 8   shareob   77 non-null      float64\n",
      " 9   transyr   136648 non-null  int64  \n",
      " 10  bilatno   136648 non-null  int64  \n",
      " 11  multino   136648 non-null  int64  \n",
      " 12  number    136648 non-null  int64  \n",
      " 13  asymm     136648 non-null  int64  \n",
      " 14  atopid1   136648 non-null  int64  \n",
      " 15  atopid2   53437 non-null   float64\n",
      " 16  atopid3   10650 non-null   float64\n",
      " 17  atopid4   3022 non-null    float64\n",
      " 18  atopid5   322 non-null     float64\n",
      " 19  atopid6   126 non-null     float64\n",
      " 20  atopid7   62 non-null      float64\n",
      " 21  atopid8   25 non-null      float64\n",
      " 22  atopid9   6 non-null       float64\n",
      " 23  mem1      136648 non-null  int64  \n",
      " 24  mem2      136648 non-null  int64  \n",
      " 25  version   136648 non-null  float64\n",
      "dtypes: float64(10), int64(16)\n",
      "memory usage: 27.1 MB\n"
     ]
    },
    {
     "data": {
      "text/plain": "          dyad  year  atopally  defense  offense  neutral  nonagg  consul  \\\n0         2020  1942         1        1        1        0       0       0   \n1         2020  1943         1        1        1        0       0       0   \n2         2020  1944         1        1        1        0       0       0   \n3         2020  1945         1        1        1        0       0       0   \n4         2020  1949         1        1        0        0       1       1   \n...        ...   ...       ...      ...      ...      ...     ...     ...   \n136643  910920  2014         1        0        0        0       1       0   \n136644  910920  2015         1        0        0        0       1       0   \n136645  910920  2016         1        0        0        0       1       0   \n136646  910920  2017         1        0        0        0       1       0   \n136647  910920  2018         1        0        0        0       1       0   \n\n        shareob  transyr  ...  atopid3  atopid4  atopid5  atopid6  atopid7  \\\n0           NaN        1  ...      NaN      NaN      NaN      NaN      NaN   \n1           NaN        0  ...      NaN      NaN      NaN      NaN      NaN   \n2           NaN        0  ...      NaN      NaN      NaN      NaN      NaN   \n3           NaN        1  ...      NaN      NaN      NaN      NaN      NaN   \n4           NaN        1  ...      NaN      NaN      NaN      NaN      NaN   \n...         ...      ...  ...      ...      ...      ...      ...      ...   \n136643      NaN        0  ...      NaN      NaN      NaN      NaN      NaN   \n136644      NaN        0  ...      NaN      NaN      NaN      NaN      NaN   \n136645      NaN        0  ...      NaN      NaN      NaN      NaN      NaN   \n136646      NaN        0  ...      NaN      NaN      NaN      NaN      NaN   \n136647      NaN        0  ...      NaN      NaN      NaN      NaN      NaN   \n\n        atopid8  atopid9  mem1  mem2  version  \n0           NaN      NaN     2    20      5.1  \n1           NaN      NaN     2    20      5.1  \n2           NaN      NaN     2    20      5.1  \n3           NaN      NaN     2    20      5.1  \n4           NaN      NaN     2    20      5.1  \n...         ...      ...   ...   ...      ...  \n136643      NaN      NaN   910   920      5.1  \n136644      NaN      NaN   910   920      5.1  \n136645      NaN      NaN   910   920      5.1  \n136646      NaN      NaN   910   920      5.1  \n136647      NaN      NaN   910   920      5.1  \n\n[136648 rows x 26 columns]",
      "text/html": "<div>\n<style scoped>\n    .dataframe tbody tr th:only-of-type {\n        vertical-align: middle;\n    }\n\n    .dataframe tbody tr th {\n        vertical-align: top;\n    }\n\n    .dataframe thead th {\n        text-align: right;\n    }\n</style>\n<table border=\"1\" class=\"dataframe\">\n  <thead>\n    <tr style=\"text-align: right;\">\n      <th></th>\n      <th>dyad</th>\n      <th>year</th>\n      <th>atopally</th>\n      <th>defense</th>\n      <th>offense</th>\n      <th>neutral</th>\n      <th>nonagg</th>\n      <th>consul</th>\n      <th>shareob</th>\n      <th>transyr</th>\n      <th>...</th>\n      <th>atopid3</th>\n      <th>atopid4</th>\n      <th>atopid5</th>\n      <th>atopid6</th>\n      <th>atopid7</th>\n      <th>atopid8</th>\n      <th>atopid9</th>\n      <th>mem1</th>\n      <th>mem2</th>\n      <th>version</th>\n    </tr>\n  </thead>\n  <tbody>\n    <tr>\n      <th>0</th>\n      <td>2020</td>\n      <td>1942</td>\n      <td>1</td>\n      <td>1</td>\n      <td>1</td>\n      <td>0</td>\n      <td>0</td>\n      <td>0</td>\n      <td>NaN</td>\n      <td>1</td>\n      <td>...</td>\n      <td>NaN</td>\n      <td>NaN</td>\n      <td>NaN</td>\n      <td>NaN</td>\n      <td>NaN</td>\n      <td>NaN</td>\n      <td>NaN</td>\n      <td>2</td>\n      <td>20</td>\n      <td>5.1</td>\n    </tr>\n    <tr>\n      <th>1</th>\n      <td>2020</td>\n      <td>1943</td>\n      <td>1</td>\n      <td>1</td>\n      <td>1</td>\n      <td>0</td>\n      <td>0</td>\n      <td>0</td>\n      <td>NaN</td>\n      <td>0</td>\n      <td>...</td>\n      <td>NaN</td>\n      <td>NaN</td>\n      <td>NaN</td>\n      <td>NaN</td>\n      <td>NaN</td>\n      <td>NaN</td>\n      <td>NaN</td>\n      <td>2</td>\n      <td>20</td>\n      <td>5.1</td>\n    </tr>\n    <tr>\n      <th>2</th>\n      <td>2020</td>\n      <td>1944</td>\n      <td>1</td>\n      <td>1</td>\n      <td>1</td>\n      <td>0</td>\n      <td>0</td>\n      <td>0</td>\n      <td>NaN</td>\n      <td>0</td>\n      <td>...</td>\n      <td>NaN</td>\n      <td>NaN</td>\n      <td>NaN</td>\n      <td>NaN</td>\n      <td>NaN</td>\n      <td>NaN</td>\n      <td>NaN</td>\n      <td>2</td>\n      <td>20</td>\n      <td>5.1</td>\n    </tr>\n    <tr>\n      <th>3</th>\n      <td>2020</td>\n      <td>1945</td>\n      <td>1</td>\n      <td>1</td>\n      <td>1</td>\n      <td>0</td>\n      <td>0</td>\n      <td>0</td>\n      <td>NaN</td>\n      <td>1</td>\n      <td>...</td>\n      <td>NaN</td>\n      <td>NaN</td>\n      <td>NaN</td>\n      <td>NaN</td>\n      <td>NaN</td>\n      <td>NaN</td>\n      <td>NaN</td>\n      <td>2</td>\n      <td>20</td>\n      <td>5.1</td>\n    </tr>\n    <tr>\n      <th>4</th>\n      <td>2020</td>\n      <td>1949</td>\n      <td>1</td>\n      <td>1</td>\n      <td>0</td>\n      <td>0</td>\n      <td>1</td>\n      <td>1</td>\n      <td>NaN</td>\n      <td>1</td>\n      <td>...</td>\n      <td>NaN</td>\n      <td>NaN</td>\n      <td>NaN</td>\n      <td>NaN</td>\n      <td>NaN</td>\n      <td>NaN</td>\n      <td>NaN</td>\n      <td>2</td>\n      <td>20</td>\n      <td>5.1</td>\n    </tr>\n    <tr>\n      <th>...</th>\n      <td>...</td>\n      <td>...</td>\n      <td>...</td>\n      <td>...</td>\n      <td>...</td>\n      <td>...</td>\n      <td>...</td>\n      <td>...</td>\n      <td>...</td>\n      <td>...</td>\n      <td>...</td>\n      <td>...</td>\n      <td>...</td>\n      <td>...</td>\n      <td>...</td>\n      <td>...</td>\n      <td>...</td>\n      <td>...</td>\n      <td>...</td>\n      <td>...</td>\n      <td>...</td>\n    </tr>\n    <tr>\n      <th>136643</th>\n      <td>910920</td>\n      <td>2014</td>\n      <td>1</td>\n      <td>0</td>\n      <td>0</td>\n      <td>0</td>\n      <td>1</td>\n      <td>0</td>\n      <td>NaN</td>\n      <td>0</td>\n      <td>...</td>\n      <td>NaN</td>\n      <td>NaN</td>\n      <td>NaN</td>\n      <td>NaN</td>\n      <td>NaN</td>\n      <td>NaN</td>\n      <td>NaN</td>\n      <td>910</td>\n      <td>920</td>\n      <td>5.1</td>\n    </tr>\n    <tr>\n      <th>136644</th>\n      <td>910920</td>\n      <td>2015</td>\n      <td>1</td>\n      <td>0</td>\n      <td>0</td>\n      <td>0</td>\n      <td>1</td>\n      <td>0</td>\n      <td>NaN</td>\n      <td>0</td>\n      <td>...</td>\n      <td>NaN</td>\n      <td>NaN</td>\n      <td>NaN</td>\n      <td>NaN</td>\n      <td>NaN</td>\n      <td>NaN</td>\n      <td>NaN</td>\n      <td>910</td>\n      <td>920</td>\n      <td>5.1</td>\n    </tr>\n    <tr>\n      <th>136645</th>\n      <td>910920</td>\n      <td>2016</td>\n      <td>1</td>\n      <td>0</td>\n      <td>0</td>\n      <td>0</td>\n      <td>1</td>\n      <td>0</td>\n      <td>NaN</td>\n      <td>0</td>\n      <td>...</td>\n      <td>NaN</td>\n      <td>NaN</td>\n      <td>NaN</td>\n      <td>NaN</td>\n      <td>NaN</td>\n      <td>NaN</td>\n      <td>NaN</td>\n      <td>910</td>\n      <td>920</td>\n      <td>5.1</td>\n    </tr>\n    <tr>\n      <th>136646</th>\n      <td>910920</td>\n      <td>2017</td>\n      <td>1</td>\n      <td>0</td>\n      <td>0</td>\n      <td>0</td>\n      <td>1</td>\n      <td>0</td>\n      <td>NaN</td>\n      <td>0</td>\n      <td>...</td>\n      <td>NaN</td>\n      <td>NaN</td>\n      <td>NaN</td>\n      <td>NaN</td>\n      <td>NaN</td>\n      <td>NaN</td>\n      <td>NaN</td>\n      <td>910</td>\n      <td>920</td>\n      <td>5.1</td>\n    </tr>\n    <tr>\n      <th>136647</th>\n      <td>910920</td>\n      <td>2018</td>\n      <td>1</td>\n      <td>0</td>\n      <td>0</td>\n      <td>0</td>\n      <td>1</td>\n      <td>0</td>\n      <td>NaN</td>\n      <td>0</td>\n      <td>...</td>\n      <td>NaN</td>\n      <td>NaN</td>\n      <td>NaN</td>\n      <td>NaN</td>\n      <td>NaN</td>\n      <td>NaN</td>\n      <td>NaN</td>\n      <td>910</td>\n      <td>920</td>\n      <td>5.1</td>\n    </tr>\n  </tbody>\n</table>\n<p>136648 rows × 26 columns</p>\n</div>"
     },
     "execution_count": 6,
     "metadata": {},
     "output_type": "execute_result"
    }
   ],
   "source": [
    "# dyad column combines both states with using their 3 digit cow codes combined for 6 digits\n",
    "atop_dyad_year.info()\n",
    "atop_dyad_year.head()"
   ],
   "metadata": {
    "collapsed": false
   }
  },
  {
   "cell_type": "code",
   "execution_count": 5,
   "outputs": [
    {
     "data": {
      "text/plain": "dyad             0\nyear             0\natopally         0\ndefense          0\noffense          0\nneutral          0\nnonagg           0\nconsul           0\nshareob     136571\ntransyr          0\nbilatno          0\nmultino          0\nnumber           0\nasymm            0\natopid1          0\natopid2      83211\natopid3     125998\natopid4     133626\natopid5     136326\natopid6     136522\natopid7     136586\natopid8     136623\natopid9     136642\nmem1             0\nmem2             0\nversion          0\ndtype: int64"
     },
     "execution_count": 5,
     "metadata": {},
     "output_type": "execute_result"
    }
   ],
   "source": [
    "atop_dyad_year.isnull().sum()"
   ],
   "metadata": {
    "collapsed": false
   }
  }
 ],
 "metadata": {
  "kernelspec": {
   "display_name": "Python 3",
   "language": "python",
   "name": "python3"
  },
  "language_info": {
   "codemirror_mode": {
    "name": "ipython",
    "version": 2
   },
   "file_extension": ".py",
   "mimetype": "text/x-python",
   "name": "python",
   "nbconvert_exporter": "python",
   "pygments_lexer": "ipython2",
   "version": "2.7.6"
  }
 },
 "nbformat": 4,
 "nbformat_minor": 0
}
