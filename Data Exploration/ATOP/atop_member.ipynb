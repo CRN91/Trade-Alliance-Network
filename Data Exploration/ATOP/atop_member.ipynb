{
 "cells": [
  {
   "cell_type": "code",
   "execution_count": 2,
   "metadata": {
    "collapsed": true
   },
   "outputs": [],
   "source": [
    "import pandas as pd"
   ]
  },
  {
   "cell_type": "code",
   "execution_count": 3,
   "outputs": [],
   "source": [
    "\"\"\"The most comprehensive dataset (including the largest number of variables) is the\n",
    " member level dataset (atop5_1m). The member level dataset includes a separate entry for\n",
    " each alliance member during each phase of each alliance\"\"\"\n",
    "atop_member = pd.read_csv(\"./ATOP_data/atop5_1m.csv\")"
   ],
   "metadata": {
    "collapsed": false
   }
  },
  {
   "cell_type": "code",
   "execution_count": 4,
   "outputs": [
    {
     "name": "stdout",
     "output_type": "stream",
     "text": [
      "<class 'pandas.core.frame.DataFrame'>\n",
      "RangeIndex: 2510 entries, 0 to 2509\n",
      "Columns: 105 entries, atopid to version\n",
      "dtypes: float64(51), int64(54)\n",
      "memory usage: 2.0 MB\n"
     ]
    },
    {
     "data": {
      "text/plain": "   atopid  cowid  cow4id  member  cowsys  yrent  moent  dayent  yrexit  \\\n0    1005    NaN     NaN     200       0   1815      1     3.0    1815   \n1    1005    NaN     NaN     220       0   1815      1     3.0    1815   \n2    1005    NaN     NaN     300       0   1815      1     3.0    1815   \n3    1005    NaN     NaN     245       0   1815      1    13.0    1815   \n4    1005    NaN     NaN     240       0   1815      1    19.0    1815   \n\n   moexit  ...  nomicoop  conres  agprois  conmen  ecaid  interv  source  \\\n0       2  ...       0.0     0.0      0.0     0.0    0.0     0.0       1   \n1       2  ...       0.0     0.0      0.0     0.0    0.0     0.0       1   \n2       2  ...       0.0     0.0      0.0     0.0    0.0     0.0       1   \n3       2  ...       0.0     0.0      0.0     0.0    0.0     0.0       1   \n4       2  ...       0.0     0.0      0.0     0.0    0.0     0.0       1   \n\n   new5  rev5  version  \n0     0     0      5.1  \n1     0     0      5.1  \n2     0     0      5.1  \n3     0     0      5.1  \n4     0     0      5.1  \n\n[5 rows x 105 columns]",
      "text/html": "<div>\n<style scoped>\n    .dataframe tbody tr th:only-of-type {\n        vertical-align: middle;\n    }\n\n    .dataframe tbody tr th {\n        vertical-align: top;\n    }\n\n    .dataframe thead th {\n        text-align: right;\n    }\n</style>\n<table border=\"1\" class=\"dataframe\">\n  <thead>\n    <tr style=\"text-align: right;\">\n      <th></th>\n      <th>atopid</th>\n      <th>cowid</th>\n      <th>cow4id</th>\n      <th>member</th>\n      <th>cowsys</th>\n      <th>yrent</th>\n      <th>moent</th>\n      <th>dayent</th>\n      <th>yrexit</th>\n      <th>moexit</th>\n      <th>...</th>\n      <th>nomicoop</th>\n      <th>conres</th>\n      <th>agprois</th>\n      <th>conmen</th>\n      <th>ecaid</th>\n      <th>interv</th>\n      <th>source</th>\n      <th>new5</th>\n      <th>rev5</th>\n      <th>version</th>\n    </tr>\n  </thead>\n  <tbody>\n    <tr>\n      <th>0</th>\n      <td>1005</td>\n      <td>NaN</td>\n      <td>NaN</td>\n      <td>200</td>\n      <td>0</td>\n      <td>1815</td>\n      <td>1</td>\n      <td>3.0</td>\n      <td>1815</td>\n      <td>2</td>\n      <td>...</td>\n      <td>0.0</td>\n      <td>0.0</td>\n      <td>0.0</td>\n      <td>0.0</td>\n      <td>0.0</td>\n      <td>0.0</td>\n      <td>1</td>\n      <td>0</td>\n      <td>0</td>\n      <td>5.1</td>\n    </tr>\n    <tr>\n      <th>1</th>\n      <td>1005</td>\n      <td>NaN</td>\n      <td>NaN</td>\n      <td>220</td>\n      <td>0</td>\n      <td>1815</td>\n      <td>1</td>\n      <td>3.0</td>\n      <td>1815</td>\n      <td>2</td>\n      <td>...</td>\n      <td>0.0</td>\n      <td>0.0</td>\n      <td>0.0</td>\n      <td>0.0</td>\n      <td>0.0</td>\n      <td>0.0</td>\n      <td>1</td>\n      <td>0</td>\n      <td>0</td>\n      <td>5.1</td>\n    </tr>\n    <tr>\n      <th>2</th>\n      <td>1005</td>\n      <td>NaN</td>\n      <td>NaN</td>\n      <td>300</td>\n      <td>0</td>\n      <td>1815</td>\n      <td>1</td>\n      <td>3.0</td>\n      <td>1815</td>\n      <td>2</td>\n      <td>...</td>\n      <td>0.0</td>\n      <td>0.0</td>\n      <td>0.0</td>\n      <td>0.0</td>\n      <td>0.0</td>\n      <td>0.0</td>\n      <td>1</td>\n      <td>0</td>\n      <td>0</td>\n      <td>5.1</td>\n    </tr>\n    <tr>\n      <th>3</th>\n      <td>1005</td>\n      <td>NaN</td>\n      <td>NaN</td>\n      <td>245</td>\n      <td>0</td>\n      <td>1815</td>\n      <td>1</td>\n      <td>13.0</td>\n      <td>1815</td>\n      <td>2</td>\n      <td>...</td>\n      <td>0.0</td>\n      <td>0.0</td>\n      <td>0.0</td>\n      <td>0.0</td>\n      <td>0.0</td>\n      <td>0.0</td>\n      <td>1</td>\n      <td>0</td>\n      <td>0</td>\n      <td>5.1</td>\n    </tr>\n    <tr>\n      <th>4</th>\n      <td>1005</td>\n      <td>NaN</td>\n      <td>NaN</td>\n      <td>240</td>\n      <td>0</td>\n      <td>1815</td>\n      <td>1</td>\n      <td>19.0</td>\n      <td>1815</td>\n      <td>2</td>\n      <td>...</td>\n      <td>0.0</td>\n      <td>0.0</td>\n      <td>0.0</td>\n      <td>0.0</td>\n      <td>0.0</td>\n      <td>0.0</td>\n      <td>1</td>\n      <td>0</td>\n      <td>0</td>\n      <td>5.1</td>\n    </tr>\n  </tbody>\n</table>\n<p>5 rows × 105 columns</p>\n</div>"
     },
     "execution_count": 4,
     "metadata": {},
     "output_type": "execute_result"
    }
   ],
   "source": [
    "atop_member.info()\n",
    "atop_member.head()"
   ],
   "metadata": {
    "collapsed": false
   }
  },
  {
   "cell_type": "code",
   "execution_count": 5,
   "outputs": [
    {
     "data": {
      "text/plain": "atopid        0\ncowid      1450\ncow4id     1271\nmember        0\ncowsys        0\n           ... \ninterv       36\nsource        0\nnew5          0\nrev5          0\nversion       0\nLength: 105, dtype: int64"
     },
     "execution_count": 5,
     "metadata": {},
     "output_type": "execute_result"
    }
   ],
   "source": [
    "atop_member.isnull().sum()"
   ],
   "metadata": {
    "collapsed": false
   }
  },
  {
   "cell_type": "code",
   "execution_count": 7,
   "outputs": [
    {
     "data": {
      "text/plain": "Empty DataFrame\nColumns: [atopid, cowid, cow4id, member, cowsys, yrent, moent, dayent, yrexit, moexit, dayexit, ineffect, bilat, phase, maxphase, wartime, cowwar, estmode, pubsecr, secrart, proadd, futmem, speclgth, length, renounce, proren, renewlgt, term, termmode, termcaus, defense, offense, neutral, nonagg, consul, active, conditio, defcon, offcon, neucon, concon, defcoadv, defcoloc, defcocon, defconum, defcodem, defconpr, offcoadv, offcoloc, offcocon, offconum, offcodem, neucoadv, neucoloc, neucocon, neuconum, neucodem, neuconpr, neucoatt, concoadv, concoloc, concocon, concoreq, olimob, asymm, obvary, notaiden, dipaid, terrres, seppeace, thirdcom, noothall, specthrt, statthr1, statthr2, conwtin, medarb, milcon, milaid, intcom, subord, organ1, orgpurp1, organ2, orgpurp2, base, contrib, armred, acqterr, divgains, demwith, reflnun, refothio, natrefal, compag, nomicoop, conres, agprois, conmen, ecaid, ...]\nIndex: []\n\n[0 rows x 105 columns]",
      "text/html": "<div>\n<style scoped>\n    .dataframe tbody tr th:only-of-type {\n        vertical-align: middle;\n    }\n\n    .dataframe tbody tr th {\n        vertical-align: top;\n    }\n\n    .dataframe thead th {\n        text-align: right;\n    }\n</style>\n<table border=\"1\" class=\"dataframe\">\n  <thead>\n    <tr style=\"text-align: right;\">\n      <th></th>\n      <th>atopid</th>\n      <th>cowid</th>\n      <th>cow4id</th>\n      <th>member</th>\n      <th>cowsys</th>\n      <th>yrent</th>\n      <th>moent</th>\n      <th>dayent</th>\n      <th>yrexit</th>\n      <th>moexit</th>\n      <th>...</th>\n      <th>nomicoop</th>\n      <th>conres</th>\n      <th>agprois</th>\n      <th>conmen</th>\n      <th>ecaid</th>\n      <th>interv</th>\n      <th>source</th>\n      <th>new5</th>\n      <th>rev5</th>\n      <th>version</th>\n    </tr>\n  </thead>\n  <tbody>\n  </tbody>\n</table>\n<p>0 rows × 105 columns</p>\n</div>"
     },
     "execution_count": 7,
     "metadata": {},
     "output_type": "execute_result"
    }
   ],
   "source": [
    "atop_member[atop_member['member'] == 34]"
   ],
   "metadata": {
    "collapsed": false
   }
  },
  {
   "cell_type": "code",
   "execution_count": null,
   "outputs": [],
   "source": [],
   "metadata": {
    "collapsed": false
   }
  }
 ],
 "metadata": {
  "kernelspec": {
   "display_name": "Python 3",
   "language": "python",
   "name": "python3"
  },
  "language_info": {
   "codemirror_mode": {
    "name": "ipython",
    "version": 2
   },
   "file_extension": ".py",
   "mimetype": "text/x-python",
   "name": "python",
   "nbconvert_exporter": "python",
   "pygments_lexer": "ipython2",
   "version": "2.7.6"
  }
 },
 "nbformat": 4,
 "nbformat_minor": 0
}
