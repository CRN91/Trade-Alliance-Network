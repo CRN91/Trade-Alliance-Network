{
 "cells": [
  {
   "cell_type": "code",
   "execution_count": 1,
   "metadata": {
    "collapsed": true
   },
   "outputs": [],
   "source": [
    "import pandas as pd\n",
    "import matplotlib.pyplot as plt\n",
    "import plotly.express as px"
   ]
  },
  {
   "cell_type": "code",
   "execution_count": 2,
   "outputs": [],
   "source": [
    "\"\"\"Provides information about the commitments made by one state to a specific\n",
    "dyadic partner in a given year. When alliance obligations are asymmetric, the dyad-year and\n",
    "directed dyad-year data differ\"\"\"\n",
    "atop_directed_year = pd.read_csv(\"./ATOP_data/atop5_1ddyr.csv\")"
   ],
   "metadata": {
    "collapsed": false
   }
  },
  {
   "cell_type": "code",
   "execution_count": 3,
   "outputs": [
    {
     "data": {
      "text/plain": "' Extra columns\\n\\nddyad: two cow codes of dyad combined together\\natopally: 1 if they share an alliance (1 for all columns in this dataset)\\nshareob: 1 if they have no obligations to each other\\ntransyr: 1 if alliance starts and ends in the given year\\nbiatno: total number of bi-lateral alliances for this directed dyad in the given year\\nmultino: total number of multi-lateral alliances for this directed dyad in the given year\\nnumber: total number of alliances for this directed dyad in the given year\\nstateA: cow codes of the states\\nstateB: cow codes of the states\\n'"
     },
     "execution_count": 3,
     "metadata": {},
     "output_type": "execute_result"
    }
   ],
   "source": [
    "\"\"\" Extra columns\n",
    "\n",
    "ddyad: two cow codes of dyad combined together\n",
    "atopally: 1 if they share an alliance (1 for all columns in this dataset)\n",
    "shareob: 1 if they have no obligations to each other\n",
    "transyr: 1 if alliance starts and ends in the given year\n",
    "biatno: total number of bi-lateral alliances for this directed dyad in the given year\n",
    "multino: total number of multi-lateral alliances for this directed dyad in the given year\n",
    "number: total number of alliances for this directed dyad in the given year\n",
    "stateA: cow codes of the states\n",
    "stateB: cow codes of the states\n",
    "\"\"\""
   ],
   "metadata": {
    "collapsed": false
   }
  },
  {
   "cell_type": "code",
   "execution_count": 4,
   "outputs": [
    {
     "name": "stdout",
     "output_type": "stream",
     "text": [
      "<class 'pandas.core.frame.DataFrame'>\n",
      "RangeIndex: 273296 entries, 0 to 273295\n",
      "Data columns (total 26 columns):\n",
      " #   Column    Non-Null Count   Dtype  \n",
      "---  ------    --------------   -----  \n",
      " 0   ddyad     273296 non-null  int64  \n",
      " 1   year      273296 non-null  int64  \n",
      " 2   atopally  273296 non-null  int64  \n",
      " 3   defense   273296 non-null  int64  \n",
      " 4   offense   273296 non-null  int64  \n",
      " 5   neutral   273296 non-null  int64  \n",
      " 6   nonagg    273296 non-null  int64  \n",
      " 7   consul    273296 non-null  int64  \n",
      " 8   shareob   258 non-null     float64\n",
      " 9   transyr   273296 non-null  int64  \n",
      " 10  bilatno   273296 non-null  int64  \n",
      " 11  multino   273296 non-null  int64  \n",
      " 12  number    273296 non-null  int64  \n",
      " 13  asymm     273296 non-null  int64  \n",
      " 14  atopid1   273296 non-null  int64  \n",
      " 15  atopid2   106874 non-null  float64\n",
      " 16  atopid3   21300 non-null   float64\n",
      " 17  atopid4   6044 non-null    float64\n",
      " 18  atopid5   644 non-null     float64\n",
      " 19  atopid6   252 non-null     float64\n",
      " 20  atopid7   124 non-null     float64\n",
      " 21  atopid8   50 non-null      float64\n",
      " 22  atopid9   12 non-null      float64\n",
      " 23  stateA    273296 non-null  int64  \n",
      " 24  stateB    273296 non-null  int64  \n",
      " 25  version   273296 non-null  float64\n",
      "dtypes: float64(10), int64(16)\n",
      "memory usage: 54.2 MB\n"
     ]
    },
    {
     "data": {
      "text/plain": "   ddyad  year  atopally  defense  offense  neutral  nonagg  consul  shareob  \\\n0   2020  1942         1        1        1        0       0       0      NaN   \n1   2020  1943         1        1        1        0       0       0      NaN   \n2   2020  1944         1        1        1        0       0       0      NaN   \n3   2020  1945         1        1        1        0       0       0      NaN   \n4   2020  1949         1        1        0        0       1       1      NaN   \n\n   transyr  ...  atopid3  atopid4  atopid5  atopid6  atopid7  atopid8  \\\n0        1  ...      NaN      NaN      NaN      NaN      NaN      NaN   \n1        0  ...      NaN      NaN      NaN      NaN      NaN      NaN   \n2        0  ...      NaN      NaN      NaN      NaN      NaN      NaN   \n3        1  ...      NaN      NaN      NaN      NaN      NaN      NaN   \n4        1  ...      NaN      NaN      NaN      NaN      NaN      NaN   \n\n   atopid9  stateA  stateB  version  \n0      NaN       2      20      5.1  \n1      NaN       2      20      5.1  \n2      NaN       2      20      5.1  \n3      NaN       2      20      5.1  \n4      NaN       2      20      5.1  \n\n[5 rows x 26 columns]",
      "text/html": "<div>\n<style scoped>\n    .dataframe tbody tr th:only-of-type {\n        vertical-align: middle;\n    }\n\n    .dataframe tbody tr th {\n        vertical-align: top;\n    }\n\n    .dataframe thead th {\n        text-align: right;\n    }\n</style>\n<table border=\"1\" class=\"dataframe\">\n  <thead>\n    <tr style=\"text-align: right;\">\n      <th></th>\n      <th>ddyad</th>\n      <th>year</th>\n      <th>atopally</th>\n      <th>defense</th>\n      <th>offense</th>\n      <th>neutral</th>\n      <th>nonagg</th>\n      <th>consul</th>\n      <th>shareob</th>\n      <th>transyr</th>\n      <th>...</th>\n      <th>atopid3</th>\n      <th>atopid4</th>\n      <th>atopid5</th>\n      <th>atopid6</th>\n      <th>atopid7</th>\n      <th>atopid8</th>\n      <th>atopid9</th>\n      <th>stateA</th>\n      <th>stateB</th>\n      <th>version</th>\n    </tr>\n  </thead>\n  <tbody>\n    <tr>\n      <th>0</th>\n      <td>2020</td>\n      <td>1942</td>\n      <td>1</td>\n      <td>1</td>\n      <td>1</td>\n      <td>0</td>\n      <td>0</td>\n      <td>0</td>\n      <td>NaN</td>\n      <td>1</td>\n      <td>...</td>\n      <td>NaN</td>\n      <td>NaN</td>\n      <td>NaN</td>\n      <td>NaN</td>\n      <td>NaN</td>\n      <td>NaN</td>\n      <td>NaN</td>\n      <td>2</td>\n      <td>20</td>\n      <td>5.1</td>\n    </tr>\n    <tr>\n      <th>1</th>\n      <td>2020</td>\n      <td>1943</td>\n      <td>1</td>\n      <td>1</td>\n      <td>1</td>\n      <td>0</td>\n      <td>0</td>\n      <td>0</td>\n      <td>NaN</td>\n      <td>0</td>\n      <td>...</td>\n      <td>NaN</td>\n      <td>NaN</td>\n      <td>NaN</td>\n      <td>NaN</td>\n      <td>NaN</td>\n      <td>NaN</td>\n      <td>NaN</td>\n      <td>2</td>\n      <td>20</td>\n      <td>5.1</td>\n    </tr>\n    <tr>\n      <th>2</th>\n      <td>2020</td>\n      <td>1944</td>\n      <td>1</td>\n      <td>1</td>\n      <td>1</td>\n      <td>0</td>\n      <td>0</td>\n      <td>0</td>\n      <td>NaN</td>\n      <td>0</td>\n      <td>...</td>\n      <td>NaN</td>\n      <td>NaN</td>\n      <td>NaN</td>\n      <td>NaN</td>\n      <td>NaN</td>\n      <td>NaN</td>\n      <td>NaN</td>\n      <td>2</td>\n      <td>20</td>\n      <td>5.1</td>\n    </tr>\n    <tr>\n      <th>3</th>\n      <td>2020</td>\n      <td>1945</td>\n      <td>1</td>\n      <td>1</td>\n      <td>1</td>\n      <td>0</td>\n      <td>0</td>\n      <td>0</td>\n      <td>NaN</td>\n      <td>1</td>\n      <td>...</td>\n      <td>NaN</td>\n      <td>NaN</td>\n      <td>NaN</td>\n      <td>NaN</td>\n      <td>NaN</td>\n      <td>NaN</td>\n      <td>NaN</td>\n      <td>2</td>\n      <td>20</td>\n      <td>5.1</td>\n    </tr>\n    <tr>\n      <th>4</th>\n      <td>2020</td>\n      <td>1949</td>\n      <td>1</td>\n      <td>1</td>\n      <td>0</td>\n      <td>0</td>\n      <td>1</td>\n      <td>1</td>\n      <td>NaN</td>\n      <td>1</td>\n      <td>...</td>\n      <td>NaN</td>\n      <td>NaN</td>\n      <td>NaN</td>\n      <td>NaN</td>\n      <td>NaN</td>\n      <td>NaN</td>\n      <td>NaN</td>\n      <td>2</td>\n      <td>20</td>\n      <td>5.1</td>\n    </tr>\n  </tbody>\n</table>\n<p>5 rows × 26 columns</p>\n</div>"
     },
     "execution_count": 4,
     "metadata": {},
     "output_type": "execute_result"
    }
   ],
   "source": [
    "atop_directed_year.info()\n",
    "atop_directed_year.head()"
   ],
   "metadata": {
    "collapsed": false
   }
  },
  {
   "cell_type": "code",
   "execution_count": 5,
   "outputs": [
    {
     "data": {
      "text/plain": "ddyad            0\nyear             0\natopally         0\ndefense          0\noffense          0\nneutral          0\nnonagg           0\nconsul           0\nshareob     273038\ntransyr          0\nbilatno          0\nmultino          0\nnumber           0\nasymm            0\natopid1          0\natopid2     166422\natopid3     251996\natopid4     267252\natopid5     272652\natopid6     273044\natopid7     273172\natopid8     273246\natopid9     273284\nstateA           0\nstateB           0\nversion          0\ndtype: int64"
     },
     "execution_count": 5,
     "metadata": {},
     "output_type": "execute_result"
    }
   ],
   "source": [
    "atop_directed_year.isnull().sum()"
   ],
   "metadata": {
    "collapsed": false
   }
  },
  {
   "cell_type": "code",
   "execution_count": 6,
   "outputs": [
    {
     "name": "stdout",
     "output_type": "stream",
     "text": [
      "There are 207 states in the dataset\n"
     ]
    }
   ],
   "source": [
    "\"\"\"Number of states\"\"\"\n",
    "print(f\"There are {pd.concat([atop_directed_year['stateA'],atop_directed_year['stateB']]).nunique()} states in the dataset\")"
   ],
   "metadata": {
    "collapsed": false
   }
  },
  {
   "cell_type": "code",
   "execution_count": 7,
   "outputs": [],
   "source": [
    "# Condensing atopid columns 1 to 9 into a single column as a list\n",
    "atopids = [f'atopid{i}' for i in range(1, 10)]\n",
    "\n",
    "# Combining into a list\n",
    "atop_directed_year['atopids'] = atop_directed_year[atopids].apply(lambda x: x.dropna().to_list(), axis=1)\n",
    "\n",
    "# Dropping the original columns\n",
    "atop_directed_year.drop(atopids, axis=1, inplace=True)"
   ],
   "metadata": {
    "collapsed": false
   }
  },
  {
   "cell_type": "code",
   "execution_count": 8,
   "outputs": [
    {
     "data": {
      "text/plain": "                     state_nameA state_nameB  year  atopally  defense  \\\n0       United States of America      Canada  1942         1        1   \n1       United States of America      Canada  1943         1        1   \n2       United States of America      Canada  1944         1        1   \n3       United States of America      Canada  1945         1        1   \n4       United States of America      Canada  1949         1        1   \n...                          ...         ...   ...       ...      ...   \n273291                     Samoa       China  2014         1        0   \n273292                     Samoa       China  2015         1        0   \n273293                     Samoa       China  2016         1        0   \n273294                     Samoa       China  2017         1        0   \n273295                     Samoa       China  2018         1        0   \n\n        offense  neutral  nonagg  consul  shareob  transyr  bilatno  multino  \\\n0             1        0       0       0      NaN        1        0        1   \n1             1        0       0       0      NaN        0        0        1   \n2             1        0       0       0      NaN        0        0        1   \n3             1        0       0       0      NaN        1        0        1   \n4             0        0       1       1      NaN        1        0        1   \n...         ...      ...     ...     ...      ...      ...      ...      ...   \n273291        0        0       1       0      NaN        0        1        0   \n273292        0        0       1       0      NaN        0        1        0   \n273293        0        0       1       0      NaN        0        1        0   \n273294        0        0       1       0      NaN        0        1        0   \n273295        0        0       1       0      NaN        0        1        0   \n\n        number  asymm  stateA  stateB  version   atopids  \n0            1      0       2      20      5.1  [2550.0]  \n1            1      0       2      20      5.1  [2550.0]  \n2            1      0       2      20      5.1  [2550.0]  \n3            1      0       2      20      5.1  [2550.0]  \n4            1      0       2      20      5.1  [3180.0]  \n...        ...    ...     ...     ...      ...       ...  \n273291       1      0     990     710      5.1  [3746.0]  \n273292       1      0     990     710      5.1  [3746.0]  \n273293       1      0     990     710      5.1  [3746.0]  \n273294       1      0     990     710      5.1  [3746.0]  \n273295       1      0     990     710      5.1  [3746.0]  \n\n[273296 rows x 19 columns]",
      "text/html": "<div>\n<style scoped>\n    .dataframe tbody tr th:only-of-type {\n        vertical-align: middle;\n    }\n\n    .dataframe tbody tr th {\n        vertical-align: top;\n    }\n\n    .dataframe thead th {\n        text-align: right;\n    }\n</style>\n<table border=\"1\" class=\"dataframe\">\n  <thead>\n    <tr style=\"text-align: right;\">\n      <th></th>\n      <th>state_nameA</th>\n      <th>state_nameB</th>\n      <th>year</th>\n      <th>atopally</th>\n      <th>defense</th>\n      <th>offense</th>\n      <th>neutral</th>\n      <th>nonagg</th>\n      <th>consul</th>\n      <th>shareob</th>\n      <th>transyr</th>\n      <th>bilatno</th>\n      <th>multino</th>\n      <th>number</th>\n      <th>asymm</th>\n      <th>stateA</th>\n      <th>stateB</th>\n      <th>version</th>\n      <th>atopids</th>\n    </tr>\n  </thead>\n  <tbody>\n    <tr>\n      <th>0</th>\n      <td>United States of America</td>\n      <td>Canada</td>\n      <td>1942</td>\n      <td>1</td>\n      <td>1</td>\n      <td>1</td>\n      <td>0</td>\n      <td>0</td>\n      <td>0</td>\n      <td>NaN</td>\n      <td>1</td>\n      <td>0</td>\n      <td>1</td>\n      <td>1</td>\n      <td>0</td>\n      <td>2</td>\n      <td>20</td>\n      <td>5.1</td>\n      <td>[2550.0]</td>\n    </tr>\n    <tr>\n      <th>1</th>\n      <td>United States of America</td>\n      <td>Canada</td>\n      <td>1943</td>\n      <td>1</td>\n      <td>1</td>\n      <td>1</td>\n      <td>0</td>\n      <td>0</td>\n      <td>0</td>\n      <td>NaN</td>\n      <td>0</td>\n      <td>0</td>\n      <td>1</td>\n      <td>1</td>\n      <td>0</td>\n      <td>2</td>\n      <td>20</td>\n      <td>5.1</td>\n      <td>[2550.0]</td>\n    </tr>\n    <tr>\n      <th>2</th>\n      <td>United States of America</td>\n      <td>Canada</td>\n      <td>1944</td>\n      <td>1</td>\n      <td>1</td>\n      <td>1</td>\n      <td>0</td>\n      <td>0</td>\n      <td>0</td>\n      <td>NaN</td>\n      <td>0</td>\n      <td>0</td>\n      <td>1</td>\n      <td>1</td>\n      <td>0</td>\n      <td>2</td>\n      <td>20</td>\n      <td>5.1</td>\n      <td>[2550.0]</td>\n    </tr>\n    <tr>\n      <th>3</th>\n      <td>United States of America</td>\n      <td>Canada</td>\n      <td>1945</td>\n      <td>1</td>\n      <td>1</td>\n      <td>1</td>\n      <td>0</td>\n      <td>0</td>\n      <td>0</td>\n      <td>NaN</td>\n      <td>1</td>\n      <td>0</td>\n      <td>1</td>\n      <td>1</td>\n      <td>0</td>\n      <td>2</td>\n      <td>20</td>\n      <td>5.1</td>\n      <td>[2550.0]</td>\n    </tr>\n    <tr>\n      <th>4</th>\n      <td>United States of America</td>\n      <td>Canada</td>\n      <td>1949</td>\n      <td>1</td>\n      <td>1</td>\n      <td>0</td>\n      <td>0</td>\n      <td>1</td>\n      <td>1</td>\n      <td>NaN</td>\n      <td>1</td>\n      <td>0</td>\n      <td>1</td>\n      <td>1</td>\n      <td>0</td>\n      <td>2</td>\n      <td>20</td>\n      <td>5.1</td>\n      <td>[3180.0]</td>\n    </tr>\n    <tr>\n      <th>...</th>\n      <td>...</td>\n      <td>...</td>\n      <td>...</td>\n      <td>...</td>\n      <td>...</td>\n      <td>...</td>\n      <td>...</td>\n      <td>...</td>\n      <td>...</td>\n      <td>...</td>\n      <td>...</td>\n      <td>...</td>\n      <td>...</td>\n      <td>...</td>\n      <td>...</td>\n      <td>...</td>\n      <td>...</td>\n      <td>...</td>\n      <td>...</td>\n    </tr>\n    <tr>\n      <th>273291</th>\n      <td>Samoa</td>\n      <td>China</td>\n      <td>2014</td>\n      <td>1</td>\n      <td>0</td>\n      <td>0</td>\n      <td>0</td>\n      <td>1</td>\n      <td>0</td>\n      <td>NaN</td>\n      <td>0</td>\n      <td>1</td>\n      <td>0</td>\n      <td>1</td>\n      <td>0</td>\n      <td>990</td>\n      <td>710</td>\n      <td>5.1</td>\n      <td>[3746.0]</td>\n    </tr>\n    <tr>\n      <th>273292</th>\n      <td>Samoa</td>\n      <td>China</td>\n      <td>2015</td>\n      <td>1</td>\n      <td>0</td>\n      <td>0</td>\n      <td>0</td>\n      <td>1</td>\n      <td>0</td>\n      <td>NaN</td>\n      <td>0</td>\n      <td>1</td>\n      <td>0</td>\n      <td>1</td>\n      <td>0</td>\n      <td>990</td>\n      <td>710</td>\n      <td>5.1</td>\n      <td>[3746.0]</td>\n    </tr>\n    <tr>\n      <th>273293</th>\n      <td>Samoa</td>\n      <td>China</td>\n      <td>2016</td>\n      <td>1</td>\n      <td>0</td>\n      <td>0</td>\n      <td>0</td>\n      <td>1</td>\n      <td>0</td>\n      <td>NaN</td>\n      <td>0</td>\n      <td>1</td>\n      <td>0</td>\n      <td>1</td>\n      <td>0</td>\n      <td>990</td>\n      <td>710</td>\n      <td>5.1</td>\n      <td>[3746.0]</td>\n    </tr>\n    <tr>\n      <th>273294</th>\n      <td>Samoa</td>\n      <td>China</td>\n      <td>2017</td>\n      <td>1</td>\n      <td>0</td>\n      <td>0</td>\n      <td>0</td>\n      <td>1</td>\n      <td>0</td>\n      <td>NaN</td>\n      <td>0</td>\n      <td>1</td>\n      <td>0</td>\n      <td>1</td>\n      <td>0</td>\n      <td>990</td>\n      <td>710</td>\n      <td>5.1</td>\n      <td>[3746.0]</td>\n    </tr>\n    <tr>\n      <th>273295</th>\n      <td>Samoa</td>\n      <td>China</td>\n      <td>2018</td>\n      <td>1</td>\n      <td>0</td>\n      <td>0</td>\n      <td>0</td>\n      <td>1</td>\n      <td>0</td>\n      <td>NaN</td>\n      <td>0</td>\n      <td>1</td>\n      <td>0</td>\n      <td>1</td>\n      <td>0</td>\n      <td>990</td>\n      <td>710</td>\n      <td>5.1</td>\n      <td>[3746.0]</td>\n    </tr>\n  </tbody>\n</table>\n<p>273296 rows × 19 columns</p>\n</div>"
     },
     "execution_count": 8,
     "metadata": {},
     "output_type": "execute_result"
    }
   ],
   "source": [
    "\"\"\"Separating 'ddyad' into 2 columns 'state_nameA' & 'state_nameB' \"\"\"\n",
    "\n",
    "# Adding ccodes redundant as we have stateA and stateB\n",
    "#atop_directed_year['ccode1'] = (atop_directed_year['ddyad'] // 1000)\n",
    "#atop_directed_year['ccode2'] = (atop_directed_year['ddyad'] % 1000)\n",
    "\n",
    "# Loading in COW codes\n",
    "cow_df = pd.read_csv(\"../COW/COW_data/COW-country-codes.csv\")\n",
    "# CCode to state name series\n",
    "name_series = pd.Series(cow_df['StateNme'].unique())\n",
    "name_series.index = cow_df['CCode'].unique()\n",
    "\n",
    "# Mapping the COW codes to the state names for my own sanity\n",
    "\n",
    "for i in range(len(atop_directed_year['stateA'])):\n",
    "    atop_directed_year.at[i, 'state_nameA'] = name_series[atop_directed_year.at[i, 'stateA']]\n",
    "    atop_directed_year.at[i, 'state_nameB'] = name_series[atop_directed_year.at[i, 'stateB']]\n",
    "\n",
    "# Reordering\n",
    "atop_columns = list(atop_directed_year.columns)\n",
    "atop_columns.remove('state_nameA')\n",
    "atop_columns.remove('state_nameB')\n",
    "atop_columns.insert(1, 'state_nameA')\n",
    "atop_columns.insert(2, 'state_nameB')\n",
    "\n",
    "\n",
    "atop_directed_year = atop_directed_year[atop_columns]\n",
    "\n",
    "# Dropping now obsolete ddyad column\n",
    "atop_directed_year.drop('ddyad', axis=1, inplace=True)\n",
    "atop_directed_year"
   ],
   "metadata": {
    "collapsed": false
   }
  },
  {
   "cell_type": "code",
   "execution_count": 9,
   "outputs": [
    {
     "data": {
      "text/plain": "['ddyad',\n 'state_nameA',\n 'state_nameB',\n 'year',\n 'atopally',\n 'defense',\n 'offense',\n 'neutral',\n 'nonagg',\n 'consul',\n 'shareob',\n 'transyr',\n 'bilatno',\n 'multino',\n 'number',\n 'asymm',\n 'stateA',\n 'stateB',\n 'version',\n 'atopids']"
     },
     "execution_count": 9,
     "metadata": {},
     "output_type": "execute_result"
    }
   ],
   "source": [
    "atop_columns"
   ],
   "metadata": {
    "collapsed": false
   }
  },
  {
   "cell_type": "code",
   "execution_count": 10,
   "outputs": [
    {
     "data": {
      "text/plain": "       state_nameA state_nameB  year  atopally  defense  offense  neutral  \\\n203830    Djibouti      France  1977         1        0        0        0   \n203831    Djibouti      France  1978         1        0        0        0   \n203832    Djibouti      France  1979         1        0        0        0   \n203833    Djibouti      France  1980         1        0        0        0   \n203834    Djibouti      France  1981         1        0        0        0   \n...            ...         ...   ...       ...      ...      ...      ...   \n205500    Djibouti        Oman  2014         1        1        0        0   \n205501    Djibouti        Oman  2015         1        1        0        0   \n205502    Djibouti        Oman  2016         1        1        0        0   \n205503    Djibouti        Oman  2017         1        1        0        0   \n205504    Djibouti        Oman  2018         1        1        0        0   \n\n        nonagg  consul  shareob  transyr  bilatno  multino  number  asymm  \\\n203830       0       0      NaN        1        1        0       1      1   \n203831       0       0      NaN        0        1        0       1      1   \n203832       0       0      NaN        0        1        0       1      1   \n203833       0       0      NaN        0        1        0       1      1   \n203834       0       0      NaN        0        1        0       1      1   \n...        ...     ...      ...      ...      ...      ...     ...    ...   \n205500       1       1      NaN        0        0        2       2      0   \n205501       1       1      NaN        0        0        2       2      0   \n205502       1       1      NaN        0        0        2       2      0   \n205503       1       1      NaN        0        0        2       2      0   \n205504       1       1      NaN        0        0        2       2      0   \n\n        stateA  stateB  version           atopids  \n203830     522     220      5.1          [3790.0]  \n203831     522     220      5.1          [3790.0]  \n203832     522     220      5.1          [3790.0]  \n203833     522     220      5.1          [3790.0]  \n203834     522     220      5.1          [3790.0]  \n...        ...     ...      ...               ...  \n205500     522     698      5.1  [3015.0, 3205.0]  \n205501     522     698      5.1  [3015.0, 3205.0]  \n205502     522     698      5.1  [3015.0, 3205.0]  \n205503     522     698      5.1  [3015.0, 3205.0]  \n205504     522     698      5.1  [3015.0, 3205.0]  \n\n[1675 rows x 19 columns]",
      "text/html": "<div>\n<style scoped>\n    .dataframe tbody tr th:only-of-type {\n        vertical-align: middle;\n    }\n\n    .dataframe tbody tr th {\n        vertical-align: top;\n    }\n\n    .dataframe thead th {\n        text-align: right;\n    }\n</style>\n<table border=\"1\" class=\"dataframe\">\n  <thead>\n    <tr style=\"text-align: right;\">\n      <th></th>\n      <th>state_nameA</th>\n      <th>state_nameB</th>\n      <th>year</th>\n      <th>atopally</th>\n      <th>defense</th>\n      <th>offense</th>\n      <th>neutral</th>\n      <th>nonagg</th>\n      <th>consul</th>\n      <th>shareob</th>\n      <th>transyr</th>\n      <th>bilatno</th>\n      <th>multino</th>\n      <th>number</th>\n      <th>asymm</th>\n      <th>stateA</th>\n      <th>stateB</th>\n      <th>version</th>\n      <th>atopids</th>\n    </tr>\n  </thead>\n  <tbody>\n    <tr>\n      <th>203830</th>\n      <td>Djibouti</td>\n      <td>France</td>\n      <td>1977</td>\n      <td>1</td>\n      <td>0</td>\n      <td>0</td>\n      <td>0</td>\n      <td>0</td>\n      <td>0</td>\n      <td>NaN</td>\n      <td>1</td>\n      <td>1</td>\n      <td>0</td>\n      <td>1</td>\n      <td>1</td>\n      <td>522</td>\n      <td>220</td>\n      <td>5.1</td>\n      <td>[3790.0]</td>\n    </tr>\n    <tr>\n      <th>203831</th>\n      <td>Djibouti</td>\n      <td>France</td>\n      <td>1978</td>\n      <td>1</td>\n      <td>0</td>\n      <td>0</td>\n      <td>0</td>\n      <td>0</td>\n      <td>0</td>\n      <td>NaN</td>\n      <td>0</td>\n      <td>1</td>\n      <td>0</td>\n      <td>1</td>\n      <td>1</td>\n      <td>522</td>\n      <td>220</td>\n      <td>5.1</td>\n      <td>[3790.0]</td>\n    </tr>\n    <tr>\n      <th>203832</th>\n      <td>Djibouti</td>\n      <td>France</td>\n      <td>1979</td>\n      <td>1</td>\n      <td>0</td>\n      <td>0</td>\n      <td>0</td>\n      <td>0</td>\n      <td>0</td>\n      <td>NaN</td>\n      <td>0</td>\n      <td>1</td>\n      <td>0</td>\n      <td>1</td>\n      <td>1</td>\n      <td>522</td>\n      <td>220</td>\n      <td>5.1</td>\n      <td>[3790.0]</td>\n    </tr>\n    <tr>\n      <th>203833</th>\n      <td>Djibouti</td>\n      <td>France</td>\n      <td>1980</td>\n      <td>1</td>\n      <td>0</td>\n      <td>0</td>\n      <td>0</td>\n      <td>0</td>\n      <td>0</td>\n      <td>NaN</td>\n      <td>0</td>\n      <td>1</td>\n      <td>0</td>\n      <td>1</td>\n      <td>1</td>\n      <td>522</td>\n      <td>220</td>\n      <td>5.1</td>\n      <td>[3790.0]</td>\n    </tr>\n    <tr>\n      <th>203834</th>\n      <td>Djibouti</td>\n      <td>France</td>\n      <td>1981</td>\n      <td>1</td>\n      <td>0</td>\n      <td>0</td>\n      <td>0</td>\n      <td>0</td>\n      <td>0</td>\n      <td>NaN</td>\n      <td>0</td>\n      <td>1</td>\n      <td>0</td>\n      <td>1</td>\n      <td>1</td>\n      <td>522</td>\n      <td>220</td>\n      <td>5.1</td>\n      <td>[3790.0]</td>\n    </tr>\n    <tr>\n      <th>...</th>\n      <td>...</td>\n      <td>...</td>\n      <td>...</td>\n      <td>...</td>\n      <td>...</td>\n      <td>...</td>\n      <td>...</td>\n      <td>...</td>\n      <td>...</td>\n      <td>...</td>\n      <td>...</td>\n      <td>...</td>\n      <td>...</td>\n      <td>...</td>\n      <td>...</td>\n      <td>...</td>\n      <td>...</td>\n      <td>...</td>\n      <td>...</td>\n    </tr>\n    <tr>\n      <th>205500</th>\n      <td>Djibouti</td>\n      <td>Oman</td>\n      <td>2014</td>\n      <td>1</td>\n      <td>1</td>\n      <td>0</td>\n      <td>0</td>\n      <td>1</td>\n      <td>1</td>\n      <td>NaN</td>\n      <td>0</td>\n      <td>0</td>\n      <td>2</td>\n      <td>2</td>\n      <td>0</td>\n      <td>522</td>\n      <td>698</td>\n      <td>5.1</td>\n      <td>[3015.0, 3205.0]</td>\n    </tr>\n    <tr>\n      <th>205501</th>\n      <td>Djibouti</td>\n      <td>Oman</td>\n      <td>2015</td>\n      <td>1</td>\n      <td>1</td>\n      <td>0</td>\n      <td>0</td>\n      <td>1</td>\n      <td>1</td>\n      <td>NaN</td>\n      <td>0</td>\n      <td>0</td>\n      <td>2</td>\n      <td>2</td>\n      <td>0</td>\n      <td>522</td>\n      <td>698</td>\n      <td>5.1</td>\n      <td>[3015.0, 3205.0]</td>\n    </tr>\n    <tr>\n      <th>205502</th>\n      <td>Djibouti</td>\n      <td>Oman</td>\n      <td>2016</td>\n      <td>1</td>\n      <td>1</td>\n      <td>0</td>\n      <td>0</td>\n      <td>1</td>\n      <td>1</td>\n      <td>NaN</td>\n      <td>0</td>\n      <td>0</td>\n      <td>2</td>\n      <td>2</td>\n      <td>0</td>\n      <td>522</td>\n      <td>698</td>\n      <td>5.1</td>\n      <td>[3015.0, 3205.0]</td>\n    </tr>\n    <tr>\n      <th>205503</th>\n      <td>Djibouti</td>\n      <td>Oman</td>\n      <td>2017</td>\n      <td>1</td>\n      <td>1</td>\n      <td>0</td>\n      <td>0</td>\n      <td>1</td>\n      <td>1</td>\n      <td>NaN</td>\n      <td>0</td>\n      <td>0</td>\n      <td>2</td>\n      <td>2</td>\n      <td>0</td>\n      <td>522</td>\n      <td>698</td>\n      <td>5.1</td>\n      <td>[3015.0, 3205.0]</td>\n    </tr>\n    <tr>\n      <th>205504</th>\n      <td>Djibouti</td>\n      <td>Oman</td>\n      <td>2018</td>\n      <td>1</td>\n      <td>1</td>\n      <td>0</td>\n      <td>0</td>\n      <td>1</td>\n      <td>1</td>\n      <td>NaN</td>\n      <td>0</td>\n      <td>0</td>\n      <td>2</td>\n      <td>2</td>\n      <td>0</td>\n      <td>522</td>\n      <td>698</td>\n      <td>5.1</td>\n      <td>[3015.0, 3205.0]</td>\n    </tr>\n  </tbody>\n</table>\n<p>1675 rows × 19 columns</p>\n</div>"
     },
     "execution_count": 10,
     "metadata": {},
     "output_type": "execute_result"
    }
   ],
   "source": [
    "atop_directed_year[atop_directed_year['state_nameA'] == 'Djibouti']"
   ],
   "metadata": {
    "collapsed": false
   }
  },
  {
   "cell_type": "code",
   "execution_count": 11,
   "outputs": [
    {
     "data": {
      "text/plain": "                          states_pair                   atopids  \\\n0   United Kingdom -> Austria-Hungary                  [1110.0]   \n0           United Kingdom -> Belgium                  [2130.0]   \n0             United Kingdom -> China                  [1118.0]   \n0            United Kingdom -> Cyprus                  [3405.0]   \n0             United Kingdom -> Egypt                  [2385.0]   \n..                                ...                       ...   \n2            Turkey -> United Kingdom                  [1330.0]   \n3            Turkey -> United Kingdom          [2420.0, 2490.0]   \n4            Turkey -> United Kingdom                  [2490.0]   \n5            Turkey -> United Kingdom          [2490.0, 2550.0]   \n6            Turkey -> United Kingdom  [3180.0, 3275.0, 3405.0]   \n\n   obligation_score          stateA           stateB  \n0                 8  United Kingdom  Austria-Hungary  \n0                 8  United Kingdom          Belgium  \n0                 8  United Kingdom            China  \n0                 9  United Kingdom           Cyprus  \n0                 9  United Kingdom            Egypt  \n..              ...             ...              ...  \n2                 0          Turkey   United Kingdom  \n3                13          Turkey   United Kingdom  \n4                13          Turkey   United Kingdom  \n5                13          Turkey   United Kingdom  \n6                11          Turkey   United Kingdom  \n\n[140 rows x 5 columns]",
      "text/html": "<div>\n<style scoped>\n    .dataframe tbody tr th:only-of-type {\n        vertical-align: middle;\n    }\n\n    .dataframe tbody tr th {\n        vertical-align: top;\n    }\n\n    .dataframe thead th {\n        text-align: right;\n    }\n</style>\n<table border=\"1\" class=\"dataframe\">\n  <thead>\n    <tr style=\"text-align: right;\">\n      <th></th>\n      <th>states_pair</th>\n      <th>atopids</th>\n      <th>obligation_score</th>\n      <th>stateA</th>\n      <th>stateB</th>\n    </tr>\n  </thead>\n  <tbody>\n    <tr>\n      <th>0</th>\n      <td>United Kingdom -&gt; Austria-Hungary</td>\n      <td>[1110.0]</td>\n      <td>8</td>\n      <td>United Kingdom</td>\n      <td>Austria-Hungary</td>\n    </tr>\n    <tr>\n      <th>0</th>\n      <td>United Kingdom -&gt; Belgium</td>\n      <td>[2130.0]</td>\n      <td>8</td>\n      <td>United Kingdom</td>\n      <td>Belgium</td>\n    </tr>\n    <tr>\n      <th>0</th>\n      <td>United Kingdom -&gt; China</td>\n      <td>[1118.0]</td>\n      <td>8</td>\n      <td>United Kingdom</td>\n      <td>China</td>\n    </tr>\n    <tr>\n      <th>0</th>\n      <td>United Kingdom -&gt; Cyprus</td>\n      <td>[3405.0]</td>\n      <td>9</td>\n      <td>United Kingdom</td>\n      <td>Cyprus</td>\n    </tr>\n    <tr>\n      <th>0</th>\n      <td>United Kingdom -&gt; Egypt</td>\n      <td>[2385.0]</td>\n      <td>9</td>\n      <td>United Kingdom</td>\n      <td>Egypt</td>\n    </tr>\n    <tr>\n      <th>...</th>\n      <td>...</td>\n      <td>...</td>\n      <td>...</td>\n      <td>...</td>\n      <td>...</td>\n    </tr>\n    <tr>\n      <th>2</th>\n      <td>Turkey -&gt; United Kingdom</td>\n      <td>[1330.0]</td>\n      <td>0</td>\n      <td>Turkey</td>\n      <td>United Kingdom</td>\n    </tr>\n    <tr>\n      <th>3</th>\n      <td>Turkey -&gt; United Kingdom</td>\n      <td>[2420.0, 2490.0]</td>\n      <td>13</td>\n      <td>Turkey</td>\n      <td>United Kingdom</td>\n    </tr>\n    <tr>\n      <th>4</th>\n      <td>Turkey -&gt; United Kingdom</td>\n      <td>[2490.0]</td>\n      <td>13</td>\n      <td>Turkey</td>\n      <td>United Kingdom</td>\n    </tr>\n    <tr>\n      <th>5</th>\n      <td>Turkey -&gt; United Kingdom</td>\n      <td>[2490.0, 2550.0]</td>\n      <td>13</td>\n      <td>Turkey</td>\n      <td>United Kingdom</td>\n    </tr>\n    <tr>\n      <th>6</th>\n      <td>Turkey -&gt; United Kingdom</td>\n      <td>[3180.0, 3275.0, 3405.0]</td>\n      <td>11</td>\n      <td>Turkey</td>\n      <td>United Kingdom</td>\n    </tr>\n  </tbody>\n</table>\n<p>140 rows × 5 columns</p>\n</div>"
     },
     "execution_count": 11,
     "metadata": {},
     "output_type": "execute_result"
    }
   ],
   "source": [
    "\"\"\" Finding asymmetrical alliances, really tickled some brain juice out of me \"\"\"\n",
    "asymmetrical = atop_directed_year[atop_directed_year['asymm'].astype(bool)]\n",
    "\n",
    "# Gets all country pair combinations as dataframes\n",
    "country_pairs = asymmetrical.groupby(['state_nameA', 'state_nameB'])\n",
    "country_pair_dfs = {name:group for name, group in country_pairs}\n",
    "# Finding unique pairs\n",
    "\n",
    "unique_obligations = pd.DataFrame(columns=['states_pair', 'atopids', 'obligation_score'])\n",
    "# Iterates through each pair of countries dataframe\n",
    "for name, pair_df in country_pair_dfs.items():\n",
    "    stateA = name[0]\n",
    "    stateB = name[1]\n",
    "    name = f\"{stateA} -> {stateB}\"\n",
    "    asym_allies = []\n",
    "    obligations = []\n",
    "    # print(pair_df.groupby('atopids').size())\n",
    "    # Iterates through each year to find a unique combination of atopids\n",
    "    for i, row in pair_df.iterrows():\n",
    "        obligation_score = (row['defense'] + row['offense'] + 1)//2 *8 + row['neutral']*4 + row['nonagg']*2 + row['consul']\n",
    "        alliance_ids = row['atopids']\n",
    "        #Append if unique atopids combination\n",
    "        if alliance_ids not in asym_allies:\n",
    "            asym_allies.append(alliance_ids)\n",
    "            obligations.append(obligation_score)\n",
    "\n",
    "    unique_obligations = pd.concat([unique_obligations, pd.DataFrame({'states_pair':name, 'stateA':stateA, 'stateB':stateB, 'atopids':asym_allies, 'obligation_score':obligations})])\n",
    "\n",
    "uk_case = pd.concat([unique_obligations[unique_obligations['stateA'] == 'United Kingdom'],unique_obligations[unique_obligations['stateB'] == 'United Kingdom']])\n",
    "uk_case"
   ],
   "metadata": {
    "collapsed": false
   }
  },
  {
   "cell_type": "code",
   "execution_count": 12,
   "outputs": [
    {
     "data": {
      "text/plain": "                          count\nAndorra                     2.0\nArgentina                   1.0\nBavaria                     2.0\nFrance                      9.0\nHanover                     1.0\nHesse Grand Ducal           1.0\nAustria-Hungary             2.0\nSaxony                      1.0\nWuerttemburg                1.0\nCanada                      1.0\nBelgium                     1.0\nItaly                       6.0\nUnited Kingdom             23.0\nBrazil                      3.0\nHonduras                    4.0\nGreece                      2.0\nTurkey                      5.0\nRussia                      5.0\nGermany                     1.0\nUnited States of America    9.0\nLibya                       1.0\nMalta                       1.0\nSpain                       1.0\nPortugal                    1.0\nRomania                     1.0",
      "text/html": "<div>\n<style scoped>\n    .dataframe tbody tr th:only-of-type {\n        vertical-align: middle;\n    }\n\n    .dataframe tbody tr th {\n        vertical-align: top;\n    }\n\n    .dataframe thead th {\n        text-align: right;\n    }\n</style>\n<table border=\"1\" class=\"dataframe\">\n  <thead>\n    <tr style=\"text-align: right;\">\n      <th></th>\n      <th>count</th>\n    </tr>\n  </thead>\n  <tbody>\n    <tr>\n      <th>Andorra</th>\n      <td>2.0</td>\n    </tr>\n    <tr>\n      <th>Argentina</th>\n      <td>1.0</td>\n    </tr>\n    <tr>\n      <th>Bavaria</th>\n      <td>2.0</td>\n    </tr>\n    <tr>\n      <th>France</th>\n      <td>9.0</td>\n    </tr>\n    <tr>\n      <th>Hanover</th>\n      <td>1.0</td>\n    </tr>\n    <tr>\n      <th>Hesse Grand Ducal</th>\n      <td>1.0</td>\n    </tr>\n    <tr>\n      <th>Austria-Hungary</th>\n      <td>2.0</td>\n    </tr>\n    <tr>\n      <th>Saxony</th>\n      <td>1.0</td>\n    </tr>\n    <tr>\n      <th>Wuerttemburg</th>\n      <td>1.0</td>\n    </tr>\n    <tr>\n      <th>Canada</th>\n      <td>1.0</td>\n    </tr>\n    <tr>\n      <th>Belgium</th>\n      <td>1.0</td>\n    </tr>\n    <tr>\n      <th>Italy</th>\n      <td>6.0</td>\n    </tr>\n    <tr>\n      <th>United Kingdom</th>\n      <td>23.0</td>\n    </tr>\n    <tr>\n      <th>Brazil</th>\n      <td>3.0</td>\n    </tr>\n    <tr>\n      <th>Honduras</th>\n      <td>4.0</td>\n    </tr>\n    <tr>\n      <th>Greece</th>\n      <td>2.0</td>\n    </tr>\n    <tr>\n      <th>Turkey</th>\n      <td>5.0</td>\n    </tr>\n    <tr>\n      <th>Russia</th>\n      <td>5.0</td>\n    </tr>\n    <tr>\n      <th>Germany</th>\n      <td>1.0</td>\n    </tr>\n    <tr>\n      <th>United States of America</th>\n      <td>9.0</td>\n    </tr>\n    <tr>\n      <th>Libya</th>\n      <td>1.0</td>\n    </tr>\n    <tr>\n      <th>Malta</th>\n      <td>1.0</td>\n    </tr>\n    <tr>\n      <th>Spain</th>\n      <td>1.0</td>\n    </tr>\n    <tr>\n      <th>Portugal</th>\n      <td>1.0</td>\n    </tr>\n    <tr>\n      <th>Romania</th>\n      <td>1.0</td>\n    </tr>\n  </tbody>\n</table>\n</div>"
     },
     "execution_count": 12,
     "metadata": {},
     "output_type": "execute_result"
    }
   ],
   "source": [
    "\"\"\" Finding significant patron and protege states \"\"\"\n",
    "patron_states = {}\n",
    "protege_states = {}\n",
    "for i, row in unique_obligations.iterrows():\n",
    "    # Find the opposite pair\n",
    "    opposite_pair_name = row['states_pair'].split(' -> ')\n",
    "    opposite_pair_name = f\"{opposite_pair_name[1]} -> {opposite_pair_name[0]}\"\n",
    "    opposite_pair = unique_obligations[unique_obligations['states_pair'] == opposite_pair_name]\n",
    "    for i, opp_row in opposite_pair.iterrows():\n",
    "        if opp_row['atopids'] == row['atopids']:\n",
    "            opposite_pair = opp_row\n",
    "            break\n",
    "\n",
    "    # Determine if patron or protege\n",
    "    stateA = row['states_pair'].split(' -> ')[0]\n",
    "    stateB = row['states_pair'].split(' -> ')[1]\n",
    "    if row['obligation_score'] > opposite_pair['obligation_score']:\n",
    "        patron_states[stateA] = patron_states.get(stateA, 0) + 0.5\n",
    "        protege_states[stateB] = protege_states.get(stateB, 0) + 0.5\n",
    "    elif row['obligation_score'] < opposite_pair['obligation_score']:\n",
    "        patron_states[stateB] = patron_states.get(stateB, 0) + 0.5\n",
    "        protege_states[stateA] = protege_states.get(stateA, 0) + 0.5\n",
    "\n",
    "pd.DataFrame(patron_states, index=['count']).T\n",
    "#pd.DataFrame(protege_states, index=['count']).T"
   ],
   "metadata": {
    "collapsed": false
   }
  },
  {
   "cell_type": "code",
   "execution_count": 13,
   "outputs": [],
   "source": [
    "#fav_asym_df = pd.DataFrame(asym_fav,index=['count']).T\n",
    "#unfav_asym_df = pd.DataFrame(asym_unfav,index=['count']).T\n",
    "#fav_asym_df\n",
    "#set1 = set([1,2,3,4,5])\n",
    "#set2 = set([1,2,3,4,5,6])\n",
    "#set12 = set([1,2,3,4,5])\n",
    "#set1 == set12\n",
    "#max_fav_value = max(asym_fav.values())\n",
    "#max_fav_key = max(asym_fav, key=asym_fav.get)\n",
    "#print(f\"{max_fav_key} has the most asymmetrical dyads with {max_fav_value}\")"
   ],
   "metadata": {
    "collapsed": false
   }
  },
  {
   "cell_type": "code",
   "execution_count": 14,
   "outputs": [],
   "source": [
    "#\"\"\"Plotting the number of asymmetrical alliances by state\"\"\"\n",
    "## Create dataframe for plot\n",
    "#asymmetric_df = pd.DataFrame({'state_name':asym_allies.keys(),'alliances':asym_allies.values()})\n",
    "#asymmetric_df = asymmetric_df.sort_values(by='alliances', ascending=False)\n",
    "#\n",
    "## Horizontal bar plot\n",
    "#plt.figure(figsize=(7, 14))\n",
    "#plt.barh(asymmetric_df['state_name'], asymmetric_df['alliances'], color='red')\n",
    "#plt.ylabel('State')\n",
    "#plt.xlabel('Number of Asymmetrical Alliances')\n",
    "#plt.title('Number of Asymmetrical Alliances by State')\n",
    "#plt.tight_layout()\n",
    "#"
   ],
   "metadata": {
    "collapsed": false
   }
  },
  {
   "cell_type": "code",
   "execution_count": 15,
   "outputs": [],
   "source": [
    "#\"\"\" Plotting the number of asymmetric alliances by state as a chloropleth map \"\"\"\n",
    "#fig = px.choropleth(asymmetric_df, locations='state_name', locationmode='country names', color='alliances', hover_name='state_name',labels={'alliances':'Asymmetrical Alliances'},width=600, height=400)\n",
    "#fig.show()"
   ],
   "metadata": {
    "collapsed": false
   }
  },
  {
   "cell_type": "code",
   "execution_count": 16,
   "outputs": [],
   "source": [
    "\"\"\" Exporting data for network \"\"\"\n",
    "year = 2018\n",
    "atop_directed_year[atop_directed_year['year'] == year].to_csv(f'./ATOP_data/atop_directed_{year}.csv', index=False)"
   ],
   "metadata": {
    "collapsed": false
   }
  },
  {
   "cell_type": "code",
   "execution_count": 17,
   "outputs": [],
   "source": [
    "\"\"\" Exporting data for network modelling \"\"\"\n",
    "atop_directed_year.to_csv(f'./ATOP_data/alliance_data.csv', index=False)"
   ],
   "metadata": {
    "collapsed": false
   }
  },
  {
   "cell_type": "code",
   "execution_count": 18,
   "outputs": [
    {
     "data": {
      "text/plain": "                     state_nameA state_nameB  year  atopally  defense  \\\n0       United States of America      Canada  1942         1        1   \n1       United States of America      Canada  1943         1        1   \n2       United States of America      Canada  1944         1        1   \n3       United States of America      Canada  1945         1        1   \n4       United States of America      Canada  1949         1        1   \n...                          ...         ...   ...       ...      ...   \n273291                     Samoa       China  2014         1        0   \n273292                     Samoa       China  2015         1        0   \n273293                     Samoa       China  2016         1        0   \n273294                     Samoa       China  2017         1        0   \n273295                     Samoa       China  2018         1        0   \n\n        offense  neutral  nonagg  consul  shareob  transyr  bilatno  multino  \\\n0             1        0       0       0      NaN        1        0        1   \n1             1        0       0       0      NaN        0        0        1   \n2             1        0       0       0      NaN        0        0        1   \n3             1        0       0       0      NaN        1        0        1   \n4             0        0       1       1      NaN        1        0        1   \n...         ...      ...     ...     ...      ...      ...      ...      ...   \n273291        0        0       1       0      NaN        0        1        0   \n273292        0        0       1       0      NaN        0        1        0   \n273293        0        0       1       0      NaN        0        1        0   \n273294        0        0       1       0      NaN        0        1        0   \n273295        0        0       1       0      NaN        0        1        0   \n\n        number  asymm  stateA  stateB  version   atopids  \n0            1      0       2      20      5.1  [2550.0]  \n1            1      0       2      20      5.1  [2550.0]  \n2            1      0       2      20      5.1  [2550.0]  \n3            1      0       2      20      5.1  [2550.0]  \n4            1      0       2      20      5.1  [3180.0]  \n...        ...    ...     ...     ...      ...       ...  \n273291       1      0     990     710      5.1  [3746.0]  \n273292       1      0     990     710      5.1  [3746.0]  \n273293       1      0     990     710      5.1  [3746.0]  \n273294       1      0     990     710      5.1  [3746.0]  \n273295       1      0     990     710      5.1  [3746.0]  \n\n[273296 rows x 19 columns]",
      "text/html": "<div>\n<style scoped>\n    .dataframe tbody tr th:only-of-type {\n        vertical-align: middle;\n    }\n\n    .dataframe tbody tr th {\n        vertical-align: top;\n    }\n\n    .dataframe thead th {\n        text-align: right;\n    }\n</style>\n<table border=\"1\" class=\"dataframe\">\n  <thead>\n    <tr style=\"text-align: right;\">\n      <th></th>\n      <th>state_nameA</th>\n      <th>state_nameB</th>\n      <th>year</th>\n      <th>atopally</th>\n      <th>defense</th>\n      <th>offense</th>\n      <th>neutral</th>\n      <th>nonagg</th>\n      <th>consul</th>\n      <th>shareob</th>\n      <th>transyr</th>\n      <th>bilatno</th>\n      <th>multino</th>\n      <th>number</th>\n      <th>asymm</th>\n      <th>stateA</th>\n      <th>stateB</th>\n      <th>version</th>\n      <th>atopids</th>\n    </tr>\n  </thead>\n  <tbody>\n    <tr>\n      <th>0</th>\n      <td>United States of America</td>\n      <td>Canada</td>\n      <td>1942</td>\n      <td>1</td>\n      <td>1</td>\n      <td>1</td>\n      <td>0</td>\n      <td>0</td>\n      <td>0</td>\n      <td>NaN</td>\n      <td>1</td>\n      <td>0</td>\n      <td>1</td>\n      <td>1</td>\n      <td>0</td>\n      <td>2</td>\n      <td>20</td>\n      <td>5.1</td>\n      <td>[2550.0]</td>\n    </tr>\n    <tr>\n      <th>1</th>\n      <td>United States of America</td>\n      <td>Canada</td>\n      <td>1943</td>\n      <td>1</td>\n      <td>1</td>\n      <td>1</td>\n      <td>0</td>\n      <td>0</td>\n      <td>0</td>\n      <td>NaN</td>\n      <td>0</td>\n      <td>0</td>\n      <td>1</td>\n      <td>1</td>\n      <td>0</td>\n      <td>2</td>\n      <td>20</td>\n      <td>5.1</td>\n      <td>[2550.0]</td>\n    </tr>\n    <tr>\n      <th>2</th>\n      <td>United States of America</td>\n      <td>Canada</td>\n      <td>1944</td>\n      <td>1</td>\n      <td>1</td>\n      <td>1</td>\n      <td>0</td>\n      <td>0</td>\n      <td>0</td>\n      <td>NaN</td>\n      <td>0</td>\n      <td>0</td>\n      <td>1</td>\n      <td>1</td>\n      <td>0</td>\n      <td>2</td>\n      <td>20</td>\n      <td>5.1</td>\n      <td>[2550.0]</td>\n    </tr>\n    <tr>\n      <th>3</th>\n      <td>United States of America</td>\n      <td>Canada</td>\n      <td>1945</td>\n      <td>1</td>\n      <td>1</td>\n      <td>1</td>\n      <td>0</td>\n      <td>0</td>\n      <td>0</td>\n      <td>NaN</td>\n      <td>1</td>\n      <td>0</td>\n      <td>1</td>\n      <td>1</td>\n      <td>0</td>\n      <td>2</td>\n      <td>20</td>\n      <td>5.1</td>\n      <td>[2550.0]</td>\n    </tr>\n    <tr>\n      <th>4</th>\n      <td>United States of America</td>\n      <td>Canada</td>\n      <td>1949</td>\n      <td>1</td>\n      <td>1</td>\n      <td>0</td>\n      <td>0</td>\n      <td>1</td>\n      <td>1</td>\n      <td>NaN</td>\n      <td>1</td>\n      <td>0</td>\n      <td>1</td>\n      <td>1</td>\n      <td>0</td>\n      <td>2</td>\n      <td>20</td>\n      <td>5.1</td>\n      <td>[3180.0]</td>\n    </tr>\n    <tr>\n      <th>...</th>\n      <td>...</td>\n      <td>...</td>\n      <td>...</td>\n      <td>...</td>\n      <td>...</td>\n      <td>...</td>\n      <td>...</td>\n      <td>...</td>\n      <td>...</td>\n      <td>...</td>\n      <td>...</td>\n      <td>...</td>\n      <td>...</td>\n      <td>...</td>\n      <td>...</td>\n      <td>...</td>\n      <td>...</td>\n      <td>...</td>\n      <td>...</td>\n    </tr>\n    <tr>\n      <th>273291</th>\n      <td>Samoa</td>\n      <td>China</td>\n      <td>2014</td>\n      <td>1</td>\n      <td>0</td>\n      <td>0</td>\n      <td>0</td>\n      <td>1</td>\n      <td>0</td>\n      <td>NaN</td>\n      <td>0</td>\n      <td>1</td>\n      <td>0</td>\n      <td>1</td>\n      <td>0</td>\n      <td>990</td>\n      <td>710</td>\n      <td>5.1</td>\n      <td>[3746.0]</td>\n    </tr>\n    <tr>\n      <th>273292</th>\n      <td>Samoa</td>\n      <td>China</td>\n      <td>2015</td>\n      <td>1</td>\n      <td>0</td>\n      <td>0</td>\n      <td>0</td>\n      <td>1</td>\n      <td>0</td>\n      <td>NaN</td>\n      <td>0</td>\n      <td>1</td>\n      <td>0</td>\n      <td>1</td>\n      <td>0</td>\n      <td>990</td>\n      <td>710</td>\n      <td>5.1</td>\n      <td>[3746.0]</td>\n    </tr>\n    <tr>\n      <th>273293</th>\n      <td>Samoa</td>\n      <td>China</td>\n      <td>2016</td>\n      <td>1</td>\n      <td>0</td>\n      <td>0</td>\n      <td>0</td>\n      <td>1</td>\n      <td>0</td>\n      <td>NaN</td>\n      <td>0</td>\n      <td>1</td>\n      <td>0</td>\n      <td>1</td>\n      <td>0</td>\n      <td>990</td>\n      <td>710</td>\n      <td>5.1</td>\n      <td>[3746.0]</td>\n    </tr>\n    <tr>\n      <th>273294</th>\n      <td>Samoa</td>\n      <td>China</td>\n      <td>2017</td>\n      <td>1</td>\n      <td>0</td>\n      <td>0</td>\n      <td>0</td>\n      <td>1</td>\n      <td>0</td>\n      <td>NaN</td>\n      <td>0</td>\n      <td>1</td>\n      <td>0</td>\n      <td>1</td>\n      <td>0</td>\n      <td>990</td>\n      <td>710</td>\n      <td>5.1</td>\n      <td>[3746.0]</td>\n    </tr>\n    <tr>\n      <th>273295</th>\n      <td>Samoa</td>\n      <td>China</td>\n      <td>2018</td>\n      <td>1</td>\n      <td>0</td>\n      <td>0</td>\n      <td>0</td>\n      <td>1</td>\n      <td>0</td>\n      <td>NaN</td>\n      <td>0</td>\n      <td>1</td>\n      <td>0</td>\n      <td>1</td>\n      <td>0</td>\n      <td>990</td>\n      <td>710</td>\n      <td>5.1</td>\n      <td>[3746.0]</td>\n    </tr>\n  </tbody>\n</table>\n<p>273296 rows × 19 columns</p>\n</div>"
     },
     "execution_count": 18,
     "metadata": {},
     "output_type": "execute_result"
    }
   ],
   "source": [
    "atop_directed_year"
   ],
   "metadata": {
    "collapsed": false
   }
  }
 ],
 "metadata": {
  "kernelspec": {
   "display_name": "Python 3",
   "language": "python",
   "name": "python3"
  },
  "language_info": {
   "codemirror_mode": {
    "name": "ipython",
    "version": 2
   },
   "file_extension": ".py",
   "mimetype": "text/x-python",
   "name": "python",
   "nbconvert_exporter": "python",
   "pygments_lexer": "ipython2",
   "version": "2.7.6"
  }
 },
 "nbformat": 4,
 "nbformat_minor": 0
}
