{
 "cells": [
  {
   "cell_type": "code",
   "execution_count": 1,
   "metadata": {
    "collapsed": true
   },
   "outputs": [],
   "source": [
    "import pandas as pd"
   ]
  },
  {
   "cell_type": "code",
   "execution_count": 2,
   "outputs": [],
   "source": [
    "# Includes information about each state’s alliance commitments in a given year\n",
    "atop_state_year = pd.read_csv(\"./ATOP_data/atop5_1sy.csv\")"
   ],
   "metadata": {
    "collapsed": false
   }
  },
  {
   "cell_type": "code",
   "execution_count": 3,
   "outputs": [
    {
     "name": "stdout",
     "output_type": "stream",
     "text": [
      "<class 'pandas.core.frame.DataFrame'>\n",
      "RangeIndex: 11923 entries, 0 to 11922\n",
      "Data columns (total 70 columns):\n",
      " #   Column    Non-Null Count  Dtype  \n",
      "---  ------    --------------  -----  \n",
      " 0   state     11923 non-null  int64  \n",
      " 1   year      11923 non-null  int64  \n",
      " 2   atopally  11923 non-null  int64  \n",
      " 3   defense   11923 non-null  int64  \n",
      " 4   offense   11923 non-null  int64  \n",
      " 5   neutral   11923 non-null  int64  \n",
      " 6   nonagg    11923 non-null  int64  \n",
      " 7   consul    11923 non-null  int64  \n",
      " 8   number    11923 non-null  int64  \n",
      " 9   transyr   11923 non-null  int64  \n",
      " 10  atopid1   11923 non-null  int64  \n",
      " 11  atopid2   8506 non-null   float64\n",
      " 12  atopid3   5837 non-null   float64\n",
      " 13  atopid4   3803 non-null   float64\n",
      " 14  atopid5   2527 non-null   float64\n",
      " 15  atopid6   1897 non-null   float64\n",
      " 16  atopid7   1546 non-null   float64\n",
      " 17  atopid8   1310 non-null   float64\n",
      " 18  atopid9   1093 non-null   float64\n",
      " 19  atopid10  946 non-null    float64\n",
      " 20  atopid11  848 non-null    float64\n",
      " 21  atopid12  760 non-null    float64\n",
      " 22  atopid13  688 non-null    float64\n",
      " 23  atopid14  628 non-null    float64\n",
      " 24  atopid15  517 non-null    float64\n",
      " 25  atopid16  449 non-null    float64\n",
      " 26  atopid17  363 non-null    float64\n",
      " 27  atopid18  333 non-null    float64\n",
      " 28  atopid19  312 non-null    float64\n",
      " 29  atopid20  283 non-null    float64\n",
      " 30  atopid21  268 non-null    float64\n",
      " 31  atopid22  243 non-null    float64\n",
      " 32  atopid23  221 non-null    float64\n",
      " 33  atopid24  203 non-null    float64\n",
      " 34  atopid25  180 non-null    float64\n",
      " 35  atopid26  145 non-null    float64\n",
      " 36  atopid27  132 non-null    float64\n",
      " 37  atopid28  122 non-null    float64\n",
      " 38  atopid29  105 non-null    float64\n",
      " 39  atopid30  102 non-null    float64\n",
      " 40  atopid31  91 non-null     float64\n",
      " 41  atopid32  75 non-null     float64\n",
      " 42  atopid33  63 non-null     float64\n",
      " 43  atopid34  50 non-null     float64\n",
      " 44  atopid35  37 non-null     float64\n",
      " 45  atopid36  27 non-null     float64\n",
      " 46  atopid37  27 non-null     float64\n",
      " 47  atopid38  27 non-null     float64\n",
      " 48  atopid39  26 non-null     float64\n",
      " 49  atopid40  26 non-null     float64\n",
      " 50  atopid41  26 non-null     float64\n",
      " 51  atopid42  24 non-null     float64\n",
      " 52  atopid43  22 non-null     float64\n",
      " 53  atopid44  20 non-null     float64\n",
      " 54  atopid45  20 non-null     float64\n",
      " 55  atopid46  20 non-null     float64\n",
      " 56  atopid47  19 non-null     float64\n",
      " 57  atopid48  18 non-null     float64\n",
      " 58  atopid49  18 non-null     float64\n",
      " 59  atopid50  15 non-null     float64\n",
      " 60  atopid51  15 non-null     float64\n",
      " 61  atopid52  14 non-null     float64\n",
      " 62  atopid53  12 non-null     float64\n",
      " 63  atopid54  6 non-null      float64\n",
      " 64  atopid55  3 non-null      float64\n",
      " 65  atopid56  2 non-null      float64\n",
      " 66  atopid57  2 non-null      float64\n",
      " 67  atopid58  1 non-null      float64\n",
      " 68  atopid59  1 non-null      float64\n",
      " 69  version   11923 non-null  float64\n",
      "dtypes: float64(59), int64(11)\n",
      "memory usage: 6.4 MB\n"
     ]
    },
    {
     "data": {
      "text/plain": "       state  year  atopally  defense  offense  neutral  nonagg  consul  \\\n0          2  1908         1        0        0        0       0       1   \n1          2  1909         1        0        0        0       0       1   \n2          2  1910         1        0        0        0       0       1   \n3          2  1921         1        0        0        0       0       1   \n4          2  1922         1        0        0        0       0       1   \n...      ...   ...       ...      ...      ...      ...     ...     ...   \n11918    990  2014         1        0        0        0       1       0   \n11919    990  2015         1        0        0        0       1       0   \n11920    990  2016         1        0        0        0       1       0   \n11921    990  2017         1        0        0        0       1       0   \n11922    990  2018         1        0        0        0       1       0   \n\n       number  transyr  ...  atopid51  atopid52  atopid53  atopid54  atopid55  \\\n0           1        1  ...       NaN       NaN       NaN       NaN       NaN   \n1           1        0  ...       NaN       NaN       NaN       NaN       NaN   \n2           1        1  ...       NaN       NaN       NaN       NaN       NaN   \n3           1        1  ...       NaN       NaN       NaN       NaN       NaN   \n4           1        0  ...       NaN       NaN       NaN       NaN       NaN   \n...       ...      ...  ...       ...       ...       ...       ...       ...   \n11918       1        0  ...       NaN       NaN       NaN       NaN       NaN   \n11919       1        0  ...       NaN       NaN       NaN       NaN       NaN   \n11920       1        0  ...       NaN       NaN       NaN       NaN       NaN   \n11921       1        0  ...       NaN       NaN       NaN       NaN       NaN   \n11922       1        0  ...       NaN       NaN       NaN       NaN       NaN   \n\n       atopid56  atopid57  atopid58  atopid59  version  \n0           NaN       NaN       NaN       NaN      5.1  \n1           NaN       NaN       NaN       NaN      5.1  \n2           NaN       NaN       NaN       NaN      5.1  \n3           NaN       NaN       NaN       NaN      5.1  \n4           NaN       NaN       NaN       NaN      5.1  \n...         ...       ...       ...       ...      ...  \n11918       NaN       NaN       NaN       NaN      5.1  \n11919       NaN       NaN       NaN       NaN      5.1  \n11920       NaN       NaN       NaN       NaN      5.1  \n11921       NaN       NaN       NaN       NaN      5.1  \n11922       NaN       NaN       NaN       NaN      5.1  \n\n[11923 rows x 70 columns]",
      "text/html": "<div>\n<style scoped>\n    .dataframe tbody tr th:only-of-type {\n        vertical-align: middle;\n    }\n\n    .dataframe tbody tr th {\n        vertical-align: top;\n    }\n\n    .dataframe thead th {\n        text-align: right;\n    }\n</style>\n<table border=\"1\" class=\"dataframe\">\n  <thead>\n    <tr style=\"text-align: right;\">\n      <th></th>\n      <th>state</th>\n      <th>year</th>\n      <th>atopally</th>\n      <th>defense</th>\n      <th>offense</th>\n      <th>neutral</th>\n      <th>nonagg</th>\n      <th>consul</th>\n      <th>number</th>\n      <th>transyr</th>\n      <th>...</th>\n      <th>atopid51</th>\n      <th>atopid52</th>\n      <th>atopid53</th>\n      <th>atopid54</th>\n      <th>atopid55</th>\n      <th>atopid56</th>\n      <th>atopid57</th>\n      <th>atopid58</th>\n      <th>atopid59</th>\n      <th>version</th>\n    </tr>\n  </thead>\n  <tbody>\n    <tr>\n      <th>0</th>\n      <td>2</td>\n      <td>1908</td>\n      <td>1</td>\n      <td>0</td>\n      <td>0</td>\n      <td>0</td>\n      <td>0</td>\n      <td>1</td>\n      <td>1</td>\n      <td>1</td>\n      <td>...</td>\n      <td>NaN</td>\n      <td>NaN</td>\n      <td>NaN</td>\n      <td>NaN</td>\n      <td>NaN</td>\n      <td>NaN</td>\n      <td>NaN</td>\n      <td>NaN</td>\n      <td>NaN</td>\n      <td>5.1</td>\n    </tr>\n    <tr>\n      <th>1</th>\n      <td>2</td>\n      <td>1909</td>\n      <td>1</td>\n      <td>0</td>\n      <td>0</td>\n      <td>0</td>\n      <td>0</td>\n      <td>1</td>\n      <td>1</td>\n      <td>0</td>\n      <td>...</td>\n      <td>NaN</td>\n      <td>NaN</td>\n      <td>NaN</td>\n      <td>NaN</td>\n      <td>NaN</td>\n      <td>NaN</td>\n      <td>NaN</td>\n      <td>NaN</td>\n      <td>NaN</td>\n      <td>5.1</td>\n    </tr>\n    <tr>\n      <th>2</th>\n      <td>2</td>\n      <td>1910</td>\n      <td>1</td>\n      <td>0</td>\n      <td>0</td>\n      <td>0</td>\n      <td>0</td>\n      <td>1</td>\n      <td>1</td>\n      <td>1</td>\n      <td>...</td>\n      <td>NaN</td>\n      <td>NaN</td>\n      <td>NaN</td>\n      <td>NaN</td>\n      <td>NaN</td>\n      <td>NaN</td>\n      <td>NaN</td>\n      <td>NaN</td>\n      <td>NaN</td>\n      <td>5.1</td>\n    </tr>\n    <tr>\n      <th>3</th>\n      <td>2</td>\n      <td>1921</td>\n      <td>1</td>\n      <td>0</td>\n      <td>0</td>\n      <td>0</td>\n      <td>0</td>\n      <td>1</td>\n      <td>1</td>\n      <td>1</td>\n      <td>...</td>\n      <td>NaN</td>\n      <td>NaN</td>\n      <td>NaN</td>\n      <td>NaN</td>\n      <td>NaN</td>\n      <td>NaN</td>\n      <td>NaN</td>\n      <td>NaN</td>\n      <td>NaN</td>\n      <td>5.1</td>\n    </tr>\n    <tr>\n      <th>4</th>\n      <td>2</td>\n      <td>1922</td>\n      <td>1</td>\n      <td>0</td>\n      <td>0</td>\n      <td>0</td>\n      <td>0</td>\n      <td>1</td>\n      <td>1</td>\n      <td>0</td>\n      <td>...</td>\n      <td>NaN</td>\n      <td>NaN</td>\n      <td>NaN</td>\n      <td>NaN</td>\n      <td>NaN</td>\n      <td>NaN</td>\n      <td>NaN</td>\n      <td>NaN</td>\n      <td>NaN</td>\n      <td>5.1</td>\n    </tr>\n    <tr>\n      <th>...</th>\n      <td>...</td>\n      <td>...</td>\n      <td>...</td>\n      <td>...</td>\n      <td>...</td>\n      <td>...</td>\n      <td>...</td>\n      <td>...</td>\n      <td>...</td>\n      <td>...</td>\n      <td>...</td>\n      <td>...</td>\n      <td>...</td>\n      <td>...</td>\n      <td>...</td>\n      <td>...</td>\n      <td>...</td>\n      <td>...</td>\n      <td>...</td>\n      <td>...</td>\n      <td>...</td>\n    </tr>\n    <tr>\n      <th>11918</th>\n      <td>990</td>\n      <td>2014</td>\n      <td>1</td>\n      <td>0</td>\n      <td>0</td>\n      <td>0</td>\n      <td>1</td>\n      <td>0</td>\n      <td>1</td>\n      <td>0</td>\n      <td>...</td>\n      <td>NaN</td>\n      <td>NaN</td>\n      <td>NaN</td>\n      <td>NaN</td>\n      <td>NaN</td>\n      <td>NaN</td>\n      <td>NaN</td>\n      <td>NaN</td>\n      <td>NaN</td>\n      <td>5.1</td>\n    </tr>\n    <tr>\n      <th>11919</th>\n      <td>990</td>\n      <td>2015</td>\n      <td>1</td>\n      <td>0</td>\n      <td>0</td>\n      <td>0</td>\n      <td>1</td>\n      <td>0</td>\n      <td>1</td>\n      <td>0</td>\n      <td>...</td>\n      <td>NaN</td>\n      <td>NaN</td>\n      <td>NaN</td>\n      <td>NaN</td>\n      <td>NaN</td>\n      <td>NaN</td>\n      <td>NaN</td>\n      <td>NaN</td>\n      <td>NaN</td>\n      <td>5.1</td>\n    </tr>\n    <tr>\n      <th>11920</th>\n      <td>990</td>\n      <td>2016</td>\n      <td>1</td>\n      <td>0</td>\n      <td>0</td>\n      <td>0</td>\n      <td>1</td>\n      <td>0</td>\n      <td>1</td>\n      <td>0</td>\n      <td>...</td>\n      <td>NaN</td>\n      <td>NaN</td>\n      <td>NaN</td>\n      <td>NaN</td>\n      <td>NaN</td>\n      <td>NaN</td>\n      <td>NaN</td>\n      <td>NaN</td>\n      <td>NaN</td>\n      <td>5.1</td>\n    </tr>\n    <tr>\n      <th>11921</th>\n      <td>990</td>\n      <td>2017</td>\n      <td>1</td>\n      <td>0</td>\n      <td>0</td>\n      <td>0</td>\n      <td>1</td>\n      <td>0</td>\n      <td>1</td>\n      <td>0</td>\n      <td>...</td>\n      <td>NaN</td>\n      <td>NaN</td>\n      <td>NaN</td>\n      <td>NaN</td>\n      <td>NaN</td>\n      <td>NaN</td>\n      <td>NaN</td>\n      <td>NaN</td>\n      <td>NaN</td>\n      <td>5.1</td>\n    </tr>\n    <tr>\n      <th>11922</th>\n      <td>990</td>\n      <td>2018</td>\n      <td>1</td>\n      <td>0</td>\n      <td>0</td>\n      <td>0</td>\n      <td>1</td>\n      <td>0</td>\n      <td>1</td>\n      <td>0</td>\n      <td>...</td>\n      <td>NaN</td>\n      <td>NaN</td>\n      <td>NaN</td>\n      <td>NaN</td>\n      <td>NaN</td>\n      <td>NaN</td>\n      <td>NaN</td>\n      <td>NaN</td>\n      <td>NaN</td>\n      <td>5.1</td>\n    </tr>\n  </tbody>\n</table>\n<p>11923 rows × 70 columns</p>\n</div>"
     },
     "execution_count": 3,
     "metadata": {},
     "output_type": "execute_result"
    }
   ],
   "source": [
    "# Each state for every year, if they have defense, neutral, etc and a total then the id of every alliance applicable that year\n",
    "atop_state_year.info()\n",
    "atop_state_year.head()"
   ],
   "metadata": {
    "collapsed": false
   }
  },
  {
   "cell_type": "code",
   "execution_count": 4,
   "outputs": [
    {
     "data": {
      "text/plain": "state           0\nyear            0\natopally        0\ndefense         0\noffense         0\n            ...  \natopid56    11921\natopid57    11921\natopid58    11922\natopid59    11922\nversion         0\nLength: 70, dtype: int64"
     },
     "execution_count": 4,
     "metadata": {},
     "output_type": "execute_result"
    }
   ],
   "source": [
    "atop_state_year.isnull().sum()"
   ],
   "metadata": {
    "collapsed": false
   }
  },
  {
   "cell_type": "code",
   "execution_count": 5,
   "outputs": [
    {
     "data": {
      "text/plain": "    state  year  atopally  defense  offense  neutral  nonagg  consul  number  \\\n0       2  1908         1        0        0        0       0       1       1   \n1       2  1909         1        0        0        0       0       1       1   \n2       2  1910         1        0        0        0       0       1       1   \n3       2  1921         1        0        0        0       0       1       1   \n4       2  1922         1        0        0        0       0       1       1   \n..    ...   ...       ...      ...      ...      ...     ...     ...     ...   \n86      2  2014         1        1        0        0       1       1      19   \n87      2  2015         1        1        0        0       1       1      19   \n88      2  2016         1        1        0        0       1       1      19   \n89      2  2017         1        1        0        0       1       1      19   \n90      2  2018         1        1        0        0       1       1      19   \n\n    transyr  ...  atopid51  atopid52  atopid53  atopid54  atopid55  atopid56  \\\n0         1  ...       NaN       NaN       NaN       NaN       NaN       NaN   \n1         0  ...       NaN       NaN       NaN       NaN       NaN       NaN   \n2         1  ...       NaN       NaN       NaN       NaN       NaN       NaN   \n3         1  ...       NaN       NaN       NaN       NaN       NaN       NaN   \n4         0  ...       NaN       NaN       NaN       NaN       NaN       NaN   \n..      ...  ...       ...       ...       ...       ...       ...       ...   \n86        0  ...       NaN       NaN       NaN       NaN       NaN       NaN   \n87        0  ...       NaN       NaN       NaN       NaN       NaN       NaN   \n88        0  ...       NaN       NaN       NaN       NaN       NaN       NaN   \n89        0  ...       NaN       NaN       NaN       NaN       NaN       NaN   \n90        0  ...       NaN       NaN       NaN       NaN       NaN       NaN   \n\n    atopid57  atopid58  atopid59  version  \n0        NaN       NaN       NaN      5.1  \n1        NaN       NaN       NaN      5.1  \n2        NaN       NaN       NaN      5.1  \n3        NaN       NaN       NaN      5.1  \n4        NaN       NaN       NaN      5.1  \n..       ...       ...       ...      ...  \n86       NaN       NaN       NaN      5.1  \n87       NaN       NaN       NaN      5.1  \n88       NaN       NaN       NaN      5.1  \n89       NaN       NaN       NaN      5.1  \n90       NaN       NaN       NaN      5.1  \n\n[91 rows x 70 columns]",
      "text/html": "<div>\n<style scoped>\n    .dataframe tbody tr th:only-of-type {\n        vertical-align: middle;\n    }\n\n    .dataframe tbody tr th {\n        vertical-align: top;\n    }\n\n    .dataframe thead th {\n        text-align: right;\n    }\n</style>\n<table border=\"1\" class=\"dataframe\">\n  <thead>\n    <tr style=\"text-align: right;\">\n      <th></th>\n      <th>state</th>\n      <th>year</th>\n      <th>atopally</th>\n      <th>defense</th>\n      <th>offense</th>\n      <th>neutral</th>\n      <th>nonagg</th>\n      <th>consul</th>\n      <th>number</th>\n      <th>transyr</th>\n      <th>...</th>\n      <th>atopid51</th>\n      <th>atopid52</th>\n      <th>atopid53</th>\n      <th>atopid54</th>\n      <th>atopid55</th>\n      <th>atopid56</th>\n      <th>atopid57</th>\n      <th>atopid58</th>\n      <th>atopid59</th>\n      <th>version</th>\n    </tr>\n  </thead>\n  <tbody>\n    <tr>\n      <th>0</th>\n      <td>2</td>\n      <td>1908</td>\n      <td>1</td>\n      <td>0</td>\n      <td>0</td>\n      <td>0</td>\n      <td>0</td>\n      <td>1</td>\n      <td>1</td>\n      <td>1</td>\n      <td>...</td>\n      <td>NaN</td>\n      <td>NaN</td>\n      <td>NaN</td>\n      <td>NaN</td>\n      <td>NaN</td>\n      <td>NaN</td>\n      <td>NaN</td>\n      <td>NaN</td>\n      <td>NaN</td>\n      <td>5.1</td>\n    </tr>\n    <tr>\n      <th>1</th>\n      <td>2</td>\n      <td>1909</td>\n      <td>1</td>\n      <td>0</td>\n      <td>0</td>\n      <td>0</td>\n      <td>0</td>\n      <td>1</td>\n      <td>1</td>\n      <td>0</td>\n      <td>...</td>\n      <td>NaN</td>\n      <td>NaN</td>\n      <td>NaN</td>\n      <td>NaN</td>\n      <td>NaN</td>\n      <td>NaN</td>\n      <td>NaN</td>\n      <td>NaN</td>\n      <td>NaN</td>\n      <td>5.1</td>\n    </tr>\n    <tr>\n      <th>2</th>\n      <td>2</td>\n      <td>1910</td>\n      <td>1</td>\n      <td>0</td>\n      <td>0</td>\n      <td>0</td>\n      <td>0</td>\n      <td>1</td>\n      <td>1</td>\n      <td>1</td>\n      <td>...</td>\n      <td>NaN</td>\n      <td>NaN</td>\n      <td>NaN</td>\n      <td>NaN</td>\n      <td>NaN</td>\n      <td>NaN</td>\n      <td>NaN</td>\n      <td>NaN</td>\n      <td>NaN</td>\n      <td>5.1</td>\n    </tr>\n    <tr>\n      <th>3</th>\n      <td>2</td>\n      <td>1921</td>\n      <td>1</td>\n      <td>0</td>\n      <td>0</td>\n      <td>0</td>\n      <td>0</td>\n      <td>1</td>\n      <td>1</td>\n      <td>1</td>\n      <td>...</td>\n      <td>NaN</td>\n      <td>NaN</td>\n      <td>NaN</td>\n      <td>NaN</td>\n      <td>NaN</td>\n      <td>NaN</td>\n      <td>NaN</td>\n      <td>NaN</td>\n      <td>NaN</td>\n      <td>5.1</td>\n    </tr>\n    <tr>\n      <th>4</th>\n      <td>2</td>\n      <td>1922</td>\n      <td>1</td>\n      <td>0</td>\n      <td>0</td>\n      <td>0</td>\n      <td>0</td>\n      <td>1</td>\n      <td>1</td>\n      <td>0</td>\n      <td>...</td>\n      <td>NaN</td>\n      <td>NaN</td>\n      <td>NaN</td>\n      <td>NaN</td>\n      <td>NaN</td>\n      <td>NaN</td>\n      <td>NaN</td>\n      <td>NaN</td>\n      <td>NaN</td>\n      <td>5.1</td>\n    </tr>\n    <tr>\n      <th>...</th>\n      <td>...</td>\n      <td>...</td>\n      <td>...</td>\n      <td>...</td>\n      <td>...</td>\n      <td>...</td>\n      <td>...</td>\n      <td>...</td>\n      <td>...</td>\n      <td>...</td>\n      <td>...</td>\n      <td>...</td>\n      <td>...</td>\n      <td>...</td>\n      <td>...</td>\n      <td>...</td>\n      <td>...</td>\n      <td>...</td>\n      <td>...</td>\n      <td>...</td>\n      <td>...</td>\n    </tr>\n    <tr>\n      <th>86</th>\n      <td>2</td>\n      <td>2014</td>\n      <td>1</td>\n      <td>1</td>\n      <td>0</td>\n      <td>0</td>\n      <td>1</td>\n      <td>1</td>\n      <td>19</td>\n      <td>0</td>\n      <td>...</td>\n      <td>NaN</td>\n      <td>NaN</td>\n      <td>NaN</td>\n      <td>NaN</td>\n      <td>NaN</td>\n      <td>NaN</td>\n      <td>NaN</td>\n      <td>NaN</td>\n      <td>NaN</td>\n      <td>5.1</td>\n    </tr>\n    <tr>\n      <th>87</th>\n      <td>2</td>\n      <td>2015</td>\n      <td>1</td>\n      <td>1</td>\n      <td>0</td>\n      <td>0</td>\n      <td>1</td>\n      <td>1</td>\n      <td>19</td>\n      <td>0</td>\n      <td>...</td>\n      <td>NaN</td>\n      <td>NaN</td>\n      <td>NaN</td>\n      <td>NaN</td>\n      <td>NaN</td>\n      <td>NaN</td>\n      <td>NaN</td>\n      <td>NaN</td>\n      <td>NaN</td>\n      <td>5.1</td>\n    </tr>\n    <tr>\n      <th>88</th>\n      <td>2</td>\n      <td>2016</td>\n      <td>1</td>\n      <td>1</td>\n      <td>0</td>\n      <td>0</td>\n      <td>1</td>\n      <td>1</td>\n      <td>19</td>\n      <td>0</td>\n      <td>...</td>\n      <td>NaN</td>\n      <td>NaN</td>\n      <td>NaN</td>\n      <td>NaN</td>\n      <td>NaN</td>\n      <td>NaN</td>\n      <td>NaN</td>\n      <td>NaN</td>\n      <td>NaN</td>\n      <td>5.1</td>\n    </tr>\n    <tr>\n      <th>89</th>\n      <td>2</td>\n      <td>2017</td>\n      <td>1</td>\n      <td>1</td>\n      <td>0</td>\n      <td>0</td>\n      <td>1</td>\n      <td>1</td>\n      <td>19</td>\n      <td>0</td>\n      <td>...</td>\n      <td>NaN</td>\n      <td>NaN</td>\n      <td>NaN</td>\n      <td>NaN</td>\n      <td>NaN</td>\n      <td>NaN</td>\n      <td>NaN</td>\n      <td>NaN</td>\n      <td>NaN</td>\n      <td>5.1</td>\n    </tr>\n    <tr>\n      <th>90</th>\n      <td>2</td>\n      <td>2018</td>\n      <td>1</td>\n      <td>1</td>\n      <td>0</td>\n      <td>0</td>\n      <td>1</td>\n      <td>1</td>\n      <td>19</td>\n      <td>0</td>\n      <td>...</td>\n      <td>NaN</td>\n      <td>NaN</td>\n      <td>NaN</td>\n      <td>NaN</td>\n      <td>NaN</td>\n      <td>NaN</td>\n      <td>NaN</td>\n      <td>NaN</td>\n      <td>NaN</td>\n      <td>5.1</td>\n    </tr>\n  </tbody>\n</table>\n<p>91 rows × 70 columns</p>\n</div>"
     },
     "execution_count": 5,
     "metadata": {},
     "output_type": "execute_result"
    }
   ],
   "source": [
    "atop_state_year[atop_state_year[\"state\"] == 2]"
   ],
   "metadata": {
    "collapsed": false
   }
  }
 ],
 "metadata": {
  "kernelspec": {
   "display_name": "Python 3",
   "language": "python",
   "name": "python3"
  },
  "language_info": {
   "codemirror_mode": {
    "name": "ipython",
    "version": 2
   },
   "file_extension": ".py",
   "mimetype": "text/x-python",
   "name": "python",
   "nbconvert_exporter": "python",
   "pygments_lexer": "ipython2",
   "version": "2.7.6"
  }
 },
 "nbformat": 4,
 "nbformat_minor": 0
}
