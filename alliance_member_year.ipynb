{
 "cells": [
  {
   "cell_type": "code",
   "execution_count": 3,
   "metadata": {
    "collapsed": true
   },
   "outputs": [],
   "source": [
    "import pandas as pd\n",
    "import numpy as np\n",
    "import matplotlib.pyplot as plt\n",
    "import seaborn as sns\n",
    "from sklearn.model_selection import train_test_split\n",
    "from sklearn.linear_model import LinearRegression\n",
    "from sklearn.metrics import mean_squared_error"
   ]
  },
  {
   "cell_type": "code",
   "execution_count": 4,
   "outputs": [],
   "source": [
    "#ally_direct = pd.read_csv(\"./alliances/alliance_v4.1_by_directed.csv\")\n",
    "#ally_direct_year = pd.read_csv(\"/alliances/alliance_v4.1_by_directed_yearly.csv\")\n",
    "#ally_dyad = pd.read_csv(\"/alliances/alliance_v4.1_by_dyad.csv\")\n",
    "#ally_dyad_year = pd.read_csv(\"/alliances/alliance_v4.1_by_dyad_yearly.csv\")\n",
    "#ally_member = pd.read_csv(\"./alliances/alliance_v4.1_by_member.csv\")\n",
    "ally_member_year = pd.read_csv(\"./alliances/alliance_v4.1_by_member_yearly.csv\")"
   ],
   "metadata": {
    "collapsed": false
   }
  },
  {
   "cell_type": "markdown",
   "source": [],
   "metadata": {
    "collapsed": false
   }
  },
  {
   "cell_type": "code",
   "execution_count": 5,
   "outputs": [
    {
     "name": "stdout",
     "output_type": "stream",
     "text": [
      "<class 'pandas.core.frame.DataFrame'>\n",
      "RangeIndex: 21315 entries, 0 to 21314\n",
      "Data columns (total 24 columns):\n",
      " #   Column         Non-Null Count  Dtype  \n",
      "---  ------         --------------  -----  \n",
      " 0   version4id     21315 non-null  int64  \n",
      " 1   ccode          21315 non-null  int64  \n",
      " 2   state_name     21315 non-null  object \n",
      " 3   all_st_day     21315 non-null  int64  \n",
      " 4   all_st_month   21315 non-null  int64  \n",
      " 5   all_st_year    21315 non-null  int64  \n",
      " 6   all_end_day    9408 non-null   float64\n",
      " 7   all_end_month  9408 non-null   float64\n",
      " 8   all_end_year   9408 non-null   float64\n",
      " 9   ss_type        21315 non-null  object \n",
      " 10  mem_st_day     21315 non-null  int64  \n",
      " 11  mem_st_month   21315 non-null  int64  \n",
      " 12  mem_st_year    21315 non-null  int64  \n",
      " 13  mem_end_day    9747 non-null   float64\n",
      " 14  mem_end_month  9747 non-null   float64\n",
      " 15  mem_end_year   21315 non-null  int64  \n",
      " 16  left_censor    21297 non-null  float64\n",
      " 17  right_censor   21315 non-null  int64  \n",
      " 18  defense        21315 non-null  int64  \n",
      " 19  neutrality     21315 non-null  int64  \n",
      " 20  nonaggression  21308 non-null  float64\n",
      " 21  entente        21291 non-null  float64\n",
      " 22  year           21315 non-null  int64  \n",
      " 23  version        21315 non-null  float64\n",
      "dtypes: float64(9), int64(13), object(2)\n",
      "memory usage: 3.9+ MB\n"
     ]
    },
    {
     "data": {
      "text/plain": "   version4id  ccode      state_name  all_st_day  all_st_month  all_st_year  \\\n0           1    200  United Kingdom           9             5         1386   \n1           1    200  United Kingdom           9             5         1386   \n2           1    200  United Kingdom           9             5         1386   \n3           1    200  United Kingdom           9             5         1386   \n4           1    200  United Kingdom           9             5         1386   \n\n   all_end_day  all_end_month  all_end_year               ss_type  ...  \\\n0          NaN            NaN           NaN  Type I: Defense Pact  ...   \n1          NaN            NaN           NaN  Type I: Defense Pact  ...   \n2          NaN            NaN           NaN  Type I: Defense Pact  ...   \n3          NaN            NaN           NaN  Type I: Defense Pact  ...   \n4          NaN            NaN           NaN  Type I: Defense Pact  ...   \n\n   mem_end_month  mem_end_year  left_censor  right_censor  defense  \\\n0            NaN          2012          1.0             1        1   \n1            NaN          2012          1.0             1        1   \n2            NaN          2012          1.0             1        1   \n3            NaN          2012          1.0             1        1   \n4            NaN          2012          1.0             1        1   \n\n   neutrality  nonaggression  entente  year  version  \n0           0            1.0      0.0  1816      4.1  \n1           0            1.0      0.0  1817      4.1  \n2           0            1.0      0.0  1818      4.1  \n3           0            1.0      0.0  1819      4.1  \n4           0            1.0      0.0  1820      4.1  \n\n[5 rows x 24 columns]",
      "text/html": "<div>\n<style scoped>\n    .dataframe tbody tr th:only-of-type {\n        vertical-align: middle;\n    }\n\n    .dataframe tbody tr th {\n        vertical-align: top;\n    }\n\n    .dataframe thead th {\n        text-align: right;\n    }\n</style>\n<table border=\"1\" class=\"dataframe\">\n  <thead>\n    <tr style=\"text-align: right;\">\n      <th></th>\n      <th>version4id</th>\n      <th>ccode</th>\n      <th>state_name</th>\n      <th>all_st_day</th>\n      <th>all_st_month</th>\n      <th>all_st_year</th>\n      <th>all_end_day</th>\n      <th>all_end_month</th>\n      <th>all_end_year</th>\n      <th>ss_type</th>\n      <th>...</th>\n      <th>mem_end_month</th>\n      <th>mem_end_year</th>\n      <th>left_censor</th>\n      <th>right_censor</th>\n      <th>defense</th>\n      <th>neutrality</th>\n      <th>nonaggression</th>\n      <th>entente</th>\n      <th>year</th>\n      <th>version</th>\n    </tr>\n  </thead>\n  <tbody>\n    <tr>\n      <th>0</th>\n      <td>1</td>\n      <td>200</td>\n      <td>United Kingdom</td>\n      <td>9</td>\n      <td>5</td>\n      <td>1386</td>\n      <td>NaN</td>\n      <td>NaN</td>\n      <td>NaN</td>\n      <td>Type I: Defense Pact</td>\n      <td>...</td>\n      <td>NaN</td>\n      <td>2012</td>\n      <td>1.0</td>\n      <td>1</td>\n      <td>1</td>\n      <td>0</td>\n      <td>1.0</td>\n      <td>0.0</td>\n      <td>1816</td>\n      <td>4.1</td>\n    </tr>\n    <tr>\n      <th>1</th>\n      <td>1</td>\n      <td>200</td>\n      <td>United Kingdom</td>\n      <td>9</td>\n      <td>5</td>\n      <td>1386</td>\n      <td>NaN</td>\n      <td>NaN</td>\n      <td>NaN</td>\n      <td>Type I: Defense Pact</td>\n      <td>...</td>\n      <td>NaN</td>\n      <td>2012</td>\n      <td>1.0</td>\n      <td>1</td>\n      <td>1</td>\n      <td>0</td>\n      <td>1.0</td>\n      <td>0.0</td>\n      <td>1817</td>\n      <td>4.1</td>\n    </tr>\n    <tr>\n      <th>2</th>\n      <td>1</td>\n      <td>200</td>\n      <td>United Kingdom</td>\n      <td>9</td>\n      <td>5</td>\n      <td>1386</td>\n      <td>NaN</td>\n      <td>NaN</td>\n      <td>NaN</td>\n      <td>Type I: Defense Pact</td>\n      <td>...</td>\n      <td>NaN</td>\n      <td>2012</td>\n      <td>1.0</td>\n      <td>1</td>\n      <td>1</td>\n      <td>0</td>\n      <td>1.0</td>\n      <td>0.0</td>\n      <td>1818</td>\n      <td>4.1</td>\n    </tr>\n    <tr>\n      <th>3</th>\n      <td>1</td>\n      <td>200</td>\n      <td>United Kingdom</td>\n      <td>9</td>\n      <td>5</td>\n      <td>1386</td>\n      <td>NaN</td>\n      <td>NaN</td>\n      <td>NaN</td>\n      <td>Type I: Defense Pact</td>\n      <td>...</td>\n      <td>NaN</td>\n      <td>2012</td>\n      <td>1.0</td>\n      <td>1</td>\n      <td>1</td>\n      <td>0</td>\n      <td>1.0</td>\n      <td>0.0</td>\n      <td>1819</td>\n      <td>4.1</td>\n    </tr>\n    <tr>\n      <th>4</th>\n      <td>1</td>\n      <td>200</td>\n      <td>United Kingdom</td>\n      <td>9</td>\n      <td>5</td>\n      <td>1386</td>\n      <td>NaN</td>\n      <td>NaN</td>\n      <td>NaN</td>\n      <td>Type I: Defense Pact</td>\n      <td>...</td>\n      <td>NaN</td>\n      <td>2012</td>\n      <td>1.0</td>\n      <td>1</td>\n      <td>1</td>\n      <td>0</td>\n      <td>1.0</td>\n      <td>0.0</td>\n      <td>1820</td>\n      <td>4.1</td>\n    </tr>\n  </tbody>\n</table>\n<p>5 rows × 24 columns</p>\n</div>"
     },
     "execution_count": 5,
     "metadata": {},
     "output_type": "execute_result"
    }
   ],
   "source": [
    "ally_member_year.info()\n",
    "\n",
    "ally_member_year.head()"
   ],
   "metadata": {
    "collapsed": false
   }
  },
  {
   "cell_type": "code",
   "execution_count": 6,
   "outputs": [
    {
     "data": {
      "text/plain": "       version4id  ccode state_name  all_st_day  all_st_month  all_st_year  \\\n21310         414    666     Israel          30            11         1981   \n21311         414    666     Israel          30            11         1981   \n21312         414    666     Israel          30            11         1981   \n21313         414    666     Israel          30            11         1981   \n21314         414    666     Israel          30            11         1981   \n\n       all_end_day  all_end_month  all_end_year            ss_type  ...  \\\n21310         26.0           12.0        1991.0  Type III: Entente  ...   \n21311         26.0           12.0        1991.0  Type III: Entente  ...   \n21312         26.0           12.0        1991.0  Type III: Entente  ...   \n21313         26.0           12.0        1991.0  Type III: Entente  ...   \n21314         26.0           12.0        1991.0  Type III: Entente  ...   \n\n       mem_end_month  mem_end_year  left_censor  right_censor  defense  \\\n21310           12.0          1991          0.0             0        0   \n21311           12.0          1991          0.0             0        0   \n21312           12.0          1991          0.0             0        0   \n21313           12.0          1991          0.0             0        0   \n21314           12.0          1991          0.0             0        0   \n\n       neutrality  nonaggression  entente  year  version  \n21310           0            0.0      1.0  1987      4.1  \n21311           0            0.0      1.0  1988      4.1  \n21312           0            0.0      1.0  1989      4.1  \n21313           0            0.0      1.0  1990      4.1  \n21314           0            0.0      1.0  1991      4.1  \n\n[5 rows x 24 columns]",
      "text/html": "<div>\n<style scoped>\n    .dataframe tbody tr th:only-of-type {\n        vertical-align: middle;\n    }\n\n    .dataframe tbody tr th {\n        vertical-align: top;\n    }\n\n    .dataframe thead th {\n        text-align: right;\n    }\n</style>\n<table border=\"1\" class=\"dataframe\">\n  <thead>\n    <tr style=\"text-align: right;\">\n      <th></th>\n      <th>version4id</th>\n      <th>ccode</th>\n      <th>state_name</th>\n      <th>all_st_day</th>\n      <th>all_st_month</th>\n      <th>all_st_year</th>\n      <th>all_end_day</th>\n      <th>all_end_month</th>\n      <th>all_end_year</th>\n      <th>ss_type</th>\n      <th>...</th>\n      <th>mem_end_month</th>\n      <th>mem_end_year</th>\n      <th>left_censor</th>\n      <th>right_censor</th>\n      <th>defense</th>\n      <th>neutrality</th>\n      <th>nonaggression</th>\n      <th>entente</th>\n      <th>year</th>\n      <th>version</th>\n    </tr>\n  </thead>\n  <tbody>\n    <tr>\n      <th>21310</th>\n      <td>414</td>\n      <td>666</td>\n      <td>Israel</td>\n      <td>30</td>\n      <td>11</td>\n      <td>1981</td>\n      <td>26.0</td>\n      <td>12.0</td>\n      <td>1991.0</td>\n      <td>Type III: Entente</td>\n      <td>...</td>\n      <td>12.0</td>\n      <td>1991</td>\n      <td>0.0</td>\n      <td>0</td>\n      <td>0</td>\n      <td>0</td>\n      <td>0.0</td>\n      <td>1.0</td>\n      <td>1987</td>\n      <td>4.1</td>\n    </tr>\n    <tr>\n      <th>21311</th>\n      <td>414</td>\n      <td>666</td>\n      <td>Israel</td>\n      <td>30</td>\n      <td>11</td>\n      <td>1981</td>\n      <td>26.0</td>\n      <td>12.0</td>\n      <td>1991.0</td>\n      <td>Type III: Entente</td>\n      <td>...</td>\n      <td>12.0</td>\n      <td>1991</td>\n      <td>0.0</td>\n      <td>0</td>\n      <td>0</td>\n      <td>0</td>\n      <td>0.0</td>\n      <td>1.0</td>\n      <td>1988</td>\n      <td>4.1</td>\n    </tr>\n    <tr>\n      <th>21312</th>\n      <td>414</td>\n      <td>666</td>\n      <td>Israel</td>\n      <td>30</td>\n      <td>11</td>\n      <td>1981</td>\n      <td>26.0</td>\n      <td>12.0</td>\n      <td>1991.0</td>\n      <td>Type III: Entente</td>\n      <td>...</td>\n      <td>12.0</td>\n      <td>1991</td>\n      <td>0.0</td>\n      <td>0</td>\n      <td>0</td>\n      <td>0</td>\n      <td>0.0</td>\n      <td>1.0</td>\n      <td>1989</td>\n      <td>4.1</td>\n    </tr>\n    <tr>\n      <th>21313</th>\n      <td>414</td>\n      <td>666</td>\n      <td>Israel</td>\n      <td>30</td>\n      <td>11</td>\n      <td>1981</td>\n      <td>26.0</td>\n      <td>12.0</td>\n      <td>1991.0</td>\n      <td>Type III: Entente</td>\n      <td>...</td>\n      <td>12.0</td>\n      <td>1991</td>\n      <td>0.0</td>\n      <td>0</td>\n      <td>0</td>\n      <td>0</td>\n      <td>0.0</td>\n      <td>1.0</td>\n      <td>1990</td>\n      <td>4.1</td>\n    </tr>\n    <tr>\n      <th>21314</th>\n      <td>414</td>\n      <td>666</td>\n      <td>Israel</td>\n      <td>30</td>\n      <td>11</td>\n      <td>1981</td>\n      <td>26.0</td>\n      <td>12.0</td>\n      <td>1991.0</td>\n      <td>Type III: Entente</td>\n      <td>...</td>\n      <td>12.0</td>\n      <td>1991</td>\n      <td>0.0</td>\n      <td>0</td>\n      <td>0</td>\n      <td>0</td>\n      <td>0.0</td>\n      <td>1.0</td>\n      <td>1991</td>\n      <td>4.1</td>\n    </tr>\n  </tbody>\n</table>\n<p>5 rows × 24 columns</p>\n</div>"
     },
     "execution_count": 6,
     "metadata": {},
     "output_type": "execute_result"
    }
   ],
   "source": [
    "ally_member_year.tail()"
   ],
   "metadata": {
    "collapsed": false
   }
  },
  {
   "cell_type": "code",
   "execution_count": 7,
   "outputs": [
    {
     "data": {
      "text/plain": "version4id           0\nccode                0\nstate_name           0\nall_st_day           0\nall_st_month         0\nall_st_year          0\nall_end_day      11907\nall_end_month    11907\nall_end_year     11907\nss_type              0\nmem_st_day           0\nmem_st_month         0\nmem_st_year          0\nmem_end_day      11568\nmem_end_month    11568\nmem_end_year         0\nleft_censor         18\nright_censor         0\ndefense              0\nneutrality           0\nnonaggression        7\nentente             24\nyear                 0\nversion              0\ndtype: int64"
     },
     "execution_count": 7,
     "metadata": {},
     "output_type": "execute_result"
    }
   ],
   "source": [
    "ally_member_year.isnull().sum()"
   ],
   "metadata": {
    "collapsed": false
   }
  },
  {
   "cell_type": "code",
   "execution_count": 14,
   "outputs": [
    {
     "name": "stdout",
     "output_type": "stream",
     "text": [
      "       version4id  ccode      state_name  all_st_day  all_st_month  \\\n",
      "189             1    200  United Kingdom           9             5   \n",
      "9537          218    200  United Kingdom          17             3   \n",
      "10811         227    200  United Kingdom           4             4   \n",
      "\n",
      "       all_st_year  all_end_day  all_end_month  all_end_year  \\\n",
      "189           1386          NaN            NaN           NaN   \n",
      "9537          1948          NaN            NaN           NaN   \n",
      "10811         1949          NaN            NaN           NaN   \n",
      "\n",
      "                    ss_type  ...  mem_end_month  mem_end_year  left_censor  \\\n",
      "189    Type I: Defense Pact  ...            NaN          2012          1.0   \n",
      "9537   Type I: Defense Pact  ...            NaN          2012          0.0   \n",
      "10811  Type I: Defense Pact  ...            NaN          2012          0.0   \n",
      "\n",
      "       right_censor  defense  neutrality  nonaggression  entente  year  \\\n",
      "189               1        1           0            1.0      0.0  2005   \n",
      "9537              1        1           0            0.0      1.0  2005   \n",
      "10811             1        1           0            1.0      1.0  2005   \n",
      "\n",
      "       version  \n",
      "189        4.1  \n",
      "9537       4.1  \n",
      "10811      4.1  \n",
      "\n",
      "[3 rows x 24 columns]\n"
     ]
    }
   ],
   "source": [],
   "metadata": {
    "collapsed": false
   }
  },
  {
   "cell_type": "code",
   "execution_count": null,
   "outputs": [],
   "source": [],
   "metadata": {
    "collapsed": false
   }
  }
 ],
 "metadata": {
  "kernelspec": {
   "display_name": "Python 3",
   "language": "python",
   "name": "python3"
  },
  "language_info": {
   "codemirror_mode": {
    "name": "ipython",
    "version": 2
   },
   "file_extension": ".py",
   "mimetype": "text/x-python",
   "name": "python",
   "nbconvert_exporter": "python",
   "pygments_lexer": "ipython2",
   "version": "2.7.6"
  }
 },
 "nbformat": 4,
 "nbformat_minor": 0
}
